{
  "nbformat": 4,
  "nbformat_minor": 0,
  "metadata": {
    "anaconda-cloud": {},
    "kernelspec": {
      "display_name": "Python 3.6 (tensorflow)",
      "language": "python",
      "name": "rga"
    },
    "language_info": {
      "codemirror_mode": {
        "name": "ipython",
        "version": 3
      },
      "file_extension": ".py",
      "mimetype": "text/x-python",
      "name": "python",
      "nbconvert_exporter": "python",
      "pygments_lexer": "ipython3",
      "version": "3.6.9"
    },
    "colab": {
      "name": "t81_558_class_03_2_keras.ipynb",
      "provenance": []
    }
  },
  "cells": [
    {
      "cell_type": "markdown",
      "metadata": {
        "id": "prJiX9rIrPzx",
        "colab_type": "text"
      },
      "source": [
        "# T81-558: Applications of Deep Neural Networks\n",
        "**Module 3: Introduction to TensorFlow**\n",
        "* Instructor: [Jeff Heaton](https://sites.wustl.edu/jeffheaton/), McKelvey School of Engineering, [Washington University in St. Louis](https://engineering.wustl.edu/Programs/Pages/default.aspx)\n",
        "* For more information visit the [class website](https://sites.wustl.edu/jeffheaton/t81-558/)."
      ]
    },
    {
      "cell_type": "markdown",
      "metadata": {
        "id": "ZaekXbHJrPzy",
        "colab_type": "text"
      },
      "source": [
        "# Module 3 Material\n",
        "\n",
        "* Part 3.1: Deep Learning and Neural Network Introduction [[Video]](https://www.youtube.com/watch?v=zYnI4iWRmpc&list=PLjy4p-07OYzulelvJ5KVaT2pDlxivl_BN) [[Notebook]](t81_558_class_03_1_neural_net.ipynb)\n",
        "* **Part 3.2: Introduction to Tensorflow and Keras** [[Video]](https://www.youtube.com/watch?v=PsE73jk55cE&list=PLjy4p-07OYzulelvJ5KVaT2pDlxivl_BN) [[Notebook]](t81_558_class_03_2_keras.ipynb)\n",
        "* Part 3.3: Saving and Loading a Keras Neural Network [[Video]](https://www.youtube.com/watch?v=-9QfbGM1qGw&list=PLjy4p-07OYzulelvJ5KVaT2pDlxivl_BN) [[Notebook]](t81_558_class_03_3_save_load.ipynb)\n",
        "* Part 3.4: Early Stopping in Keras to Prevent Overfitting [[Video]](https://www.youtube.com/watch?v=m1LNunuI2fk&list=PLjy4p-07OYzulelvJ5KVaT2pDlxivl_BN) [[Notebook]](t81_558_class_03_4_early_stop.ipynb)\n",
        "* Part 3.5: Extracting Weights and Manual Calculation [[Video]](https://www.youtube.com/watch?v=7PWgx16kH8s&list=PLjy4p-07OYzulelvJ5KVaT2pDlxivl_BN) [[Notebook]](t81_558_class_03_5_weights.ipynb)"
      ]
    },
    {
      "cell_type": "markdown",
      "metadata": {
        "id": "P5PTKH8_rPzz",
        "colab_type": "text"
      },
      "source": [
        "# Part 3.2: Introduction to Tensorflow and Keras\n",
        "\n",
        "![TensorFlow](https://raw.githubusercontent.com/jeffheaton/t81_558_deep_learning/master/images/class_2_tensorflow.png \"TensorFlow\")\n",
        "\n",
        "TensorFlow is an open source software library for machine learning in various kinds of perceptual and language understanding tasks. It is currently used for both research and production by different teams in many commercial Google products, such as speech recognition, Gmail, Google Photos, and search, many of which had previously used its predecessor DistBelief. TensorFlow was originally developed by the Google Brain team for Google's research and production purposes and later released under the Apache 2.0 open source license on November 9, 2015.\n",
        "\n",
        "* [TensorFlow Homepage](https://www.tensorflow.org/)\n",
        "* [TensorFlow GitHib](https://github.com/tensorflow/tensorflow)\n",
        "* [TensorFlow Google Groups Support](https://groups.google.com/forum/#!forum/tensorflow)\n",
        "* [TensorFlow Google Groups Developer Discussion](https://groups.google.com/a/tensorflow.org/forum/#!forum/discuss)\n",
        "* [TensorFlow FAQ](https://www.tensorflow.org/resources/faq)\n"
      ]
    },
    {
      "cell_type": "markdown",
      "metadata": {
        "id": "7boYbeKTrPz0",
        "colab_type": "text"
      },
      "source": [
        "### What version of TensorFlow do you have?\n",
        "\n",
        "TensorFlow is very new and changing rapidly.  It is very important that you run the same version of it that I am using.  For this semester we will use a specific version of TensorFlow (mentioned in the last class notes)."
      ]
    },
    {
      "cell_type": "markdown",
      "metadata": {
        "id": "bmOxAJPQrPz1",
        "colab_type": "text"
      },
      "source": [
        "![Self Driving Car](http://imgc-cn.artprintimages.com/images/P-473-488-90/94/9475/CFB6500Z/posters/paul-noth-does-your-car-have-any-idea-why-my-car-pulled-it-over-new-yorker-cartoon.jpg)\n",
        "\n",
        "[Wrong version of TensorFlow?](https://twitter.com/reza_zadeh/status/849160032608440320)"
      ]
    },
    {
      "cell_type": "code",
      "metadata": {
        "id": "Y9zKbJ_XrPz2",
        "colab_type": "code",
        "colab": {
          "base_uri": "https://localhost:8080/",
          "height": 34
        },
        "outputId": "22853135-95d8-4d64-b406-f48fcebdee22"
      },
      "source": [
        "import tensorflow as tf\n",
        "print(\"Tensor Flow Version: {}\".format(tf.__version__))"
      ],
      "execution_count": 1,
      "outputs": [
        {
          "output_type": "stream",
          "text": [
            "Tensor Flow Version: 1.15.0\n"
          ],
          "name": "stdout"
        }
      ]
    },
    {
      "cell_type": "markdown",
      "metadata": {
        "id": "FrOoU2mXrPz4",
        "colab_type": "text"
      },
      "source": [
        "### Installing TensorFlow\n",
        "\n",
        "* [Google CoLab](https://colab.research.google.com/) - All platforms, use your browser (includes a GPU).\n",
        "* Windows - Supported platform.\n",
        "* Mac - Supported platform.\n",
        "* Linux - Supported platform."
      ]
    },
    {
      "cell_type": "markdown",
      "metadata": {
        "id": "P6NsiZmSrPz5",
        "colab_type": "text"
      },
      "source": [
        "### Why TensorFlow\n",
        "\n",
        "* Supported by Google\n",
        "* Works well on Linux/Mac\n",
        "* Excellent GPU support\n",
        "* Python is an easy to learn programming language\n",
        "* Python is [extremely popular](http://www.kdnuggets.com/2014/08/four-main-languages-analytics-data-mining-data-science.html) in the data science community\n",
        "\n",
        "### Other Deep Learning Tools\n",
        "TensorFlow is not the only only game in town.  These are some of the best supported alternatives.  Most of these are written in C++. In order of my own preference (ordered in my own estimation of approximate importance):\n",
        "\n",
        "* [TensorFlow](https://www.tensorflow.org/) Google's deep learning API.  The focus of this class, along with Keras.\n",
        "* [MXNet](https://mxnet.incubator.apache.org/) Apache foundation's deep learning API. Can be used through Keras.\n",
        "* [Theano](http://deeplearning.net/software/theano/) - Python, from the academics that created deep learning.\n",
        "* [Keras](https://keras.io/) - Also by Google, higher level framework that allows the use of TensorFlow, MXNet and Theano interchangeably.\n",
        "[Torch](http://torch.ch/) is used by Google DeepMind, the Facebook AI Research Group, IBM, Yandex and the Idiap Research Institute.  It has been used for some of the most advanced deep learning projects in the world.  However, it requires the [LUA](https://en.wikipedia.org/wiki/Lua_(programming_language)) programming language.  It is very advanced, but it is not mainstream.  I have not worked with Torch (yet!).\n",
        "* [PaddlePaddle](https://github.com/baidu/Paddle) - [Baidu](http://www.baidu.com/)'s deep learning API.\n",
        "* [Deeplearning4J](http://deeplearning4j.org/) - Java based. Supports all major platforms. GPU support in Java!\n",
        "* [Computational Network Toolkit (CNTK)](https://github.com/Microsoft/CNTK) - Microsoft.  Support for Windows/Linux, command line only.  Bindings for predictions for C#/Python. GPU support.\n",
        "* [H2O](http://www.h2o.ai/) - Java based.  Supports all major platforms.  Limited support for computer vision. No GPU support.\n",
        "\n"
      ]
    },
    {
      "cell_type": "markdown",
      "metadata": {
        "id": "XxM-LhMzrPz6",
        "colab_type": "text"
      },
      "source": [
        "### Using TensorFlow\n",
        "\n",
        "TensorFlow is a low-level mathematics API, similar to [Numpy](http://www.numpy.org/).  However, unlike Numpy, TensorFlow is built for deep learning.  TensorFlow works by allowing you to define compute graphs with Python.  In this regard, it is similar to [Spark](http://spark.apache.org/).  TensorFlow compiles these compute graphs into highly efficient C++/[CUDA](https://en.wikipedia.org/wiki/CUDA) code.\n",
        "\n",
        "The [TensorBoard](https://www.tensorflow.org/versions/r0.10/how_tos/summaries_and_tensorboard/index.html) command line utility can be used to view these graphs.  The iris neural network's graph used in this class is shown here:\n",
        "\n",
        "![Iris Graph](https://raw.githubusercontent.com/jeffheaton/t81_558_deep_learning/master/images/class_2_graph_tf.png \"Iris Graph\")\n",
        "\n",
        "Expanding the DNN gives:\n",
        "\n",
        "\n",
        "![Iris DNN Graph](https://raw.githubusercontent.com/jeffheaton/t81_558_deep_learning/master/images/class_2_graph_dnn.png \"Iris DNN Graph\")\n"
      ]
    },
    {
      "cell_type": "markdown",
      "metadata": {
        "id": "qIb_0huerPz7",
        "colab_type": "text"
      },
      "source": [
        "### Using TensorFlow Directly\n",
        "\n",
        "Most of the time in the course we will communicate with TensorFlow using Keras, which allows you to specify the number of hidden layers and simply create the neural network.  "
      ]
    },
    {
      "cell_type": "code",
      "metadata": {
        "id": "hQkPMjHXrPz8",
        "colab_type": "code",
        "colab": {
          "base_uri": "https://localhost:8080/",
          "height": 195
        },
        "outputId": "81390956-5883-48a2-8235-be922d524872"
      },
      "source": [
        "# Import libraries for simulation\n",
        "import tensorflow as tf\n",
        "import numpy as np\n",
        "\n",
        "# Imports for visualization\n",
        "import PIL.Image\n",
        "from io import BytesIO\n",
        "from IPython.display import Image, display\n",
        "\n",
        "def DisplayFractal(a, fmt='jpeg'):\n",
        "  \"\"\"Display an array of iteration counts as a\n",
        "     colorful picture of a fractal.\"\"\"\n",
        "  a_cyclic = (6.28*a/20.0).reshape(list(a.shape)+[1])\n",
        "  img = np.concatenate([10+20*np.cos(a_cyclic),\n",
        "                        30+50*np.sin(a_cyclic),\n",
        "                        155-80*np.cos(a_cyclic)], 2)\n",
        "  img[a==a.max()] = 0\n",
        "  a = img\n",
        "  a = np.uint8(np.clip(a, 0, 255))\n",
        "  f = BytesIO()\n",
        "  PIL.Image.fromarray(a).save(f, fmt)\n",
        "  display(Image(data=f.getvalue()))\n",
        "\n",
        "# Use NumPy to create a 2D array of complex numbers\n",
        "\n",
        "Y, X = np.mgrid[-1.3:1.3:0.005, -2:1:0.005]\n",
        "Z = X+1j*Y\n",
        "\n",
        "xs = tf.constant(Z.astype(np.complex64))\n",
        "zs = tf.Variable(xs)\n",
        "ns = tf.Variable(tf.zeros_like(xs, tf.float32))\n",
        "\n",
        "\n",
        "\n",
        "# Operation to update the zs and the iteration count.\n",
        "#\n",
        "# Note: We keep computing zs after they diverge! This\n",
        "#       is very wasteful! There are better, if a little\n",
        "#       less simple, ways to do this.\n",
        "#\n",
        "for i in range(200):\n",
        "    # Compute the new values of z: z^2 + x\n",
        "    zs_ = zs*zs + xs\n",
        "\n",
        "    # Have we diverged with this new value?\n",
        "    not_diverged = tf.abs(zs_) < 4\n",
        "\n",
        "    zs.assign(zs_),\n",
        "    ns.assign_add(tf.cast(not_diverged, tf.float32))\n",
        "    \n",
        "DisplayFractal(ns.numpy())"
      ],
      "execution_count": 2,
      "outputs": [
        {
          "output_type": "error",
          "ename": "AttributeError",
          "evalue": "ignored",
          "traceback": [
            "\u001b[0;31m---------------------------------------------------------------------------\u001b[0m",
            "\u001b[0;31mAttributeError\u001b[0m                            Traceback (most recent call last)",
            "\u001b[0;32m<ipython-input-2-aaf2fcf53904>\u001b[0m in \u001b[0;36m<module>\u001b[0;34m()\u001b[0m\n\u001b[1;32m     48\u001b[0m     \u001b[0mns\u001b[0m\u001b[0;34m.\u001b[0m\u001b[0massign_add\u001b[0m\u001b[0;34m(\u001b[0m\u001b[0mtf\u001b[0m\u001b[0;34m.\u001b[0m\u001b[0mcast\u001b[0m\u001b[0;34m(\u001b[0m\u001b[0mnot_diverged\u001b[0m\u001b[0;34m,\u001b[0m \u001b[0mtf\u001b[0m\u001b[0;34m.\u001b[0m\u001b[0mfloat32\u001b[0m\u001b[0;34m)\u001b[0m\u001b[0;34m)\u001b[0m\u001b[0;34m\u001b[0m\u001b[0;34m\u001b[0m\u001b[0m\n\u001b[1;32m     49\u001b[0m \u001b[0;34m\u001b[0m\u001b[0m\n\u001b[0;32m---> 50\u001b[0;31m \u001b[0mDisplayFractal\u001b[0m\u001b[0;34m(\u001b[0m\u001b[0mns\u001b[0m\u001b[0;34m.\u001b[0m\u001b[0mnumpy\u001b[0m\u001b[0;34m(\u001b[0m\u001b[0;34m)\u001b[0m\u001b[0;34m)\u001b[0m\u001b[0;34m\u001b[0m\u001b[0;34m\u001b[0m\u001b[0m\n\u001b[0m",
            "\u001b[0;31mAttributeError\u001b[0m: 'RefVariable' object has no attribute 'numpy'"
          ]
        }
      ]
    },
    {
      "cell_type": "code",
      "metadata": {
        "id": "2QmqbbzCrPz_",
        "colab_type": "code",
        "colab": {
          "base_uri": "https://localhost:8080/",
          "height": 212
        },
        "outputId": "840d5c9d-012f-4f3b-f084-b88eb7b8c928"
      },
      "source": [
        "import tensorflow as tf\n",
        "\n",
        "# Create a Constant op that produces a 1x2 matrix.  The op is\n",
        "# added as a node to the default graph.\n",
        "#\n",
        "# The value returned by the constructor represents the output\n",
        "# of the Constant op.\n",
        "matrix1 = tf.constant([[3., 3.]])\n",
        "\n",
        "# Create another Constant that produces a 2x1 matrix.\n",
        "matrix2 = tf.constant([[2.],[2.]])\n",
        "\n",
        "# Create a Matmul op that takes 'matrix1' and 'matrix2' as inputs.\n",
        "# The returned value, 'product', represents the result of the matrix\n",
        "# multiplication.\n",
        "product = tf.matmul(matrix1, matrix2)\n",
        "\n",
        "print(product)\n",
        "print(float(product))"
      ],
      "execution_count": 3,
      "outputs": [
        {
          "output_type": "stream",
          "text": [
            "Tensor(\"MatMul:0\", shape=(1, 1), dtype=float32)\n"
          ],
          "name": "stdout"
        },
        {
          "output_type": "error",
          "ename": "TypeError",
          "evalue": "ignored",
          "traceback": [
            "\u001b[0;31m---------------------------------------------------------------------------\u001b[0m",
            "\u001b[0;31mTypeError\u001b[0m                                 Traceback (most recent call last)",
            "\u001b[0;32m<ipython-input-3-c8f0a53e3bd7>\u001b[0m in \u001b[0;36m<module>\u001b[0;34m()\u001b[0m\n\u001b[1;32m     17\u001b[0m \u001b[0;34m\u001b[0m\u001b[0m\n\u001b[1;32m     18\u001b[0m \u001b[0mprint\u001b[0m\u001b[0;34m(\u001b[0m\u001b[0mproduct\u001b[0m\u001b[0;34m)\u001b[0m\u001b[0;34m\u001b[0m\u001b[0;34m\u001b[0m\u001b[0m\n\u001b[0;32m---> 19\u001b[0;31m \u001b[0mprint\u001b[0m\u001b[0;34m(\u001b[0m\u001b[0mfloat\u001b[0m\u001b[0;34m(\u001b[0m\u001b[0mproduct\u001b[0m\u001b[0;34m)\u001b[0m\u001b[0;34m)\u001b[0m\u001b[0;34m\u001b[0m\u001b[0;34m\u001b[0m\u001b[0m\n\u001b[0m",
            "\u001b[0;31mTypeError\u001b[0m: float() argument must be a string or a number, not 'Tensor'"
          ]
        }
      ]
    },
    {
      "cell_type": "code",
      "metadata": {
        "id": "AKAdw50yrP0B",
        "colab_type": "code",
        "colab": {
          "base_uri": "https://localhost:8080/",
          "height": 229
        },
        "outputId": "ab89c934-668c-4da0-c28b-1d646dae23cb"
      },
      "source": [
        "# Enter an interactive TensorFlow Session.\n",
        "import tensorflow as tf\n",
        "\n",
        "x = tf.Variable([1.0, 2.0])\n",
        "a = tf.constant([3.0, 3.0])\n",
        "\n",
        "# Add an op to subtract 'a' from 'x'.  Run it and print the result\n",
        "sub = tf.subtract(x, a)\n",
        "print(sub)\n",
        "print(sub.numpy())\n",
        "# ==> [-2. -1.]"
      ],
      "execution_count": 4,
      "outputs": [
        {
          "output_type": "stream",
          "text": [
            "Tensor(\"Sub:0\", shape=(2,), dtype=float32)\n"
          ],
          "name": "stdout"
        },
        {
          "output_type": "error",
          "ename": "AttributeError",
          "evalue": "ignored",
          "traceback": [
            "\u001b[0;31m---------------------------------------------------------------------------\u001b[0m",
            "\u001b[0;31mAttributeError\u001b[0m                            Traceback (most recent call last)",
            "\u001b[0;32m<ipython-input-4-f5fd4008d996>\u001b[0m in \u001b[0;36m<module>\u001b[0;34m()\u001b[0m\n\u001b[1;32m      7\u001b[0m \u001b[0msub\u001b[0m \u001b[0;34m=\u001b[0m \u001b[0mtf\u001b[0m\u001b[0;34m.\u001b[0m\u001b[0msubtract\u001b[0m\u001b[0;34m(\u001b[0m\u001b[0mx\u001b[0m\u001b[0;34m,\u001b[0m \u001b[0ma\u001b[0m\u001b[0;34m)\u001b[0m\u001b[0;34m\u001b[0m\u001b[0;34m\u001b[0m\u001b[0m\n\u001b[1;32m      8\u001b[0m \u001b[0mprint\u001b[0m\u001b[0;34m(\u001b[0m\u001b[0msub\u001b[0m\u001b[0;34m)\u001b[0m\u001b[0;34m\u001b[0m\u001b[0;34m\u001b[0m\u001b[0m\n\u001b[0;32m----> 9\u001b[0;31m \u001b[0mprint\u001b[0m\u001b[0;34m(\u001b[0m\u001b[0msub\u001b[0m\u001b[0;34m.\u001b[0m\u001b[0mnumpy\u001b[0m\u001b[0;34m(\u001b[0m\u001b[0;34m)\u001b[0m\u001b[0;34m)\u001b[0m\u001b[0;34m\u001b[0m\u001b[0;34m\u001b[0m\u001b[0m\n\u001b[0m\u001b[1;32m     10\u001b[0m \u001b[0;31m# ==> [-2. -1.]\u001b[0m\u001b[0;34m\u001b[0m\u001b[0;34m\u001b[0m\u001b[0;34m\u001b[0m\u001b[0m\n",
            "\u001b[0;31mAttributeError\u001b[0m: 'Tensor' object has no attribute 'numpy'"
          ]
        }
      ]
    },
    {
      "cell_type": "code",
      "metadata": {
        "id": "MzCaYcnOrP0D",
        "colab_type": "code",
        "colab": {
          "base_uri": "https://localhost:8080/",
          "height": 34
        },
        "outputId": "34252335-09fa-4162-f816-0746c387808f"
      },
      "source": [
        "x.assign([4.0, 6.0])"
      ],
      "execution_count": 5,
      "outputs": [
        {
          "output_type": "execute_result",
          "data": {
            "text/plain": [
              "<tf.Tensor 'Assign_200:0' shape=(2,) dtype=float32_ref>"
            ]
          },
          "metadata": {
            "tags": []
          },
          "execution_count": 5
        }
      ]
    },
    {
      "cell_type": "code",
      "metadata": {
        "id": "DkWUd9UErP0F",
        "colab_type": "code",
        "colab": {
          "base_uri": "https://localhost:8080/",
          "height": 212
        },
        "outputId": "5c195bec-82c9-423d-bde4-050cabf266bb"
      },
      "source": [
        "sub = tf.subtract(x, a)\n",
        "print(sub)\n",
        "print(sub.numpy())"
      ],
      "execution_count": 6,
      "outputs": [
        {
          "output_type": "stream",
          "text": [
            "Tensor(\"Sub_1:0\", shape=(2,), dtype=float32)\n"
          ],
          "name": "stdout"
        },
        {
          "output_type": "error",
          "ename": "AttributeError",
          "evalue": "ignored",
          "traceback": [
            "\u001b[0;31m---------------------------------------------------------------------------\u001b[0m",
            "\u001b[0;31mAttributeError\u001b[0m                            Traceback (most recent call last)",
            "\u001b[0;32m<ipython-input-6-6072692fec10>\u001b[0m in \u001b[0;36m<module>\u001b[0;34m()\u001b[0m\n\u001b[1;32m      1\u001b[0m \u001b[0msub\u001b[0m \u001b[0;34m=\u001b[0m \u001b[0mtf\u001b[0m\u001b[0;34m.\u001b[0m\u001b[0msubtract\u001b[0m\u001b[0;34m(\u001b[0m\u001b[0mx\u001b[0m\u001b[0;34m,\u001b[0m \u001b[0ma\u001b[0m\u001b[0;34m)\u001b[0m\u001b[0;34m\u001b[0m\u001b[0;34m\u001b[0m\u001b[0m\n\u001b[1;32m      2\u001b[0m \u001b[0mprint\u001b[0m\u001b[0;34m(\u001b[0m\u001b[0msub\u001b[0m\u001b[0;34m)\u001b[0m\u001b[0;34m\u001b[0m\u001b[0;34m\u001b[0m\u001b[0m\n\u001b[0;32m----> 3\u001b[0;31m \u001b[0mprint\u001b[0m\u001b[0;34m(\u001b[0m\u001b[0msub\u001b[0m\u001b[0;34m.\u001b[0m\u001b[0mnumpy\u001b[0m\u001b[0;34m(\u001b[0m\u001b[0;34m)\u001b[0m\u001b[0;34m)\u001b[0m\u001b[0;34m\u001b[0m\u001b[0;34m\u001b[0m\u001b[0m\n\u001b[0m",
            "\u001b[0;31mAttributeError\u001b[0m: 'Tensor' object has no attribute 'numpy'"
          ]
        }
      ]
    },
    {
      "cell_type": "markdown",
      "metadata": {
        "id": "LOERDUDGrP0H",
        "colab_type": "text"
      },
      "source": [
        "### Introduction to Keras\n",
        "\n",
        "[Keras](https://keras.io/) is a layer on top of Tensorflow that makes it much easier to create neural networks.  Rather than define the graphs, like you see above, you define the individual layers of the network with a much more high level API.  Unless you are performing research into entirely new structures of deep neural networks it is unlikely that you need to program TensorFlow directly.  \n",
        "\n",
        "**For this class, we will use usually use TensorFlow through Keras, rather than direct TensorFlow**\n",
        "\n",
        "Keras is a separate install from TensorFlow.  To install Keras, use **pip install keras** after **pip install tensorflow**."
      ]
    },
    {
      "cell_type": "markdown",
      "metadata": {
        "id": "x2cA_biCrP0I",
        "colab_type": "text"
      },
      "source": [
        "### Simple TensorFlow Regression: MPG\n",
        "\n",
        "This example shows how to encode the MPG dataset for regression.  This is slightly more complex than Iris, because:\n",
        "\n",
        "* Input has both numeric and categorical\n",
        "* Input has missing values\n",
        "\n",
        "This example uses functions defined above in this notepad, the \"helpful functions\". These functions allow you to build the feature vector for a neural network. Consider the following:\n",
        "\n",
        "* Predictors/Inputs \n",
        "    * Fill any missing inputs with the median for that column.  Use **missing_median**.\n",
        "    * Encode textual/categorical values with **encode_text_dummy**.\n",
        "    * Encode numeric values with **encode_numeric_zscore**.\n",
        "* Output\n",
        "    * Discard rows with missing outputs.\n",
        "    * Encode textual/categorical values with **encode_text_index**.\n",
        "    * Do not encode output numeric values.\n",
        "* Produce final feature vectors (x) and expected output (y) with **to_xy**.\n",
        "\n",
        "To encode categorical values that are part of the feature vector, use the functions from above.  If the categorical value is the target (as was the case with Iris, use the same technique as Iris). The iris technique allows you to decode back to Iris text strings from the predictions."
      ]
    },
    {
      "cell_type": "code",
      "metadata": {
        "id": "PXUbqjYwrP0I",
        "colab_type": "code",
        "colab": {
          "base_uri": "https://localhost:8080/",
          "height": 1000
        },
        "outputId": "2ef8fa50-f28c-4288-a414-6b517e7492e8"
      },
      "source": [
        "from tensorflow.keras.models import Sequential\n",
        "from tensorflow.keras.layers import Dense, Activation\n",
        "import pandas as pd\n",
        "import io\n",
        "import os\n",
        "import requests\n",
        "import numpy as np\n",
        "from sklearn import metrics\n",
        "\n",
        "df = pd.read_csv(\n",
        "    \"https://data.heatonresearch.com/data/t81-558/auto-mpg.csv\", \n",
        "    na_values=['NA', '?'])\n",
        "\n",
        "cars = df['name']\n",
        "\n",
        "# Handle missing value\n",
        "df['horsepower'] = df['horsepower'].fillna(df['horsepower'].median())\n",
        "\n",
        "# Pandas to Numpy\n",
        "x = df[['cylinders', 'displacement', 'horsepower', 'weight',\n",
        "       'acceleration', 'year', 'origin']].values\n",
        "y = df['mpg'].values # regression\n",
        "\n",
        "# Build the neural network\n",
        "model = Sequential()\n",
        "model.add(Dense(25, input_dim=x.shape[1], activation='relu')) # Hidden 1\n",
        "model.add(Dense(10, activation='relu')) # Hidden 2\n",
        "model.add(Dense(1)) # Output\n",
        "model.compile(loss='mean_squared_error', optimizer='adam')\n",
        "model.fit(x,y,verbose=2,epochs=100)"
      ],
      "execution_count": 7,
      "outputs": [
        {
          "output_type": "stream",
          "text": [
            "WARNING:tensorflow:From /usr/local/lib/python3.6/dist-packages/tensorflow_core/python/ops/resource_variable_ops.py:1630: calling BaseResourceVariable.__init__ (from tensorflow.python.ops.resource_variable_ops) with constraint is deprecated and will be removed in a future version.\n",
            "Instructions for updating:\n",
            "If using Keras pass *_constraint arguments to layers.\n",
            "Train on 398 samples\n",
            "Epoch 1/100\n",
            "398/398 - 1s - loss: 1263.9930\n",
            "Epoch 2/100\n",
            "398/398 - 0s - loss: 563.3223\n",
            "Epoch 3/100\n",
            "398/398 - 0s - loss: 365.2100\n",
            "Epoch 4/100\n",
            "398/398 - 0s - loss: 337.4656\n",
            "Epoch 5/100\n",
            "398/398 - 0s - loss: 272.8613\n",
            "Epoch 6/100\n",
            "398/398 - 0s - loss: 258.7021\n",
            "Epoch 7/100\n",
            "398/398 - 0s - loss: 253.4125\n",
            "Epoch 8/100\n",
            "398/398 - 0s - loss: 245.7739\n",
            "Epoch 9/100\n",
            "398/398 - 0s - loss: 228.9894\n",
            "Epoch 10/100\n",
            "398/398 - 0s - loss: 220.9745\n",
            "Epoch 11/100\n",
            "398/398 - 0s - loss: 203.2803\n",
            "Epoch 12/100\n",
            "398/398 - 0s - loss: 194.7735\n",
            "Epoch 13/100\n",
            "398/398 - 0s - loss: 184.9437\n",
            "Epoch 14/100\n",
            "398/398 - 0s - loss: 183.4311\n",
            "Epoch 15/100\n",
            "398/398 - 0s - loss: 174.9318\n",
            "Epoch 16/100\n",
            "398/398 - 0s - loss: 180.4696\n",
            "Epoch 17/100\n",
            "398/398 - 0s - loss: 159.1744\n",
            "Epoch 18/100\n",
            "398/398 - 0s - loss: 156.6882\n",
            "Epoch 19/100\n",
            "398/398 - 0s - loss: 157.8367\n",
            "Epoch 20/100\n",
            "398/398 - 0s - loss: 139.0958\n",
            "Epoch 21/100\n",
            "398/398 - 0s - loss: 135.8603\n",
            "Epoch 22/100\n",
            "398/398 - 0s - loss: 132.7190\n",
            "Epoch 23/100\n",
            "398/398 - 0s - loss: 148.7143\n",
            "Epoch 24/100\n",
            "398/398 - 0s - loss: 126.7288\n",
            "Epoch 25/100\n",
            "398/398 - 0s - loss: 122.3111\n",
            "Epoch 26/100\n",
            "398/398 - 0s - loss: 119.7593\n",
            "Epoch 27/100\n",
            "398/398 - 0s - loss: 112.0634\n",
            "Epoch 28/100\n",
            "398/398 - 0s - loss: 105.3262\n",
            "Epoch 29/100\n",
            "398/398 - 0s - loss: 104.9115\n",
            "Epoch 30/100\n",
            "398/398 - 0s - loss: 96.8052\n",
            "Epoch 31/100\n",
            "398/398 - 0s - loss: 99.8202\n",
            "Epoch 32/100\n",
            "398/398 - 0s - loss: 94.0132\n",
            "Epoch 33/100\n",
            "398/398 - 0s - loss: 86.7346\n",
            "Epoch 34/100\n",
            "398/398 - 0s - loss: 84.3181\n",
            "Epoch 35/100\n",
            "398/398 - 0s - loss: 86.2783\n",
            "Epoch 36/100\n",
            "398/398 - 0s - loss: 81.0284\n",
            "Epoch 37/100\n",
            "398/398 - 0s - loss: 77.0267\n",
            "Epoch 38/100\n",
            "398/398 - 0s - loss: 78.1099\n",
            "Epoch 39/100\n",
            "398/398 - 0s - loss: 74.6842\n",
            "Epoch 40/100\n",
            "398/398 - 0s - loss: 69.1228\n",
            "Epoch 41/100\n",
            "398/398 - 0s - loss: 66.4444\n",
            "Epoch 42/100\n",
            "398/398 - 0s - loss: 68.6175\n",
            "Epoch 43/100\n",
            "398/398 - 0s - loss: 62.2016\n",
            "Epoch 44/100\n",
            "398/398 - 0s - loss: 59.4413\n",
            "Epoch 45/100\n",
            "398/398 - 0s - loss: 58.5834\n",
            "Epoch 46/100\n",
            "398/398 - 0s - loss: 59.1930\n",
            "Epoch 47/100\n",
            "398/398 - 0s - loss: 57.4948\n",
            "Epoch 48/100\n",
            "398/398 - 0s - loss: 67.8463\n",
            "Epoch 49/100\n",
            "398/398 - 0s - loss: 51.9572\n",
            "Epoch 50/100\n",
            "398/398 - 0s - loss: 54.4683\n",
            "Epoch 51/100\n",
            "398/398 - 0s - loss: 47.8670\n",
            "Epoch 52/100\n",
            "398/398 - 0s - loss: 44.7344\n",
            "Epoch 53/100\n",
            "398/398 - 0s - loss: 41.1422\n",
            "Epoch 54/100\n",
            "398/398 - 0s - loss: 45.0872\n",
            "Epoch 55/100\n",
            "398/398 - 0s - loss: 44.1339\n",
            "Epoch 56/100\n",
            "398/398 - 0s - loss: 38.9894\n",
            "Epoch 57/100\n",
            "398/398 - 0s - loss: 40.5107\n",
            "Epoch 58/100\n",
            "398/398 - 0s - loss: 38.7847\n",
            "Epoch 59/100\n",
            "398/398 - 0s - loss: 35.2098\n",
            "Epoch 60/100\n",
            "398/398 - 0s - loss: 41.6069\n",
            "Epoch 61/100\n",
            "398/398 - 0s - loss: 40.6459\n",
            "Epoch 62/100\n",
            "398/398 - 0s - loss: 48.4466\n",
            "Epoch 63/100\n",
            "398/398 - 0s - loss: 36.2951\n",
            "Epoch 64/100\n",
            "398/398 - 0s - loss: 29.7395\n",
            "Epoch 65/100\n",
            "398/398 - 0s - loss: 35.1546\n",
            "Epoch 66/100\n",
            "398/398 - 0s - loss: 28.4671\n",
            "Epoch 67/100\n",
            "398/398 - 0s - loss: 31.2121\n",
            "Epoch 68/100\n",
            "398/398 - 0s - loss: 28.1784\n",
            "Epoch 69/100\n",
            "398/398 - 0s - loss: 26.1099\n",
            "Epoch 70/100\n",
            "398/398 - 0s - loss: 26.4120\n",
            "Epoch 71/100\n",
            "398/398 - 0s - loss: 22.8244\n",
            "Epoch 72/100\n",
            "398/398 - 0s - loss: 22.3916\n",
            "Epoch 73/100\n",
            "398/398 - 0s - loss: 21.8334\n",
            "Epoch 74/100\n",
            "398/398 - 0s - loss: 23.3044\n",
            "Epoch 75/100\n",
            "398/398 - 0s - loss: 21.2568\n",
            "Epoch 76/100\n",
            "398/398 - 0s - loss: 20.4882\n",
            "Epoch 77/100\n",
            "398/398 - 0s - loss: 19.7505\n",
            "Epoch 78/100\n",
            "398/398 - 0s - loss: 21.0483\n",
            "Epoch 79/100\n",
            "398/398 - 0s - loss: 18.6569\n",
            "Epoch 80/100\n",
            "398/398 - 0s - loss: 18.9609\n",
            "Epoch 81/100\n",
            "398/398 - 0s - loss: 20.3870\n",
            "Epoch 82/100\n",
            "398/398 - 0s - loss: 19.8752\n",
            "Epoch 83/100\n",
            "398/398 - 0s - loss: 19.1254\n",
            "Epoch 84/100\n",
            "398/398 - 0s - loss: 21.0894\n",
            "Epoch 85/100\n",
            "398/398 - 0s - loss: 18.2025\n",
            "Epoch 86/100\n",
            "398/398 - 0s - loss: 17.6959\n",
            "Epoch 87/100\n",
            "398/398 - 0s - loss: 16.8485\n",
            "Epoch 88/100\n",
            "398/398 - 0s - loss: 16.8318\n",
            "Epoch 89/100\n",
            "398/398 - 0s - loss: 17.7463\n",
            "Epoch 90/100\n",
            "398/398 - 0s - loss: 19.3695\n",
            "Epoch 91/100\n",
            "398/398 - 0s - loss: 20.2135\n",
            "Epoch 92/100\n",
            "398/398 - 0s - loss: 16.5255\n",
            "Epoch 93/100\n",
            "398/398 - 0s - loss: 17.5465\n",
            "Epoch 94/100\n",
            "398/398 - 0s - loss: 16.2286\n",
            "Epoch 95/100\n",
            "398/398 - 0s - loss: 15.2522\n",
            "Epoch 96/100\n",
            "398/398 - 0s - loss: 15.2409\n",
            "Epoch 97/100\n",
            "398/398 - 0s - loss: 15.1146\n",
            "Epoch 98/100\n",
            "398/398 - 0s - loss: 15.3313\n",
            "Epoch 99/100\n",
            "398/398 - 0s - loss: 15.4874\n",
            "Epoch 100/100\n",
            "398/398 - 0s - loss: 20.0560\n"
          ],
          "name": "stdout"
        },
        {
          "output_type": "execute_result",
          "data": {
            "text/plain": [
              "<tensorflow.python.keras.callbacks.History at 0x7fdf035b2a58>"
            ]
          },
          "metadata": {
            "tags": []
          },
          "execution_count": 7
        }
      ]
    },
    {
      "cell_type": "markdown",
      "metadata": {
        "id": "7Ot0pnA2rP0L",
        "colab_type": "text"
      },
      "source": [
        "### Introduction to Neural Network Hyperparameters\n",
        "\n",
        "If you look at the above code you will see that the neural network is made up of 4 layers.  The first layer is the input layer.  This is specified by **input_dim** and it is set to be the number of inputs that the dataset has.  One input neuron is needed for ever input (including dummy variables).  However, there are also several hidden layers, with 25 and 10 neurons each. You might be wondering how these numbers were chosen?  This is one of the most common questions about neural networks.  Unfortunately, there is not a good answer.  These are hyperparameters.  They are settings that can affect neural network performance, yet there is not a clearly defined means of setting them.\n",
        "\n",
        "In general, more hidden neurons mean more capability to fit to complex problems.  However, too many neurons can lead to overfitting and lengthy training times.  Too few can lead to underfitting the problem and will sacrifice accuracy.  Also, how many layers you have is another hyperparameter.  In general, more layers allow the neural network to be able to perform more of its own feature engineering and data preprocessing.  But this also comes at the expense of training times and risk of overfitting.  In general, you will see that neuron counts start out larger near the input layer and tend to shrink towards the output layer in a sort of triangular fashion. \n",
        "\n",
        "There are techniques that use machine learning to optimize these values.  These will be discussed in [Module 8.3](t81_558_class_08_3_keras_hyperparameters.ipynb).\n",
        "\n",
        "### Controlling the Amount of Output\n",
        "\n",
        "One line is produced for each training epoch.  You can eliminate this output by setting the verbose setting of the fit command:\n",
        "\n",
        "* **verbose=0** - No progress output (use with Juputer if you do not want output)\n",
        "* **verbose=1** - Display progress bar, does not work well with Jupyter\n",
        "* **verbose=2** - Summary progress output (use with Jupyter if you want to know the loss at each epoch)\n",
        "\n",
        "### Regression Prediction"
      ]
    },
    {
      "cell_type": "markdown",
      "metadata": {
        "id": "gknpbZn3rP0M",
        "colab_type": "text"
      },
      "source": [
        "Next, we will perform actual predictions.  These predictions are assigned to the **pred** variable. These are all MPG predictions from the neural network.  Notice that this is a 2D array?  You can always see the dimensions of what is returned by printing out **pred.shape**.  Neural networks can return multiple values, so the result is always an array.  Here the neural network only returns 1 value per prediction (there are 398 cars, so 398 predictions).  However, a 2D array is needed because the neural network has the potential of returning more than one value.   "
      ]
    },
    {
      "cell_type": "code",
      "metadata": {
        "id": "2hgiWp6wrP0N",
        "colab_type": "code",
        "colab": {
          "base_uri": "https://localhost:8080/",
          "height": 1000
        },
        "outputId": "8093e931-92ac-4991-8847-ed43993b56bd"
      },
      "source": [
        "pred = model.predict(x)\n",
        "print(\"Shape: {}\".format(pred.shape))\n",
        "print(pred)"
      ],
      "execution_count": 8,
      "outputs": [
        {
          "output_type": "stream",
          "text": [
            "Shape: (398, 1)\n",
            "[[14.947586 ]\n",
            " [14.151688 ]\n",
            " [15.62941  ]\n",
            " [16.340408 ]\n",
            " [15.453384 ]\n",
            " [ 9.518143 ]\n",
            " [ 9.4449005]\n",
            " [ 9.725235 ]\n",
            " [ 9.54628  ]\n",
            " [12.481522 ]\n",
            " [13.645889 ]\n",
            " [13.728775 ]\n",
            " [11.03389  ]\n",
            " [16.470688 ]\n",
            " [26.289719 ]\n",
            " [20.231705 ]\n",
            " [20.59935  ]\n",
            " [21.108566 ]\n",
            " [27.572403 ]\n",
            " [27.719803 ]\n",
            " [24.108536 ]\n",
            " [24.794266 ]\n",
            " [26.201797 ]\n",
            " [25.919968 ]\n",
            " [20.791275 ]\n",
            " [12.075394 ]\n",
            " [14.50325  ]\n",
            " [14.202591 ]\n",
            " [13.35817  ]\n",
            " [27.970474 ]\n",
            " [24.290909 ]\n",
            " [27.166489 ]\n",
            " [27.80098  ]\n",
            " [20.184097 ]\n",
            " [17.134293 ]\n",
            " [16.702713 ]\n",
            " [16.28212  ]\n",
            " [17.466934 ]\n",
            " [12.0142975]\n",
            " [ 9.495316 ]\n",
            " [12.106705 ]\n",
            " [13.146194 ]\n",
            " [ 7.7110744]\n",
            " [ 7.936538 ]\n",
            " [ 6.132461 ]\n",
            " [18.290024 ]\n",
            " [23.636703 ]\n",
            " [16.812698 ]\n",
            " [16.859207 ]\n",
            " [24.485092 ]\n",
            " [26.370773 ]\n",
            " [28.288406 ]\n",
            " [27.009354 ]\n",
            " [30.737381 ]\n",
            " [31.455002 ]\n",
            " [28.37764  ]\n",
            " [27.788284 ]\n",
            " [27.704758 ]\n",
            " [26.638596 ]\n",
            " [27.520096 ]\n",
            " [25.007828 ]\n",
            " [25.516861 ]\n",
            " [12.076004 ]\n",
            " [10.434708 ]\n",
            " [13.47554  ]\n",
            " [12.500992 ]\n",
            " [15.767349 ]\n",
            " [ 9.536636 ]\n",
            " [10.829117 ]\n",
            " [11.30043  ]\n",
            " [11.07637  ]\n",
            " [27.903    ]\n",
            " [14.895706 ]\n",
            " [13.203873 ]\n",
            " [13.342117 ]\n",
            " [13.908279 ]\n",
            " [23.586502 ]\n",
            " [25.01912  ]\n",
            " [23.542007 ]\n",
            " [27.12465  ]\n",
            " [24.509933 ]\n",
            " [28.402786 ]\n",
            " [26.13832  ]\n",
            " [25.894882 ]\n",
            " [29.055374 ]\n",
            " [14.106583 ]\n",
            " [16.165482 ]\n",
            " [13.285538 ]\n",
            " [14.504593 ]\n",
            " [15.458817 ]\n",
            " [ 7.951614 ]\n",
            " [ 9.257523 ]\n",
            " [11.922379 ]\n",
            " [13.611954 ]\n",
            " [ 9.396622 ]\n",
            " [ 8.286209 ]\n",
            " [14.71077  ]\n",
            " [19.840591 ]\n",
            " [18.427078 ]\n",
            " [20.16957  ]\n",
            " [18.797318 ]\n",
            " [21.191544 ]\n",
            " [28.452072 ]\n",
            " [ 7.0329127]\n",
            " [ 7.898025 ]\n",
            " [10.701431 ]\n",
            " [12.143631 ]\n",
            " [20.710434 ]\n",
            " [29.192612 ]\n",
            " [24.601974 ]\n",
            " [27.953201 ]\n",
            " [29.039597 ]\n",
            " [25.965683 ]\n",
            " [24.773056 ]\n",
            " [27.383621 ]\n",
            " [12.799454 ]\n",
            " [13.288284 ]\n",
            " [29.512222 ]\n",
            " [26.684494 ]\n",
            " [24.9012   ]\n",
            " [24.586441 ]\n",
            " [17.014786 ]\n",
            " [25.169876 ]\n",
            " [25.603806 ]\n",
            " [16.06282  ]\n",
            " [20.698471 ]\n",
            " [21.87407  ]\n",
            " [20.795273 ]\n",
            " [18.259232 ]\n",
            " [30.863998 ]\n",
            " [24.869278 ]\n",
            " [32.137436 ]\n",
            " [23.745987 ]\n",
            " [15.958084 ]\n",
            " [17.215836 ]\n",
            " [17.69423  ]\n",
            " [14.39772  ]\n",
            " [10.638931 ]\n",
            " [12.606155 ]\n",
            " [12.35939  ]\n",
            " [14.601883 ]\n",
            " [27.958664 ]\n",
            " [28.852707 ]\n",
            " [26.805252 ]\n",
            " [31.14766  ]\n",
            " [30.18721  ]\n",
            " [26.771774 ]\n",
            " [28.138779 ]\n",
            " [26.228561 ]\n",
            " [27.15532  ]\n",
            " [27.976517 ]\n",
            " [28.794418 ]\n",
            " [19.297379 ]\n",
            " [17.988724 ]\n",
            " [17.917557 ]\n",
            " [18.935684 ]\n",
            " [ 9.7990265]\n",
            " [12.010086 ]\n",
            " [13.058182 ]\n",
            " [10.86409  ]\n",
            " [17.817825 ]\n",
            " [16.388443 ]\n",
            " [17.372879 ]\n",
            " [17.400894 ]\n",
            " [20.711105 ]\n",
            " [19.24733  ]\n",
            " [18.77687  ]\n",
            " [29.142502 ]\n",
            " [24.015701 ]\n",
            " [21.126022 ]\n",
            " [24.424393 ]\n",
            " [25.576828 ]\n",
            " [28.021378 ]\n",
            " [27.826218 ]\n",
            " [22.096786 ]\n",
            " [28.788986 ]\n",
            " [19.389175 ]\n",
            " [25.540054 ]\n",
            " [24.231644 ]\n",
            " [24.064957 ]\n",
            " [26.009567 ]\n",
            " [30.643051 ]\n",
            " [27.08577  ]\n",
            " [28.210342 ]\n",
            " [24.621933 ]\n",
            " [27.687698 ]\n",
            " [28.431473 ]\n",
            " [14.452896 ]\n",
            " [14.650162 ]\n",
            " [15.097855 ]\n",
            " [13.548477 ]\n",
            " [19.92952  ]\n",
            " [18.536148 ]\n",
            " [21.537643 ]\n",
            " [20.598373 ]\n",
            " [29.16066  ]\n",
            " [28.441513 ]\n",
            " [29.240158 ]\n",
            " [31.014572 ]\n",
            " [18.379532 ]\n",
            " [17.861343 ]\n",
            " [17.71138  ]\n",
            " [19.528885 ]\n",
            " [29.119461 ]\n",
            " [30.877335 ]\n",
            " [29.729599 ]\n",
            " [23.378952 ]\n",
            " [23.632523 ]\n",
            " [15.99617  ]\n",
            " [24.31398  ]\n",
            " [26.040054 ]\n",
            " [20.935257 ]\n",
            " [13.846756 ]\n",
            " [13.867264 ]\n",
            " [16.39412  ]\n",
            " [17.165604 ]\n",
            " [30.897568 ]\n",
            " [27.479477 ]\n",
            " [31.164688 ]\n",
            " [27.325027 ]\n",
            " [31.45485  ]\n",
            " [16.683792 ]\n",
            " [17.22853  ]\n",
            " [15.259598 ]\n",
            " [14.567825 ]\n",
            " [18.809036 ]\n",
            " [19.782852 ]\n",
            " [18.886185 ]\n",
            " [18.914505 ]\n",
            " [13.27211  ]\n",
            " [14.703812 ]\n",
            " [13.48848  ]\n",
            " [13.638138 ]\n",
            " [29.861008 ]\n",
            " [23.91951  ]\n",
            " [30.037369 ]\n",
            " [24.172989 ]\n",
            " [28.207687 ]\n",
            " [28.724564 ]\n",
            " [30.633377 ]\n",
            " [28.461777 ]\n",
            " [26.56041  ]\n",
            " [26.753159 ]\n",
            " [28.176346 ]\n",
            " [30.702194 ]\n",
            " [29.35234  ]\n",
            " [31.71193  ]\n",
            " [31.685074 ]\n",
            " [31.845505 ]\n",
            " [20.28981  ]\n",
            " [17.385452 ]\n",
            " [18.576736 ]\n",
            " [20.223648 ]\n",
            " [22.40718  ]\n",
            " [22.284744 ]\n",
            " [24.598892 ]\n",
            " [20.18544  ]\n",
            " [20.641617 ]\n",
            " [20.121048 ]\n",
            " [21.981064 ]\n",
            " [20.068375 ]\n",
            " [19.651505 ]\n",
            " [19.620865 ]\n",
            " [21.947159 ]\n",
            " [20.038712 ]\n",
            " [15.73439  ]\n",
            " [28.16832  ]\n",
            " [27.644638 ]\n",
            " [29.675644 ]\n",
            " [27.36058  ]\n",
            " [28.036789 ]\n",
            " [25.117905 ]\n",
            " [24.008224 ]\n",
            " [29.185837 ]\n",
            " [26.566208 ]\n",
            " [24.810196 ]\n",
            " [27.147202 ]\n",
            " [24.37233  ]\n",
            " [30.025589 ]\n",
            " [30.324875 ]\n",
            " [21.57753  ]\n",
            " [23.191696 ]\n",
            " [24.623032 ]\n",
            " [21.021194 ]\n",
            " [21.252579 ]\n",
            " [17.757706 ]\n",
            " [17.86586  ]\n",
            " [15.539932 ]\n",
            " [17.590652 ]\n",
            " [14.721756 ]\n",
            " [15.5073395]\n",
            " [19.798965 ]\n",
            " [15.848282 ]\n",
            " [30.52034  ]\n",
            " [31.406235 ]\n",
            " [29.809128 ]\n",
            " [25.358688 ]\n",
            " [21.652115 ]\n",
            " [16.365189 ]\n",
            " [25.255081 ]\n",
            " [21.251541 ]\n",
            " [27.334702 ]\n",
            " [28.045334 ]\n",
            " [32.267868 ]\n",
            " [29.491653 ]\n",
            " [25.170883 ]\n",
            " [25.62819  ]\n",
            " [25.510574 ]\n",
            " [25.015793 ]\n",
            " [29.929245 ]\n",
            " [32.472305 ]\n",
            " [28.972733 ]\n",
            " [31.895737 ]\n",
            " [25.660568 ]\n",
            " [25.337204 ]\n",
            " [24.93715  ]\n",
            " [21.166946 ]\n",
            " [30.11818  ]\n",
            " [27.77208  ]\n",
            " [28.907272 ]\n",
            " [29.625107 ]\n",
            " [30.096176 ]\n",
            " [31.82405  ]\n",
            " [25.017776 ]\n",
            " [32.200424 ]\n",
            " [31.034286 ]\n",
            " [30.27327  ]\n",
            " [26.43193  ]\n",
            " [24.205032 ]\n",
            " [32.018234 ]\n",
            " [33.43419  ]\n",
            " [31.425613 ]\n",
            " [31.257736 ]\n",
            " [27.397415 ]\n",
            " [30.495804 ]\n",
            " [28.018295 ]\n",
            " [24.40245  ]\n",
            " [30.336319 ]\n",
            " [27.028793 ]\n",
            " [25.974289 ]\n",
            " [25.740005 ]\n",
            " [25.864212 ]\n",
            " [26.827255 ]\n",
            " [33.680008 ]\n",
            " [30.965225 ]\n",
            " [33.473434 ]\n",
            " [32.184067 ]\n",
            " [33.349716 ]\n",
            " [32.1407   ]\n",
            " [32.34984  ]\n",
            " [28.178452 ]\n",
            " [29.711319 ]\n",
            " [29.175613 ]\n",
            " [29.6483   ]\n",
            " [30.46495  ]\n",
            " [30.596664 ]\n",
            " [30.48027  ]\n",
            " [29.407364 ]\n",
            " [28.990433 ]\n",
            " [25.094254 ]\n",
            " [25.76155  ]\n",
            " [27.419266 ]\n",
            " [28.445053 ]\n",
            " [21.367508 ]\n",
            " [17.558243 ]\n",
            " [23.47322  ]\n",
            " [20.338821 ]\n",
            " [28.76155  ]\n",
            " [28.314621 ]\n",
            " [29.422134 ]\n",
            " [27.872665 ]\n",
            " [27.325577 ]\n",
            " [26.560623 ]\n",
            " [25.893661 ]\n",
            " [25.837357 ]\n",
            " [31.424759 ]\n",
            " [33.12596  ]\n",
            " [33.2509   ]\n",
            " [28.988693 ]\n",
            " [30.221664 ]\n",
            " [31.487717 ]\n",
            " [31.047195 ]\n",
            " [31.214432 ]\n",
            " [32.53871  ]\n",
            " [32.72487  ]\n",
            " [32.70262  ]\n",
            " [25.889603 ]\n",
            " [22.035019 ]\n",
            " [26.345566 ]\n",
            " [24.53505  ]\n",
            " [28.353653 ]\n",
            " [27.329391 ]\n",
            " [25.262619 ]\n",
            " [25.788742 ]\n",
            " [32.340652 ]\n",
            " [27.344986 ]\n",
            " [27.7267   ]\n",
            " [27.61885  ]]\n"
          ],
          "name": "stdout"
        }
      ]
    },
    {
      "cell_type": "markdown",
      "metadata": {
        "id": "dP4IgoyGrP0O",
        "colab_type": "text"
      },
      "source": [
        "We would like to see how good these predictions are.  We know what the correct MPG is for each car, so we can measure how close the neural network was."
      ]
    },
    {
      "cell_type": "code",
      "metadata": {
        "id": "9_btF_MsrP0P",
        "colab_type": "code",
        "colab": {
          "base_uri": "https://localhost:8080/",
          "height": 34
        },
        "outputId": "b58dfd90-db66-4738-fe50-5cf51e847601"
      },
      "source": [
        "# Measure RMSE error.  RMSE is common for regression.\n",
        "score = np.sqrt(metrics.mean_squared_error(pred,y))\n",
        "print(f\"Final score (RMSE): {score}\")"
      ],
      "execution_count": 9,
      "outputs": [
        {
          "output_type": "stream",
          "text": [
            "Final score (RMSE): 3.79868635629083\n"
          ],
          "name": "stdout"
        }
      ]
    },
    {
      "cell_type": "markdown",
      "metadata": {
        "id": "ctrXOaAarP0R",
        "colab_type": "text"
      },
      "source": [
        "This means that, on average the predictions were within +/- 5.89 values of the correct value.  This is not very good, but we will soon see how to improve it.\n",
        "\n",
        "We can also print out the first 10 cars, with predictions and actual MPG."
      ]
    },
    {
      "cell_type": "code",
      "metadata": {
        "id": "bXtNzeG1rP0R",
        "colab_type": "code",
        "colab": {
          "base_uri": "https://localhost:8080/",
          "height": 185
        },
        "outputId": "e5b6eedf-4c6e-442e-90c5-10505b7b775c"
      },
      "source": [
        "# Sample predictions\n",
        "for i in range(10):\n",
        "    print(f\"{i+1}. Car name: {cars[i]}, MPG: {y[i]}, predicted MPG: {pred[i]}\")"
      ],
      "execution_count": 10,
      "outputs": [
        {
          "output_type": "stream",
          "text": [
            "1. Car name: chevrolet chevelle malibu, MPG: 18.0, predicted MPG: [14.947586]\n",
            "2. Car name: buick skylark 320, MPG: 15.0, predicted MPG: [14.151688]\n",
            "3. Car name: plymouth satellite, MPG: 18.0, predicted MPG: [15.62941]\n",
            "4. Car name: amc rebel sst, MPG: 16.0, predicted MPG: [16.340408]\n",
            "5. Car name: ford torino, MPG: 17.0, predicted MPG: [15.453384]\n",
            "6. Car name: ford galaxie 500, MPG: 15.0, predicted MPG: [9.518143]\n",
            "7. Car name: chevrolet impala, MPG: 14.0, predicted MPG: [9.4449005]\n",
            "8. Car name: plymouth fury iii, MPG: 14.0, predicted MPG: [9.725235]\n",
            "9. Car name: pontiac catalina, MPG: 14.0, predicted MPG: [9.54628]\n",
            "10. Car name: amc ambassador dpl, MPG: 15.0, predicted MPG: [12.481522]\n"
          ],
          "name": "stdout"
        }
      ]
    },
    {
      "cell_type": "markdown",
      "metadata": {
        "id": "PB5i1QiJrP0W",
        "colab_type": "text"
      },
      "source": [
        "### Simple TensorFlow Classification: Iris\n",
        "\n",
        "This is a very simple example of how to perform the Iris classification using TensorFlow.  The iris.csv file is used, rather than using the built-in files that many of the Google examples require.  \n",
        "\n",
        "**Make sure that you always run previous code blocks.  If you run the code block below, without the codeblock above, you will get errors**"
      ]
    },
    {
      "cell_type": "code",
      "metadata": {
        "id": "AgZwJ2LdrP0X",
        "colab_type": "code",
        "colab": {
          "base_uri": "https://localhost:8080/",
          "height": 1000
        },
        "outputId": "b964d61e-a7ed-409b-f7aa-fbb73261b713"
      },
      "source": [
        "import pandas as pd\n",
        "import io\n",
        "import requests\n",
        "import numpy as np\n",
        "from sklearn import metrics\n",
        "from tensorflow.keras.models import Sequential\n",
        "from tensorflow.keras.layers import Dense, Activation\n",
        "from tensorflow.keras.callbacks import EarlyStopping\n",
        "\n",
        "df = pd.read_csv(\n",
        "    \"https://data.heatonresearch.com/data/t81-558/iris.csv\", \n",
        "    na_values=['NA', '?'])\n",
        "\n",
        "# Convert to numpy - Classification\n",
        "x = df[['sepal_l', 'sepal_w', 'petal_l', 'petal_w']].values\n",
        "dummies = pd.get_dummies(df['species']) # Classification\n",
        "species = dummies.columns\n",
        "y = dummies.values\n",
        "\n",
        "\n",
        "# Build neural network\n",
        "model = Sequential()\n",
        "model.add(Dense(50, input_dim=x.shape[1], activation='relu')) # Hidden 1\n",
        "model.add(Dense(25, activation='relu')) # Hidden 2\n",
        "model.add(Dense(y.shape[1],activation='softmax')) # Output\n",
        "\n",
        "model.compile(loss='categorical_crossentropy', optimizer='adam')\n",
        "model.fit(x,y,verbose=2,epochs=100)"
      ],
      "execution_count": 11,
      "outputs": [
        {
          "output_type": "stream",
          "text": [
            "Train on 150 samples\n",
            "Epoch 1/100\n",
            "150/150 - 0s - loss: 1.3312\n",
            "Epoch 2/100\n",
            "150/150 - 0s - loss: 1.1120\n",
            "Epoch 3/100\n",
            "150/150 - 0s - loss: 0.9564\n",
            "Epoch 4/100\n",
            "150/150 - 0s - loss: 0.8672\n",
            "Epoch 5/100\n",
            "150/150 - 0s - loss: 0.8152\n",
            "Epoch 6/100\n",
            "150/150 - 0s - loss: 0.7715\n",
            "Epoch 7/100\n",
            "150/150 - 0s - loss: 0.7306\n",
            "Epoch 8/100\n",
            "150/150 - 0s - loss: 0.6940\n",
            "Epoch 9/100\n",
            "150/150 - 0s - loss: 0.6609\n",
            "Epoch 10/100\n",
            "150/150 - 0s - loss: 0.6306\n",
            "Epoch 11/100\n",
            "150/150 - 0s - loss: 0.6061\n",
            "Epoch 12/100\n",
            "150/150 - 0s - loss: 0.5814\n",
            "Epoch 13/100\n",
            "150/150 - 0s - loss: 0.5597\n",
            "Epoch 14/100\n",
            "150/150 - 0s - loss: 0.5395\n",
            "Epoch 15/100\n",
            "150/150 - 0s - loss: 0.5232\n",
            "Epoch 16/100\n",
            "150/150 - 0s - loss: 0.5084\n",
            "Epoch 17/100\n",
            "150/150 - 0s - loss: 0.4948\n",
            "Epoch 18/100\n",
            "150/150 - 0s - loss: 0.4852\n",
            "Epoch 19/100\n",
            "150/150 - 0s - loss: 0.4738\n",
            "Epoch 20/100\n",
            "150/150 - 0s - loss: 0.4611\n",
            "Epoch 21/100\n",
            "150/150 - 0s - loss: 0.4493\n",
            "Epoch 22/100\n",
            "150/150 - 0s - loss: 0.4418\n",
            "Epoch 23/100\n",
            "150/150 - 0s - loss: 0.4329\n",
            "Epoch 24/100\n",
            "150/150 - 0s - loss: 0.4230\n",
            "Epoch 25/100\n",
            "150/150 - 0s - loss: 0.4158\n",
            "Epoch 26/100\n",
            "150/150 - 0s - loss: 0.4056\n",
            "Epoch 27/100\n",
            "150/150 - 0s - loss: 0.3969\n",
            "Epoch 28/100\n",
            "150/150 - 0s - loss: 0.3904\n",
            "Epoch 29/100\n",
            "150/150 - 0s - loss: 0.3813\n",
            "Epoch 30/100\n",
            "150/150 - 0s - loss: 0.3750\n",
            "Epoch 31/100\n",
            "150/150 - 0s - loss: 0.3677\n",
            "Epoch 32/100\n",
            "150/150 - 0s - loss: 0.3601\n",
            "Epoch 33/100\n",
            "150/150 - 0s - loss: 0.3529\n",
            "Epoch 34/100\n",
            "150/150 - 0s - loss: 0.3452\n",
            "Epoch 35/100\n",
            "150/150 - 0s - loss: 0.3379\n",
            "Epoch 36/100\n",
            "150/150 - 0s - loss: 0.3311\n",
            "Epoch 37/100\n",
            "150/150 - 0s - loss: 0.3241\n",
            "Epoch 38/100\n",
            "150/150 - 0s - loss: 0.3163\n",
            "Epoch 39/100\n",
            "150/150 - 0s - loss: 0.3094\n",
            "Epoch 40/100\n",
            "150/150 - 0s - loss: 0.3020\n",
            "Epoch 41/100\n",
            "150/150 - 0s - loss: 0.2994\n",
            "Epoch 42/100\n",
            "150/150 - 0s - loss: 0.2906\n",
            "Epoch 43/100\n",
            "150/150 - 0s - loss: 0.2822\n",
            "Epoch 44/100\n",
            "150/150 - 0s - loss: 0.2749\n",
            "Epoch 45/100\n",
            "150/150 - 0s - loss: 0.2687\n",
            "Epoch 46/100\n",
            "150/150 - 0s - loss: 0.2616\n",
            "Epoch 47/100\n",
            "150/150 - 0s - loss: 0.2556\n",
            "Epoch 48/100\n",
            "150/150 - 0s - loss: 0.2499\n",
            "Epoch 49/100\n",
            "150/150 - 0s - loss: 0.2438\n",
            "Epoch 50/100\n",
            "150/150 - 0s - loss: 0.2374\n",
            "Epoch 51/100\n",
            "150/150 - 0s - loss: 0.2321\n",
            "Epoch 52/100\n",
            "150/150 - 0s - loss: 0.2270\n",
            "Epoch 53/100\n",
            "150/150 - 0s - loss: 0.2211\n",
            "Epoch 54/100\n",
            "150/150 - 0s - loss: 0.2155\n",
            "Epoch 55/100\n",
            "150/150 - 0s - loss: 0.2089\n",
            "Epoch 56/100\n",
            "150/150 - 0s - loss: 0.2056\n",
            "Epoch 57/100\n",
            "150/150 - 0s - loss: 0.1986\n",
            "Epoch 58/100\n",
            "150/150 - 0s - loss: 0.1940\n",
            "Epoch 59/100\n",
            "150/150 - 0s - loss: 0.1891\n",
            "Epoch 60/100\n",
            "150/150 - 0s - loss: 0.1851\n",
            "Epoch 61/100\n",
            "150/150 - 0s - loss: 0.1800\n",
            "Epoch 62/100\n",
            "150/150 - 0s - loss: 0.1782\n",
            "Epoch 63/100\n",
            "150/150 - 0s - loss: 0.1727\n",
            "Epoch 64/100\n",
            "150/150 - 0s - loss: 0.1675\n",
            "Epoch 65/100\n",
            "150/150 - 0s - loss: 0.1673\n",
            "Epoch 66/100\n",
            "150/150 - 0s - loss: 0.1622\n",
            "Epoch 67/100\n",
            "150/150 - 0s - loss: 0.1584\n",
            "Epoch 68/100\n",
            "150/150 - 0s - loss: 0.1550\n",
            "Epoch 69/100\n",
            "150/150 - 0s - loss: 0.1518\n",
            "Epoch 70/100\n",
            "150/150 - 0s - loss: 0.1498\n",
            "Epoch 71/100\n",
            "150/150 - 0s - loss: 0.1503\n",
            "Epoch 72/100\n",
            "150/150 - 0s - loss: 0.1444\n",
            "Epoch 73/100\n",
            "150/150 - 0s - loss: 0.1449\n",
            "Epoch 74/100\n",
            "150/150 - 0s - loss: 0.1418\n",
            "Epoch 75/100\n",
            "150/150 - 0s - loss: 0.1381\n",
            "Epoch 76/100\n",
            "150/150 - 0s - loss: 0.1342\n",
            "Epoch 77/100\n",
            "150/150 - 0s - loss: 0.1340\n",
            "Epoch 78/100\n",
            "150/150 - 0s - loss: 0.1321\n",
            "Epoch 79/100\n",
            "150/150 - 0s - loss: 0.1292\n",
            "Epoch 80/100\n",
            "150/150 - 0s - loss: 0.1269\n",
            "Epoch 81/100\n",
            "150/150 - 0s - loss: 0.1249\n",
            "Epoch 82/100\n",
            "150/150 - 0s - loss: 0.1230\n",
            "Epoch 83/100\n",
            "150/150 - 0s - loss: 0.1215\n",
            "Epoch 84/100\n",
            "150/150 - 0s - loss: 0.1196\n",
            "Epoch 85/100\n",
            "150/150 - 0s - loss: 0.1183\n",
            "Epoch 86/100\n",
            "150/150 - 0s - loss: 0.1166\n",
            "Epoch 87/100\n",
            "150/150 - 0s - loss: 0.1150\n",
            "Epoch 88/100\n",
            "150/150 - 0s - loss: 0.1140\n",
            "Epoch 89/100\n",
            "150/150 - 0s - loss: 0.1126\n",
            "Epoch 90/100\n",
            "150/150 - 0s - loss: 0.1112\n",
            "Epoch 91/100\n",
            "150/150 - 0s - loss: 0.1102\n",
            "Epoch 92/100\n",
            "150/150 - 0s - loss: 0.1089\n",
            "Epoch 93/100\n",
            "150/150 - 0s - loss: 0.1086\n",
            "Epoch 94/100\n",
            "150/150 - 0s - loss: 0.1060\n",
            "Epoch 95/100\n",
            "150/150 - 0s - loss: 0.1054\n",
            "Epoch 96/100\n",
            "150/150 - 0s - loss: 0.1037\n",
            "Epoch 97/100\n",
            "150/150 - 0s - loss: 0.1029\n",
            "Epoch 98/100\n",
            "150/150 - 0s - loss: 0.1015\n",
            "Epoch 99/100\n",
            "150/150 - 0s - loss: 0.1005\n",
            "Epoch 100/100\n",
            "150/150 - 0s - loss: 0.0998\n"
          ],
          "name": "stdout"
        },
        {
          "output_type": "execute_result",
          "data": {
            "text/plain": [
              "<tensorflow.python.keras.callbacks.History at 0x7fdefaae2630>"
            ]
          },
          "metadata": {
            "tags": []
          },
          "execution_count": 11
        }
      ]
    },
    {
      "cell_type": "code",
      "metadata": {
        "id": "7ODt0s8ZrP0Y",
        "colab_type": "code",
        "colab": {
          "base_uri": "https://localhost:8080/",
          "height": 34
        },
        "outputId": "4640e403-54a2-4dd0-efde-d71fa47e1c1b"
      },
      "source": [
        "# Print out number of species found:\n",
        "\n",
        "print(species)"
      ],
      "execution_count": 12,
      "outputs": [
        {
          "output_type": "stream",
          "text": [
            "Index(['Iris-setosa', 'Iris-versicolor', 'Iris-virginica'], dtype='object')\n"
          ],
          "name": "stdout"
        }
      ]
    },
    {
      "cell_type": "markdown",
      "metadata": {
        "id": "VpbF9wbgrP0b",
        "colab_type": "text"
      },
      "source": [
        "Now that you have a neural network trained, we would like to be able to use it. The following code makes use of our neural network. Exactly like before, we will generate predictions.  Notice that 3 values come back for each of the 150 iris flowers.  There were 3 types of iris (Iris-setosa, Iris-versicolor, and Iris-virginica).  "
      ]
    },
    {
      "cell_type": "code",
      "metadata": {
        "id": "Q4Hn7bg4rP0b",
        "colab_type": "code",
        "colab": {
          "base_uri": "https://localhost:8080/",
          "height": 1000
        },
        "outputId": "24872f55-0111-48dc-dab8-84a67af5993e"
      },
      "source": [
        "pred = model.predict(x)\n",
        "print(\"Shape: {pred.shape}\")\n",
        "print(pred)"
      ],
      "execution_count": 13,
      "outputs": [
        {
          "output_type": "stream",
          "text": [
            "Shape: {pred.shape}\n",
            "[[9.99021530e-01 9.78490454e-04 3.68729403e-08]\n",
            " [9.98041272e-01 1.95853342e-03 1.38900532e-07]\n",
            " [9.98319805e-01 1.68010406e-03 1.33021217e-07]\n",
            " [9.96982992e-01 3.01659852e-03 3.59781524e-07]\n",
            " [9.99001205e-01 9.98825417e-04 4.16519654e-08]\n",
            " [9.98955131e-01 1.04480190e-03 3.14268149e-08]\n",
            " [9.97918189e-01 2.08152970e-03 2.11094402e-07]\n",
            " [9.98555601e-01 1.44424324e-03 7.46566968e-08]\n",
            " [9.96252775e-01 3.74661409e-03 6.37103824e-07]\n",
            " [9.98077869e-01 1.92200136e-03 1.25185849e-07]\n",
            " [9.99302745e-01 6.97284820e-04 1.56442415e-08]\n",
            " [9.97828543e-01 2.17136042e-03 1.70372289e-07]\n",
            " [9.98041153e-01 1.95864239e-03 1.45549279e-07]\n",
            " [9.97990847e-01 2.00887374e-03 2.55229764e-07]\n",
            " [9.99793470e-01 2.06502795e-04 1.51697777e-09]\n",
            " [9.99675155e-01 3.24835099e-04 3.67129105e-09]\n",
            " [9.99495029e-01 5.04905707e-04 1.04948139e-08]\n",
            " [9.98910904e-01 1.08908035e-03 4.60751259e-08]\n",
            " [9.99261439e-01 7.38525996e-04 1.29187301e-08]\n",
            " [9.99013543e-01 9.86476312e-04 3.80578378e-08]\n",
            " [9.98580694e-01 1.41933479e-03 4.64051269e-08]\n",
            " [9.98788178e-01 1.21188536e-03 5.58253497e-08]\n",
            " [9.99198377e-01 8.01599934e-04 4.41619292e-08]\n",
            " [9.95549083e-01 4.45056660e-03 3.80306602e-07]\n",
            " [9.94785130e-01 5.21426229e-03 5.67092002e-07]\n",
            " [9.97080863e-01 2.91885459e-03 2.16025938e-07]\n",
            " [9.97571647e-01 2.42817099e-03 1.76528218e-07]\n",
            " [9.98947442e-01 1.05256657e-03 3.69644191e-08]\n",
            " [9.99039590e-01 9.60379431e-04 3.27062963e-08]\n",
            " [9.96914029e-01 3.08560021e-03 3.24601672e-07]\n",
            " [9.96846735e-01 3.15284636e-03 3.01478821e-07]\n",
            " [9.98830616e-01 1.16940122e-03 3.98378184e-08]\n",
            " [9.99452293e-01 5.47752308e-04 1.18614771e-08]\n",
            " [9.99664545e-01 3.35500634e-04 4.28815161e-09]\n",
            " [9.97843266e-01 2.15659034e-03 1.57833981e-07]\n",
            " [9.98984873e-01 1.01513555e-03 4.49931044e-08]\n",
            " [9.99470532e-01 5.29497396e-04 9.49063050e-09]\n",
            " [9.98991311e-01 1.00873609e-03 4.40940369e-08]\n",
            " [9.97177362e-01 2.82227201e-03 4.11452135e-07]\n",
            " [9.98706818e-01 1.29312836e-03 5.68162264e-08]\n",
            " [9.98983324e-01 1.01669831e-03 4.61624765e-08]\n",
            " [9.92412865e-01 7.58543704e-03 1.71315810e-06]\n",
            " [9.97657418e-01 2.34222226e-03 3.02010733e-07]\n",
            " [9.96846735e-01 3.15302215e-03 2.77509201e-07]\n",
            " [9.96949732e-01 3.05002742e-03 1.99163566e-07]\n",
            " [9.97511983e-01 2.48771557e-03 2.33722844e-07]\n",
            " [9.98935163e-01 1.06485572e-03 4.01212503e-08]\n",
            " [9.97744918e-01 2.25491961e-03 2.30305204e-07]\n",
            " [9.99221206e-01 7.78823451e-04 2.05579767e-08]\n",
            " [9.98682082e-01 1.31779839e-03 6.60588739e-08]\n",
            " [7.90264225e-04 9.88275647e-01 1.09341340e-02]\n",
            " [9.52767849e-04 9.55813050e-01 4.32341956e-02]\n",
            " [4.50705586e-04 9.46853638e-01 5.26956655e-02]\n",
            " [1.40403130e-03 8.57673585e-01 1.40922427e-01]\n",
            " [5.90876327e-04 9.14261281e-01 8.51479024e-02]\n",
            " [7.85876124e-04 7.91200757e-01 2.08013371e-01]\n",
            " [5.81212807e-04 8.57656956e-01 1.41761839e-01]\n",
            " [8.59901123e-03 9.75660264e-01 1.57407187e-02]\n",
            " [8.60047352e-04 9.74788666e-01 2.43513510e-02]\n",
            " [1.83666684e-03 8.19506526e-01 1.78656906e-01]\n",
            " [4.27289400e-03 9.50412214e-01 4.53149341e-02]\n",
            " [1.33321574e-03 9.19787288e-01 7.88795128e-02]\n",
            " [2.21233163e-03 9.82999742e-01 1.47880176e-02]\n",
            " [5.42148890e-04 8.11574280e-01 1.87883541e-01]\n",
            " [5.92218060e-03 9.82039273e-01 1.20385839e-02]\n",
            " [1.22911157e-03 9.88762558e-01 1.00082802e-02]\n",
            " [5.52324811e-04 6.21979117e-01 3.77468586e-01]\n",
            " [2.56203115e-03 9.83188689e-01 1.42492950e-02]\n",
            " [3.69219924e-04 7.16562629e-01 2.83068240e-01]\n",
            " [2.73912679e-03 9.71981883e-01 2.52789799e-02]\n",
            " [1.36995324e-04 3.23539257e-01 6.76323712e-01]\n",
            " [2.21983902e-03 9.84587967e-01 1.31921778e-02]\n",
            " [1.79729235e-04 5.55214286e-01 4.44606006e-01]\n",
            " [7.18076888e-04 8.97324443e-01 1.01957478e-01]\n",
            " [1.43268995e-03 9.84150112e-01 1.44172171e-02]\n",
            " [1.14093139e-03 9.83341396e-01 1.55176660e-02]\n",
            " [4.95069486e-04 9.48744357e-01 5.07605709e-02]\n",
            " [2.11732229e-04 7.14979827e-01 2.84808487e-01]\n",
            " [6.70362439e-04 8.13738108e-01 1.85591459e-01]\n",
            " [1.50370467e-02 9.81243551e-01 3.71938804e-03]\n",
            " [3.02392151e-03 9.69743252e-01 2.72328462e-02]\n",
            " [4.11528489e-03 9.83017921e-01 1.28667681e-02]\n",
            " [2.77845515e-03 9.81003165e-01 1.62183829e-02]\n",
            " [4.36843293e-05 1.84944034e-01 8.15012336e-01]\n",
            " [4.30181652e-04 4.82346565e-01 5.17223299e-01]\n",
            " [8.75180296e-04 8.62347245e-01 1.36777624e-01]\n",
            " [6.35244884e-04 9.54377532e-01 4.49871570e-02]\n",
            " [7.72685627e-04 9.30931330e-01 6.82959408e-02]\n",
            " [2.07798183e-03 9.42915380e-01 5.50066121e-02]\n",
            " [1.66744215e-03 8.91876817e-01 1.06455721e-01]\n",
            " [9.05739376e-04 7.76688159e-01 2.22406119e-01]\n",
            " [7.40575721e-04 8.79154861e-01 1.20104663e-01]\n",
            " [2.18007597e-03 9.70627129e-01 2.71928813e-02]\n",
            " [8.12441763e-03 9.77840483e-01 1.40350917e-02]\n",
            " [1.34514645e-03 8.79034042e-01 1.19620755e-01]\n",
            " [2.02150014e-03 9.58674967e-01 3.93035486e-02]\n",
            " [1.62054040e-03 9.29269195e-01 6.91102073e-02]\n",
            " [1.42314169e-03 9.73381519e-01 2.51952186e-02]\n",
            " [3.37116346e-02 9.60303783e-01 5.98456059e-03]\n",
            " [1.81249820e-03 9.41319764e-01 5.68677485e-02]\n",
            " [1.02746242e-07 3.25631001e-03 9.96743560e-01]\n",
            " [5.49969491e-06 3.35810892e-02 9.66413438e-01]\n",
            " [1.92887410e-06 4.77449708e-02 9.52253103e-01]\n",
            " [4.26090719e-06 4.65537608e-02 9.53441918e-01]\n",
            " [3.95046527e-07 8.90860613e-03 9.91091013e-01]\n",
            " [2.01121480e-07 1.56830810e-02 9.84316707e-01]\n",
            " [2.04951957e-05 4.05676365e-02 9.59411860e-01]\n",
            " [1.69493296e-06 6.02634251e-02 9.39734876e-01]\n",
            " [1.86438581e-06 3.71582024e-02 9.62839901e-01]\n",
            " [3.78256459e-07 1.43735269e-02 9.85626161e-01]\n",
            " [5.32849881e-05 2.68120229e-01 7.31826484e-01]\n",
            " [9.77102718e-06 8.41501579e-02 9.15840089e-01]\n",
            " [6.70047666e-06 8.50051865e-02 9.14988101e-01]\n",
            " [2.71927183e-06 1.77244749e-02 9.82272804e-01]\n",
            " [6.76081470e-07 6.95141638e-03 9.93047893e-01]\n",
            " [3.40838960e-06 3.45135704e-02 9.65483010e-01]\n",
            " [1.46575167e-05 1.27547994e-01 8.72437358e-01]\n",
            " [5.23416475e-07 3.28029282e-02 9.67196584e-01]\n",
            " [1.61376992e-08 2.95362552e-03 9.97046411e-01]\n",
            " [4.19929056e-05 1.85614675e-01 8.14343393e-01]\n",
            " [1.66130314e-06 3.29645909e-02 9.67033803e-01]\n",
            " [6.53058669e-06 3.01919468e-02 9.69801545e-01]\n",
            " [1.81745236e-07 1.63118988e-02 9.83687878e-01]\n",
            " [8.10175334e-05 3.17427695e-01 6.82491243e-01]\n",
            " [3.55456609e-06 5.13319969e-02 9.48664427e-01]\n",
            " [1.07454880e-05 1.90128893e-01 8.09860349e-01]\n",
            " [1.20044286e-04 3.72182697e-01 6.27697289e-01]\n",
            " [9.33197007e-05 2.98282951e-01 7.01623738e-01]\n",
            " [8.86540647e-07 1.47897638e-02 9.85209286e-01]\n",
            " [4.05382089e-05 4.59583580e-01 5.40375769e-01]\n",
            " [2.88504248e-06 8.92766193e-02 9.10720468e-01]\n",
            " [1.00743246e-05 3.01489651e-01 6.98500335e-01]\n",
            " [5.47546961e-07 1.01335486e-02 9.89865959e-01]\n",
            " [1.39468306e-04 4.91492242e-01 5.08368313e-01]\n",
            " [1.09938392e-05 8.90659392e-02 9.10923004e-01]\n",
            " [1.17568311e-06 5.25472276e-02 9.47451651e-01]\n",
            " [4.86385545e-07 7.97070004e-03 9.92028892e-01]\n",
            " [1.40663979e-05 1.14291251e-01 8.85694623e-01]\n",
            " [1.16884068e-04 3.15940380e-01 6.83942795e-01]\n",
            " [1.71636566e-05 1.73050240e-01 8.26932609e-01]\n",
            " [7.47236925e-07 1.51285995e-02 9.84870613e-01]\n",
            " [2.65649160e-05 2.08709791e-01 7.91263580e-01]\n",
            " [5.49969491e-06 3.35810892e-02 9.66413438e-01]\n",
            " [4.40510206e-07 1.21437954e-02 9.87855732e-01]\n",
            " [3.96325731e-07 9.38010961e-03 9.90619421e-01]\n",
            " [8.20725108e-06 8.09603110e-02 9.19031501e-01]\n",
            " [2.19977792e-05 1.31414592e-01 8.68563414e-01]\n",
            " [2.29463058e-05 1.55595705e-01 8.44381392e-01]\n",
            " [1.81600717e-06 1.89173743e-02 9.81080830e-01]\n",
            " [2.33366827e-05 1.03408575e-01 8.96568060e-01]]\n"
          ],
          "name": "stdout"
        }
      ]
    },
    {
      "cell_type": "code",
      "metadata": {
        "id": "7iwnyNuNrP0e",
        "colab_type": "code",
        "colab": {}
      },
      "source": [
        "# If you would like to turn of scientific notation, the following line can be used:\n",
        "np.set_printoptions(suppress=True)"
      ],
      "execution_count": 0,
      "outputs": []
    },
    {
      "cell_type": "code",
      "metadata": {
        "id": "lV-gv1_1rP0g",
        "colab_type": "code",
        "colab": {
          "base_uri": "https://localhost:8080/",
          "height": 185
        },
        "outputId": "1972f62d-5298-4be6-d7a0-5d56cc9921ce"
      },
      "source": [
        "# The to_xy function represented the input in the same way.  Each row has only 1.0 value because each row is only one type\n",
        "# of iris.  This is the training data, we KNOW what type of iris it is.  This is called one-hot encoding.  Only one value\n",
        "# is 1.0 (hot)\n",
        "print(y[0:10])"
      ],
      "execution_count": 15,
      "outputs": [
        {
          "output_type": "stream",
          "text": [
            "[[1 0 0]\n",
            " [1 0 0]\n",
            " [1 0 0]\n",
            " [1 0 0]\n",
            " [1 0 0]\n",
            " [1 0 0]\n",
            " [1 0 0]\n",
            " [1 0 0]\n",
            " [1 0 0]\n",
            " [1 0 0]]\n"
          ],
          "name": "stdout"
        }
      ]
    },
    {
      "cell_type": "code",
      "metadata": {
        "id": "x_7Twp_XrP0i",
        "colab_type": "code",
        "colab": {
          "base_uri": "https://localhost:8080/",
          "height": 185
        },
        "outputId": "a796816f-b45c-4e2c-ae4e-3d6f998c6a1d"
      },
      "source": [
        "# Usually the column (pred) with the highest prediction is considered to be the prediction of the neural network.  It is easy\n",
        "# to convert the predictions to the expected iris species.  The argmax function finds the index of the maximum prediction\n",
        "# for each row.\n",
        "predict_classes = np.argmax(pred,axis=1)\n",
        "expected_classes = np.argmax(y,axis=1)\n",
        "print(f\"Predictions: {predict_classes}\")\n",
        "print(f\"Expected: {expected_classes}\")"
      ],
      "execution_count": 16,
      "outputs": [
        {
          "output_type": "stream",
          "text": [
            "Predictions: [0 0 0 0 0 0 0 0 0 0 0 0 0 0 0 0 0 0 0 0 0 0 0 0 0 0 0 0 0 0 0 0 0 0 0 0 0\n",
            " 0 0 0 0 0 0 0 0 0 0 0 0 0 1 1 1 1 1 1 1 1 1 1 1 1 1 1 1 1 1 1 1 1 2 1 1 1\n",
            " 1 1 1 1 1 1 1 1 1 2 2 1 1 1 1 1 1 1 1 1 1 1 1 1 1 1 2 2 2 2 2 2 2 2 2 2 2\n",
            " 2 2 2 2 2 2 2 2 2 2 2 2 2 2 2 2 2 2 2 2 2 2 2 2 2 2 2 2 2 2 2 2 2 2 2 2 2\n",
            " 2 2]\n",
            "Expected: [0 0 0 0 0 0 0 0 0 0 0 0 0 0 0 0 0 0 0 0 0 0 0 0 0 0 0 0 0 0 0 0 0 0 0 0 0\n",
            " 0 0 0 0 0 0 0 0 0 0 0 0 0 1 1 1 1 1 1 1 1 1 1 1 1 1 1 1 1 1 1 1 1 1 1 1 1\n",
            " 1 1 1 1 1 1 1 1 1 1 1 1 1 1 1 1 1 1 1 1 1 1 1 1 1 1 2 2 2 2 2 2 2 2 2 2 2\n",
            " 2 2 2 2 2 2 2 2 2 2 2 2 2 2 2 2 2 2 2 2 2 2 2 2 2 2 2 2 2 2 2 2 2 2 2 2 2\n",
            " 2 2]\n"
          ],
          "name": "stdout"
        }
      ]
    },
    {
      "cell_type": "code",
      "metadata": {
        "id": "xz8vISOOrP0l",
        "colab_type": "code",
        "colab": {
          "base_uri": "https://localhost:8080/",
          "height": 84
        },
        "outputId": "8a0e8f8b-d166-4326-db6d-922e615ef443"
      },
      "source": [
        "# Of course it is very easy to turn these indexes back into iris species.  We just use the species list that we created earlier.\n",
        "print(species[predict_classes[1:10]])"
      ],
      "execution_count": 17,
      "outputs": [
        {
          "output_type": "stream",
          "text": [
            "Index(['Iris-setosa', 'Iris-setosa', 'Iris-setosa', 'Iris-setosa',\n",
            "       'Iris-setosa', 'Iris-setosa', 'Iris-setosa', 'Iris-setosa',\n",
            "       'Iris-setosa'],\n",
            "      dtype='object')\n"
          ],
          "name": "stdout"
        }
      ]
    },
    {
      "cell_type": "code",
      "metadata": {
        "id": "YE9d7ZfvrP0n",
        "colab_type": "code",
        "colab": {
          "base_uri": "https://localhost:8080/",
          "height": 34
        },
        "outputId": "5449ff4e-9558-4cfc-e70b-424a954ab177"
      },
      "source": [
        "from sklearn.metrics import accuracy_score\n",
        "# Accuracy might be a more easily understood error metric.  It is essentially a test score.  For all of the iris predictions,\n",
        "# what percent were correct?  The downside is it does not consider how confident the neural network was in each prediction.\n",
        "correct = accuracy_score(expected_classes,predict_classes)\n",
        "print(f\"Accuracy: {correct}\")"
      ],
      "execution_count": 18,
      "outputs": [
        {
          "output_type": "stream",
          "text": [
            "Accuracy: 0.98\n"
          ],
          "name": "stdout"
        }
      ]
    },
    {
      "cell_type": "markdown",
      "metadata": {
        "id": "BrWpXZy5rP0p",
        "colab_type": "text"
      },
      "source": [
        "The code below performs two ad hoc predictions.  The first prediction is simply a single iris flower.  The second predicts two iris flowers.  Notice that the argmax in the second prediction requires **axis=1**?  Since we have a 2D array now, we must specify which axis to take the argmax over.  The value **axis=1** specifies we want the max column index for each row."
      ]
    },
    {
      "cell_type": "code",
      "metadata": {
        "id": "Gb7NogZyrP0q",
        "colab_type": "code",
        "colab": {
          "base_uri": "https://localhost:8080/",
          "height": 50
        },
        "outputId": "57550ca6-412d-4283-be4c-758375b21f3b"
      },
      "source": [
        "# ad hoc prediction\n",
        "sample_flower = np.array( [[5.0,3.0,4.0,2.0]], dtype=float)\n",
        "pred = model.predict(sample_flower)\n",
        "print(pred)\n",
        "pred = np.argmax(pred)\n",
        "print(f\"Predict that {sample_flower} is: {species[pred]}\")\n",
        "\n"
      ],
      "execution_count": 19,
      "outputs": [
        {
          "output_type": "stream",
          "text": [
            "[[0.00019144 0.17578864 0.82401997]]\n",
            "Predict that [[5. 3. 4. 2.]] is: Iris-virginica\n"
          ],
          "name": "stdout"
        }
      ]
    },
    {
      "cell_type": "code",
      "metadata": {
        "id": "Qk-2V8w8rP0t",
        "colab_type": "code",
        "colab": {
          "base_uri": "https://localhost:8080/",
          "height": 84
        },
        "outputId": "75fd28a3-d6c5-43ef-9aa7-c80e7cbbe72c"
      },
      "source": [
        "# predict two sample flowers\n",
        "sample_flower = np.array( [[5.0,3.0,4.0,2.0],[5.2,3.5,1.5,0.8]], dtype=float)\n",
        "pred = model.predict(sample_flower)\n",
        "print(pred)\n",
        "pred = np.argmax(pred,axis=1)\n",
        "print(f\"Predict that these two flowers {sample_flower} are: {species[pred]}\")"
      ],
      "execution_count": 20,
      "outputs": [
        {
          "output_type": "stream",
          "text": [
            "[[0.00019144 0.17578885 0.82401973]\n",
            " [0.9971871  0.0028127  0.00000021]]\n",
            "Predict that these two flowers [[5.  3.  4.  2. ]\n",
            " [5.2 3.5 1.5 0.8]] are: Index(['Iris-virginica', 'Iris-setosa'], dtype='object')\n"
          ],
          "name": "stdout"
        }
      ]
    },
    {
      "cell_type": "code",
      "metadata": {
        "id": "l-sYkzAbrP0v",
        "colab_type": "code",
        "colab": {}
      },
      "source": [
        ""
      ],
      "execution_count": 0,
      "outputs": []
    }
  ]
}