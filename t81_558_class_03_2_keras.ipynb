{
  "nbformat": 4,
  "nbformat_minor": 0,
  "metadata": {
    "anaconda-cloud": {},
    "kernelspec": {
      "display_name": "Python 3.6 (tensorflow)",
      "language": "python",
      "name": "rga"
    },
    "language_info": {
      "codemirror_mode": {
        "name": "ipython",
        "version": 3
      },
      "file_extension": ".py",
      "mimetype": "text/x-python",
      "name": "python",
      "nbconvert_exporter": "python",
      "pygments_lexer": "ipython3",
      "version": "3.6.9"
    },
    "colab": {
      "name": "t81_558_class_03_2_keras.ipynb",
      "provenance": [],
      "include_colab_link": true
    }
  },
  "cells": [
    {
      "cell_type": "markdown",
      "metadata": {
        "id": "view-in-github",
        "colab_type": "text"
      },
      "source": [
        "<a href=\"https://colab.research.google.com/github/fflory/t81_558_deep_learning/blob/felix/t81_558_class_03_2_keras.ipynb\" target=\"_parent\"><img src=\"https://colab.research.google.com/assets/colab-badge.svg\" alt=\"Open In Colab\"/></a>"
      ]
    },
    {
      "cell_type": "markdown",
      "metadata": {
        "id": "prJiX9rIrPzx",
        "colab_type": "text"
      },
      "source": [
        "# T81-558: Applications of Deep Neural Networks\n",
        "**Module 3: Introduction to TensorFlow**\n",
        "* Instructor: [Jeff Heaton](https://sites.wustl.edu/jeffheaton/), McKelvey School of Engineering, [Washington University in St. Louis](https://engineering.wustl.edu/Programs/Pages/default.aspx)\n",
        "* For more information visit the [class website](https://sites.wustl.edu/jeffheaton/t81-558/)."
      ]
    },
    {
      "cell_type": "markdown",
      "metadata": {
        "id": "ZaekXbHJrPzy",
        "colab_type": "text"
      },
      "source": [
        "# Module 3 Material\n",
        "\n",
        "* Part 3.1: Deep Learning and Neural Network Introduction [[Video]](https://www.youtube.com/watch?v=zYnI4iWRmpc&list=PLjy4p-07OYzulelvJ5KVaT2pDlxivl_BN) [[Notebook]](t81_558_class_03_1_neural_net.ipynb)\n",
        "* **Part 3.2: Introduction to Tensorflow and Keras** [[Video]](https://www.youtube.com/watch?v=PsE73jk55cE&list=PLjy4p-07OYzulelvJ5KVaT2pDlxivl_BN) [[Notebook]](t81_558_class_03_2_keras.ipynb)\n",
        "* Part 3.3: Saving and Loading a Keras Neural Network [[Video]](https://www.youtube.com/watch?v=-9QfbGM1qGw&list=PLjy4p-07OYzulelvJ5KVaT2pDlxivl_BN) [[Notebook]](t81_558_class_03_3_save_load.ipynb)\n",
        "* Part 3.4: Early Stopping in Keras to Prevent Overfitting [[Video]](https://www.youtube.com/watch?v=m1LNunuI2fk&list=PLjy4p-07OYzulelvJ5KVaT2pDlxivl_BN) [[Notebook]](t81_558_class_03_4_early_stop.ipynb)\n",
        "* Part 3.5: Extracting Weights and Manual Calculation [[Video]](https://www.youtube.com/watch?v=7PWgx16kH8s&list=PLjy4p-07OYzulelvJ5KVaT2pDlxivl_BN) [[Notebook]](t81_558_class_03_5_weights.ipynb)"
      ]
    },
    {
      "cell_type": "markdown",
      "metadata": {
        "id": "P5PTKH8_rPzz",
        "colab_type": "text"
      },
      "source": [
        "# Part 3.2: Introduction to Tensorflow and Keras\n",
        "\n",
        "![TensorFlow](https://raw.githubusercontent.com/jeffheaton/t81_558_deep_learning/master/images/class_2_tensorflow.png \"TensorFlow\")\n",
        "\n",
        "TensorFlow is an open source software library for machine learning in various kinds of perceptual and language understanding tasks. It is currently used for both research and production by different teams in many commercial Google products, such as speech recognition, Gmail, Google Photos, and search, many of which had previously used its predecessor DistBelief. TensorFlow was originally developed by the Google Brain team for Google's research and production purposes and later released under the Apache 2.0 open source license on November 9, 2015.\n",
        "\n",
        "* [TensorFlow Homepage](https://www.tensorflow.org/)\n",
        "* [TensorFlow GitHib](https://github.com/tensorflow/tensorflow)\n",
        "* [TensorFlow Google Groups Support](https://groups.google.com/forum/#!forum/tensorflow)\n",
        "* [TensorFlow Google Groups Developer Discussion](https://groups.google.com/a/tensorflow.org/forum/#!forum/discuss)\n",
        "* [TensorFlow FAQ](https://www.tensorflow.org/resources/faq)\n"
      ]
    },
    {
      "cell_type": "markdown",
      "metadata": {
        "id": "7boYbeKTrPz0",
        "colab_type": "text"
      },
      "source": [
        "### What version of TensorFlow do you have?\n",
        "\n",
        "TensorFlow is very new and changing rapidly.  It is very important that you run the same version of it that I am using.  For this semester we will use a specific version of TensorFlow (mentioned in the last class notes)."
      ]
    },
    {
      "cell_type": "markdown",
      "metadata": {
        "id": "bmOxAJPQrPz1",
        "colab_type": "text"
      },
      "source": [
        "![Self Driving Car](http://imgc-cn.artprintimages.com/images/P-473-488-90/94/9475/CFB6500Z/posters/paul-noth-does-your-car-have-any-idea-why-my-car-pulled-it-over-new-yorker-cartoon.jpg)\n",
        "\n",
        "[Wrong version of TensorFlow?](https://twitter.com/reza_zadeh/status/849160032608440320)"
      ]
    },
    {
      "cell_type": "code",
      "metadata": {
        "id": "Y9zKbJ_XrPz2",
        "colab_type": "code",
        "outputId": "22853135-95d8-4d64-b406-f48fcebdee22",
        "colab": {
          "base_uri": "https://localhost:8080/",
          "height": 34
        }
      },
      "source": [
        "import tensorflow as tf\n",
        "print(\"Tensor Flow Version: {}\".format(tf.__version__))"
      ],
      "execution_count": 0,
      "outputs": [
        {
          "output_type": "stream",
          "text": [
            "Tensor Flow Version: 1.15.0\n"
          ],
          "name": "stdout"
        }
      ]
    },
    {
      "cell_type": "markdown",
      "metadata": {
        "id": "FrOoU2mXrPz4",
        "colab_type": "text"
      },
      "source": [
        "### Installing TensorFlow\n",
        "\n",
        "* [Google CoLab](https://colab.research.google.com/) - All platforms, use your browser (includes a GPU).\n",
        "* Windows - Supported platform.\n",
        "* Mac - Supported platform.\n",
        "* Linux - Supported platform."
      ]
    },
    {
      "cell_type": "markdown",
      "metadata": {
        "id": "P6NsiZmSrPz5",
        "colab_type": "text"
      },
      "source": [
        "### Why TensorFlow\n",
        "\n",
        "* Supported by Google\n",
        "* Works well on Linux/Mac\n",
        "* Excellent GPU support\n",
        "* Python is an easy to learn programming language\n",
        "* Python is [extremely popular](http://www.kdnuggets.com/2014/08/four-main-languages-analytics-data-mining-data-science.html) in the data science community\n",
        "\n",
        "### Other Deep Learning Tools\n",
        "TensorFlow is not the only only game in town.  These are some of the best supported alternatives.  Most of these are written in C++. In order of my own preference (ordered in my own estimation of approximate importance):\n",
        "\n",
        "* [TensorFlow](https://www.tensorflow.org/) Google's deep learning API.  The focus of this class, along with Keras.\n",
        "* [MXNet](https://mxnet.incubator.apache.org/) Apache foundation's deep learning API. Can be used through Keras.\n",
        "* [Theano](http://deeplearning.net/software/theano/) - Python, from the academics that created deep learning.\n",
        "* [Keras](https://keras.io/) - Also by Google, higher level framework that allows the use of TensorFlow, MXNet and Theano interchangeably.\n",
        "[Torch](http://torch.ch/) is used by Google DeepMind, the Facebook AI Research Group, IBM, Yandex and the Idiap Research Institute.  It has been used for some of the most advanced deep learning projects in the world.  However, it requires the [LUA](https://en.wikipedia.org/wiki/Lua_(programming_language)) programming language.  It is very advanced, but it is not mainstream.  I have not worked with Torch (yet!).\n",
        "* [PaddlePaddle](https://github.com/baidu/Paddle) - [Baidu](http://www.baidu.com/)'s deep learning API.\n",
        "* [Deeplearning4J](http://deeplearning4j.org/) - Java based. Supports all major platforms. GPU support in Java!\n",
        "* [Computational Network Toolkit (CNTK)](https://github.com/Microsoft/CNTK) - Microsoft.  Support for Windows/Linux, command line only.  Bindings for predictions for C#/Python. GPU support.\n",
        "* [H2O](http://www.h2o.ai/) - Java based.  Supports all major platforms.  Limited support for computer vision. No GPU support.\n",
        "\n"
      ]
    },
    {
      "cell_type": "markdown",
      "metadata": {
        "id": "XxM-LhMzrPz6",
        "colab_type": "text"
      },
      "source": [
        "### Using TensorFlow\n",
        "\n",
        "TensorFlow is a low-level mathematics API, similar to [Numpy](http://www.numpy.org/).  However, unlike Numpy, TensorFlow is built for deep learning.  TensorFlow works by allowing you to define compute graphs with Python.  In this regard, it is similar to [Spark](http://spark.apache.org/).  TensorFlow compiles these compute graphs into highly efficient C++/[CUDA](https://en.wikipedia.org/wiki/CUDA) code.\n",
        "\n",
        "The [TensorBoard](https://www.tensorflow.org/versions/r0.10/how_tos/summaries_and_tensorboard/index.html) command line utility can be used to view these graphs.  The iris neural network's graph used in this class is shown here:\n",
        "\n",
        "![Iris Graph](https://raw.githubusercontent.com/jeffheaton/t81_558_deep_learning/master/images/class_2_graph_tf.png \"Iris Graph\")\n",
        "\n",
        "Expanding the DNN gives:\n",
        "\n",
        "\n",
        "![Iris DNN Graph](https://raw.githubusercontent.com/jeffheaton/t81_558_deep_learning/master/images/class_2_graph_dnn.png \"Iris DNN Graph\")\n"
      ]
    },
    {
      "cell_type": "markdown",
      "metadata": {
        "id": "qIb_0huerPz7",
        "colab_type": "text"
      },
      "source": [
        "### Using TensorFlow Directly\n",
        "\n",
        "Most of the time in the course we will communicate with TensorFlow using Keras, which allows you to specify the number of hidden layers and simply create the neural network.  "
      ]
    },
    {
      "cell_type": "code",
      "metadata": {
        "id": "hQkPMjHXrPz8",
        "colab_type": "code",
        "outputId": "81390956-5883-48a2-8235-be922d524872",
        "colab": {
          "base_uri": "https://localhost:8080/",
          "height": 195
        }
      },
      "source": [
        "# Import libraries for simulation\n",
        "import tensorflow as tf\n",
        "import numpy as np\n",
        "\n",
        "# Imports for visualization\n",
        "import PIL.Image\n",
        "from io import BytesIO\n",
        "from IPython.display import Image, display\n",
        "\n",
        "def DisplayFractal(a, fmt='jpeg'):\n",
        "  \"\"\"Display an array of iteration counts as a\n",
        "     colorful picture of a fractal.\"\"\"\n",
        "  a_cyclic = (6.28*a/20.0).reshape(list(a.shape)+[1])\n",
        "  img = np.concatenate([10+20*np.cos(a_cyclic),\n",
        "                        30+50*np.sin(a_cyclic),\n",
        "                        155-80*np.cos(a_cyclic)], 2)\n",
        "  img[a==a.max()] = 0\n",
        "  a = img\n",
        "  a = np.uint8(np.clip(a, 0, 255))\n",
        "  f = BytesIO()\n",
        "  PIL.Image.fromarray(a).save(f, fmt)\n",
        "  display(Image(data=f.getvalue()))\n",
        "\n",
        "# Use NumPy to create a 2D array of complex numbers\n",
        "\n",
        "Y, X = np.mgrid[-1.3:1.3:0.005, -2:1:0.005]\n",
        "Z = X+1j*Y\n",
        "\n",
        "xs = tf.constant(Z.astype(np.complex64))\n",
        "zs = tf.Variable(xs)\n",
        "ns = tf.Variable(tf.zeros_like(xs, tf.float32))\n",
        "\n",
        "\n",
        "\n",
        "# Operation to update the zs and the iteration count.\n",
        "#\n",
        "# Note: We keep computing zs after they diverge! This\n",
        "#       is very wasteful! There are better, if a little\n",
        "#       less simple, ways to do this.\n",
        "#\n",
        "for i in range(200):\n",
        "    # Compute the new values of z: z^2 + x\n",
        "    zs_ = zs*zs + xs\n",
        "\n",
        "    # Have we diverged with this new value?\n",
        "    not_diverged = tf.abs(zs_) < 4\n",
        "\n",
        "    zs.assign(zs_),\n",
        "    ns.assign_add(tf.cast(not_diverged, tf.float32))\n",
        "    \n",
        "DisplayFractal(ns.numpy())"
      ],
      "execution_count": 0,
      "outputs": [
        {
          "output_type": "error",
          "ename": "AttributeError",
          "evalue": "ignored",
          "traceback": [
            "\u001b[0;31m---------------------------------------------------------------------------\u001b[0m",
            "\u001b[0;31mAttributeError\u001b[0m                            Traceback (most recent call last)",
            "\u001b[0;32m<ipython-input-2-aaf2fcf53904>\u001b[0m in \u001b[0;36m<module>\u001b[0;34m()\u001b[0m\n\u001b[1;32m     48\u001b[0m     \u001b[0mns\u001b[0m\u001b[0;34m.\u001b[0m\u001b[0massign_add\u001b[0m\u001b[0;34m(\u001b[0m\u001b[0mtf\u001b[0m\u001b[0;34m.\u001b[0m\u001b[0mcast\u001b[0m\u001b[0;34m(\u001b[0m\u001b[0mnot_diverged\u001b[0m\u001b[0;34m,\u001b[0m \u001b[0mtf\u001b[0m\u001b[0;34m.\u001b[0m\u001b[0mfloat32\u001b[0m\u001b[0;34m)\u001b[0m\u001b[0;34m)\u001b[0m\u001b[0;34m\u001b[0m\u001b[0;34m\u001b[0m\u001b[0m\n\u001b[1;32m     49\u001b[0m \u001b[0;34m\u001b[0m\u001b[0m\n\u001b[0;32m---> 50\u001b[0;31m \u001b[0mDisplayFractal\u001b[0m\u001b[0;34m(\u001b[0m\u001b[0mns\u001b[0m\u001b[0;34m.\u001b[0m\u001b[0mnumpy\u001b[0m\u001b[0;34m(\u001b[0m\u001b[0;34m)\u001b[0m\u001b[0;34m)\u001b[0m\u001b[0;34m\u001b[0m\u001b[0;34m\u001b[0m\u001b[0m\n\u001b[0m",
            "\u001b[0;31mAttributeError\u001b[0m: 'RefVariable' object has no attribute 'numpy'"
          ]
        }
      ]
    },
    {
      "cell_type": "code",
      "metadata": {
        "id": "2QmqbbzCrPz_",
        "colab_type": "code",
        "outputId": "840d5c9d-012f-4f3b-f084-b88eb7b8c928",
        "colab": {
          "base_uri": "https://localhost:8080/",
          "height": 212
        }
      },
      "source": [
        "import tensorflow as tf\n",
        "\n",
        "# Create a Constant op that produces a 1x2 matrix.  The op is\n",
        "# added as a node to the default graph.\n",
        "#\n",
        "# The value returned by the constructor represents the output\n",
        "# of the Constant op.\n",
        "matrix1 = tf.constant([[3., 3.]])\n",
        "\n",
        "# Create another Constant that produces a 2x1 matrix.\n",
        "matrix2 = tf.constant([[2.],[2.]])\n",
        "\n",
        "# Create a Matmul op that takes 'matrix1' and 'matrix2' as inputs.\n",
        "# The returned value, 'product', represents the result of the matrix\n",
        "# multiplication.\n",
        "product = tf.matmul(matrix1, matrix2)\n",
        "\n",
        "print(product)\n",
        "print(float(product))"
      ],
      "execution_count": 0,
      "outputs": [
        {
          "output_type": "stream",
          "text": [
            "Tensor(\"MatMul:0\", shape=(1, 1), dtype=float32)\n"
          ],
          "name": "stdout"
        },
        {
          "output_type": "error",
          "ename": "TypeError",
          "evalue": "ignored",
          "traceback": [
            "\u001b[0;31m---------------------------------------------------------------------------\u001b[0m",
            "\u001b[0;31mTypeError\u001b[0m                                 Traceback (most recent call last)",
            "\u001b[0;32m<ipython-input-3-c8f0a53e3bd7>\u001b[0m in \u001b[0;36m<module>\u001b[0;34m()\u001b[0m\n\u001b[1;32m     17\u001b[0m \u001b[0;34m\u001b[0m\u001b[0m\n\u001b[1;32m     18\u001b[0m \u001b[0mprint\u001b[0m\u001b[0;34m(\u001b[0m\u001b[0mproduct\u001b[0m\u001b[0;34m)\u001b[0m\u001b[0;34m\u001b[0m\u001b[0;34m\u001b[0m\u001b[0m\n\u001b[0;32m---> 19\u001b[0;31m \u001b[0mprint\u001b[0m\u001b[0;34m(\u001b[0m\u001b[0mfloat\u001b[0m\u001b[0;34m(\u001b[0m\u001b[0mproduct\u001b[0m\u001b[0;34m)\u001b[0m\u001b[0;34m)\u001b[0m\u001b[0;34m\u001b[0m\u001b[0;34m\u001b[0m\u001b[0m\n\u001b[0m",
            "\u001b[0;31mTypeError\u001b[0m: float() argument must be a string or a number, not 'Tensor'"
          ]
        }
      ]
    },
    {
      "cell_type": "code",
      "metadata": {
        "id": "AKAdw50yrP0B",
        "colab_type": "code",
        "outputId": "ab89c934-668c-4da0-c28b-1d646dae23cb",
        "colab": {
          "base_uri": "https://localhost:8080/",
          "height": 229
        }
      },
      "source": [
        "# Enter an interactive TensorFlow Session.\n",
        "import tensorflow as tf\n",
        "\n",
        "x = tf.Variable([1.0, 2.0])\n",
        "a = tf.constant([3.0, 3.0])\n",
        "\n",
        "# Add an op to subtract 'a' from 'x'.  Run it and print the result\n",
        "sub = tf.subtract(x, a)\n",
        "print(sub)\n",
        "print(sub.numpy())\n",
        "# ==> [-2. -1.]"
      ],
      "execution_count": 0,
      "outputs": [
        {
          "output_type": "stream",
          "text": [
            "Tensor(\"Sub:0\", shape=(2,), dtype=float32)\n"
          ],
          "name": "stdout"
        },
        {
          "output_type": "error",
          "ename": "AttributeError",
          "evalue": "ignored",
          "traceback": [
            "\u001b[0;31m---------------------------------------------------------------------------\u001b[0m",
            "\u001b[0;31mAttributeError\u001b[0m                            Traceback (most recent call last)",
            "\u001b[0;32m<ipython-input-4-f5fd4008d996>\u001b[0m in \u001b[0;36m<module>\u001b[0;34m()\u001b[0m\n\u001b[1;32m      7\u001b[0m \u001b[0msub\u001b[0m \u001b[0;34m=\u001b[0m \u001b[0mtf\u001b[0m\u001b[0;34m.\u001b[0m\u001b[0msubtract\u001b[0m\u001b[0;34m(\u001b[0m\u001b[0mx\u001b[0m\u001b[0;34m,\u001b[0m \u001b[0ma\u001b[0m\u001b[0;34m)\u001b[0m\u001b[0;34m\u001b[0m\u001b[0;34m\u001b[0m\u001b[0m\n\u001b[1;32m      8\u001b[0m \u001b[0mprint\u001b[0m\u001b[0;34m(\u001b[0m\u001b[0msub\u001b[0m\u001b[0;34m)\u001b[0m\u001b[0;34m\u001b[0m\u001b[0;34m\u001b[0m\u001b[0m\n\u001b[0;32m----> 9\u001b[0;31m \u001b[0mprint\u001b[0m\u001b[0;34m(\u001b[0m\u001b[0msub\u001b[0m\u001b[0;34m.\u001b[0m\u001b[0mnumpy\u001b[0m\u001b[0;34m(\u001b[0m\u001b[0;34m)\u001b[0m\u001b[0;34m)\u001b[0m\u001b[0;34m\u001b[0m\u001b[0;34m\u001b[0m\u001b[0m\n\u001b[0m\u001b[1;32m     10\u001b[0m \u001b[0;31m# ==> [-2. -1.]\u001b[0m\u001b[0;34m\u001b[0m\u001b[0;34m\u001b[0m\u001b[0;34m\u001b[0m\u001b[0m\n",
            "\u001b[0;31mAttributeError\u001b[0m: 'Tensor' object has no attribute 'numpy'"
          ]
        }
      ]
    },
    {
      "cell_type": "code",
      "metadata": {
        "id": "MzCaYcnOrP0D",
        "colab_type": "code",
        "outputId": "34252335-09fa-4162-f816-0746c387808f",
        "colab": {
          "base_uri": "https://localhost:8080/",
          "height": 34
        }
      },
      "source": [
        "x.assign([4.0, 6.0])"
      ],
      "execution_count": 0,
      "outputs": [
        {
          "output_type": "execute_result",
          "data": {
            "text/plain": [
              "<tf.Tensor 'Assign_200:0' shape=(2,) dtype=float32_ref>"
            ]
          },
          "metadata": {
            "tags": []
          },
          "execution_count": 5
        }
      ]
    },
    {
      "cell_type": "code",
      "metadata": {
        "id": "DkWUd9UErP0F",
        "colab_type": "code",
        "outputId": "5c195bec-82c9-423d-bde4-050cabf266bb",
        "colab": {
          "base_uri": "https://localhost:8080/",
          "height": 212
        }
      },
      "source": [
        "sub = tf.subtract(x, a)\n",
        "print(sub)\n",
        "print(sub.numpy())"
      ],
      "execution_count": 0,
      "outputs": [
        {
          "output_type": "stream",
          "text": [
            "Tensor(\"Sub_1:0\", shape=(2,), dtype=float32)\n"
          ],
          "name": "stdout"
        },
        {
          "output_type": "error",
          "ename": "AttributeError",
          "evalue": "ignored",
          "traceback": [
            "\u001b[0;31m---------------------------------------------------------------------------\u001b[0m",
            "\u001b[0;31mAttributeError\u001b[0m                            Traceback (most recent call last)",
            "\u001b[0;32m<ipython-input-6-6072692fec10>\u001b[0m in \u001b[0;36m<module>\u001b[0;34m()\u001b[0m\n\u001b[1;32m      1\u001b[0m \u001b[0msub\u001b[0m \u001b[0;34m=\u001b[0m \u001b[0mtf\u001b[0m\u001b[0;34m.\u001b[0m\u001b[0msubtract\u001b[0m\u001b[0;34m(\u001b[0m\u001b[0mx\u001b[0m\u001b[0;34m,\u001b[0m \u001b[0ma\u001b[0m\u001b[0;34m)\u001b[0m\u001b[0;34m\u001b[0m\u001b[0;34m\u001b[0m\u001b[0m\n\u001b[1;32m      2\u001b[0m \u001b[0mprint\u001b[0m\u001b[0;34m(\u001b[0m\u001b[0msub\u001b[0m\u001b[0;34m)\u001b[0m\u001b[0;34m\u001b[0m\u001b[0;34m\u001b[0m\u001b[0m\n\u001b[0;32m----> 3\u001b[0;31m \u001b[0mprint\u001b[0m\u001b[0;34m(\u001b[0m\u001b[0msub\u001b[0m\u001b[0;34m.\u001b[0m\u001b[0mnumpy\u001b[0m\u001b[0;34m(\u001b[0m\u001b[0;34m)\u001b[0m\u001b[0;34m)\u001b[0m\u001b[0;34m\u001b[0m\u001b[0;34m\u001b[0m\u001b[0m\n\u001b[0m",
            "\u001b[0;31mAttributeError\u001b[0m: 'Tensor' object has no attribute 'numpy'"
          ]
        }
      ]
    },
    {
      "cell_type": "markdown",
      "metadata": {
        "id": "LOERDUDGrP0H",
        "colab_type": "text"
      },
      "source": [
        "### Introduction to Keras\n",
        "\n",
        "[Keras](https://keras.io/) is a layer on top of Tensorflow that makes it much easier to create neural networks.  Rather than define the graphs, like you see above, you define the individual layers of the network with a much more high level API.  Unless you are performing research into entirely new structures of deep neural networks it is unlikely that you need to program TensorFlow directly.  \n",
        "\n",
        "**For this class, we will use usually use TensorFlow through Keras, rather than direct TensorFlow**\n",
        "\n",
        "Keras is a separate install from TensorFlow.  To install Keras, use **pip install keras** after **pip install tensorflow**."
      ]
    },
    {
      "cell_type": "markdown",
      "metadata": {
        "id": "x2cA_biCrP0I",
        "colab_type": "text"
      },
      "source": [
        "### Simple TensorFlow Regression: MPG\n",
        "\n",
        "This example shows how to encode the MPG dataset for regression.  This is slightly more complex than Iris, because:\n",
        "\n",
        "* Input has both numeric and categorical\n",
        "* Input has missing values\n",
        "\n",
        "This example uses functions defined above in this notepad, the \"helpful functions\". These functions allow you to build the feature vector for a neural network. Consider the following:\n",
        "\n",
        "* Predictors/Inputs \n",
        "    * Fill any missing inputs with the median for that column.  Use **missing_median**.\n",
        "    * Encode textual/categorical values with **encode_text_dummy**.\n",
        "    * Encode numeric values with **encode_numeric_zscore**.\n",
        "* Output\n",
        "    * Discard rows with missing outputs.\n",
        "    * Encode textual/categorical values with **encode_text_index**.\n",
        "    * Do not encode output numeric values.\n",
        "* Produce final feature vectors (x) and expected output (y) with **to_xy**.\n",
        "\n",
        "To encode categorical values that are part of the feature vector, use the functions from above.  If the categorical value is the target (as was the case with Iris, use the same technique as Iris). The iris technique allows you to decode back to Iris text strings from the predictions."
      ]
    },
    {
      "cell_type": "code",
      "metadata": {
        "id": "PXUbqjYwrP0I",
        "colab_type": "code",
        "outputId": "c285ee8b-9256-4f48-b3e0-497410968428",
        "colab": {
          "base_uri": "https://localhost:8080/",
          "height": 34
        }
      },
      "source": [
        "from tensorflow.keras.models import Sequential\n",
        "from tensorflow.keras.layers import Dense, Activation\n",
        "import pandas as pd\n",
        "import io\n",
        "import os\n",
        "import requests\n",
        "import numpy as np\n",
        "from sklearn import metrics\n",
        "\n",
        "df = pd.read_csv(\n",
        "    \"https://data.heatonresearch.com/data/t81-558/auto-mpg.csv\", \n",
        "    na_values=['NA', '?'])\n",
        "\n",
        "cars = df['name']\n",
        "\n",
        "# Handle missing value\n",
        "df['horsepower'] = df['horsepower'].fillna(df['horsepower'].median())\n",
        "\n",
        "# Pandas to Numpy\n",
        "x = df[['cylinders', 'displacement', 'horsepower', 'weight',\n",
        "       'acceleration', 'year', 'origin']].values\n",
        "y = df['mpg'].values # regression\n",
        "\n",
        "# Build the neural network\n",
        "model = Sequential()\n",
        "model.add(Dense(25, input_dim=x.shape[1], activation='relu')) # Hidden 1\n",
        "model.add(Dense(10, activation='relu')) # Hidden 2\n",
        "model.add(Dense(1)) # Output\n",
        "model.compile(loss='mean_squared_error', optimizer='adam')\n",
        "model.fit(x,y,verbose=0,epochs=100)"
      ],
      "execution_count": 29,
      "outputs": [
        {
          "output_type": "execute_result",
          "data": {
            "text/plain": [
              "<tensorflow.python.keras.callbacks.History at 0x7f2e8d71d8d0>"
            ]
          },
          "metadata": {
            "tags": []
          },
          "execution_count": 29
        }
      ]
    },
    {
      "cell_type": "code",
      "metadata": {
        "id": "MI0VqQpPdgA_",
        "colab_type": "code",
        "colab": {
          "base_uri": "https://localhost:8080/",
          "height": 34
        },
        "outputId": "812a08e3-8c66-465b-896d-99373f06511b"
      },
      "source": [
        "x[0].shape"
      ],
      "execution_count": 35,
      "outputs": [
        {
          "output_type": "execute_result",
          "data": {
            "text/plain": [
              "(7,)"
            ]
          },
          "metadata": {
            "tags": []
          },
          "execution_count": 35
        }
      ]
    },
    {
      "cell_type": "markdown",
      "metadata": {
        "id": "7Ot0pnA2rP0L",
        "colab_type": "text"
      },
      "source": [
        "### Introduction to Neural Network Hyperparameters\n",
        "\n",
        "If you look at the above code you will see that the neural network is made up of 4 layers.  The first layer is the input layer.  This is specified by **input_dim** and it is set to be the number of inputs that the dataset has.  One input neuron is needed for ever input (including dummy variables).  However, there are also several hidden layers, with 25 and 10 neurons each. You might be wondering how these numbers were chosen?  This is one of the most common questions about neural networks.  Unfortunately, there is not a good answer.  These are hyperparameters.  They are settings that can affect neural network performance, yet there is not a clearly defined means of setting them.\n",
        "\n",
        "In general, more hidden neurons mean more capability to fit to complex problems.  However, too many neurons can lead to overfitting and lengthy training times.  Too few can lead to underfitting the problem and will sacrifice accuracy.  Also, how many layers you have is another hyperparameter.  In general, more layers allow the neural network to be able to perform more of its own feature engineering and data preprocessing.  But this also comes at the expense of training times and risk of overfitting.  In general, you will see that neuron counts start out larger near the input layer and tend to shrink towards the output layer in a sort of triangular fashion. \n",
        "\n",
        "There are techniques that use machine learning to optimize these values.  These will be discussed in [Module 8.3](t81_558_class_08_3_keras_hyperparameters.ipynb).\n",
        "\n",
        "### Controlling the Amount of Output\n",
        "\n",
        "One line is produced for each training epoch.  You can eliminate this output by setting the verbose setting of the fit command:\n",
        "\n",
        "* **verbose=0** - No progress output (use with Juputer if you do not want output)\n",
        "* **verbose=1** - Display progress bar, does not work well with Jupyter\n",
        "* **verbose=2** - Summary progress output (use with Jupyter if you want to know the loss at each epoch)\n",
        "\n",
        "### Regression Prediction"
      ]
    },
    {
      "cell_type": "markdown",
      "metadata": {
        "id": "gknpbZn3rP0M",
        "colab_type": "text"
      },
      "source": [
        "Next, we will perform actual predictions.  These predictions are assigned to the **pred** variable. These are all MPG predictions from the neural network.  Notice that this is a 2D array?  You can always see the dimensions of what is returned by printing out **pred.shape**.  Neural networks can return multiple values, so the result is always an array.  Here the neural network only returns 1 value per prediction (there are 398 cars, so 398 predictions).  However, a 2D array is needed because the neural network has the potential of returning more than one value.   "
      ]
    },
    {
      "cell_type": "code",
      "metadata": {
        "id": "2hgiWp6wrP0N",
        "colab_type": "code",
        "outputId": "f7ad070a-85ff-4a5f-b811-db5d0d5f4baa",
        "colab": {
          "base_uri": "https://localhost:8080/",
          "height": 34
        }
      },
      "source": [
        "pred = model.predict(x)\n",
        "print(\"Shape: {}\".format(pred.shape))\n",
        "#print(pred)"
      ],
      "execution_count": 30,
      "outputs": [
        {
          "output_type": "stream",
          "text": [
            "Shape: (398, 1)\n"
          ],
          "name": "stdout"
        }
      ]
    },
    {
      "cell_type": "markdown",
      "metadata": {
        "id": "dP4IgoyGrP0O",
        "colab_type": "text"
      },
      "source": [
        "We would like to see how good these predictions are.  We know what the correct MPG is for each car, so we can measure how close the neural network was."
      ]
    },
    {
      "cell_type": "code",
      "metadata": {
        "id": "9_btF_MsrP0P",
        "colab_type": "code",
        "outputId": "09b970b6-a1df-4629-a5d1-a3a0956ae365",
        "colab": {
          "base_uri": "https://localhost:8080/",
          "height": 34
        }
      },
      "source": [
        "# Measure RMSE error.  RMSE is common for regression.\n",
        "score = np.sqrt(metrics.mean_squared_error(pred,y))\n",
        "print(f\"Final score (RMSE): {score}\")"
      ],
      "execution_count": 31,
      "outputs": [
        {
          "output_type": "stream",
          "text": [
            "Final score (RMSE): 3.531294040252697\n"
          ],
          "name": "stdout"
        }
      ]
    },
    {
      "cell_type": "markdown",
      "metadata": {
        "id": "ctrXOaAarP0R",
        "colab_type": "text"
      },
      "source": [
        "This means that, on average the predictions were within +/- 5.89 values of the correct value.  This is not very good, but we will soon see how to improve it.\n",
        "\n",
        "We can also print out the first 10 cars, with predictions and actual MPG."
      ]
    },
    {
      "cell_type": "code",
      "metadata": {
        "id": "bXtNzeG1rP0R",
        "colab_type": "code",
        "outputId": "c6dda267-37e5-44d0-cf26-2436a9b300fc",
        "colab": {
          "base_uri": "https://localhost:8080/",
          "height": 185
        }
      },
      "source": [
        "# Sample predictions\n",
        "for i in range(10):\n",
        "    print(f\"{i+1}. Car name: {cars[i]}, MPG: {y[i]}, predicted MPG: {pred[i][0]}\")"
      ],
      "execution_count": 33,
      "outputs": [
        {
          "output_type": "stream",
          "text": [
            "1. Car name: chevrolet chevelle malibu, MPG: 18.0, predicted MPG: 14.368400573730469\n",
            "2. Car name: buick skylark 320, MPG: 15.0, predicted MPG: 13.8021240234375\n",
            "3. Car name: plymouth satellite, MPG: 18.0, predicted MPG: 14.029802322387695\n",
            "4. Car name: amc rebel sst, MPG: 16.0, predicted MPG: 13.734855651855469\n",
            "5. Car name: ford torino, MPG: 17.0, predicted MPG: 13.765117645263672\n",
            "6. Car name: ford galaxie 500, MPG: 15.0, predicted MPG: 12.928528785705566\n",
            "7. Car name: chevrolet impala, MPG: 14.0, predicted MPG: 12.72471809387207\n",
            "8. Car name: plymouth fury iii, MPG: 14.0, predicted MPG: 12.505976676940918\n",
            "9. Car name: pontiac catalina, MPG: 14.0, predicted MPG: 12.505830764770508\n",
            "10. Car name: amc ambassador dpl, MPG: 15.0, predicted MPG: 13.22651195526123\n"
          ],
          "name": "stdout"
        }
      ]
    },
    {
      "cell_type": "markdown",
      "metadata": {
        "id": "PB5i1QiJrP0W",
        "colab_type": "text"
      },
      "source": [
        "### Simple TensorFlow Classification: Iris\n",
        "\n",
        "This is a very simple example of how to perform the Iris classification using TensorFlow.  The iris.csv file is used, rather than using the built-in files that many of the Google examples require.  \n",
        "\n",
        "**Make sure that you always run previous code blocks.  If you run the code block below, without the codeblock above, you will get errors**"
      ]
    },
    {
      "cell_type": "code",
      "metadata": {
        "id": "AgZwJ2LdrP0X",
        "colab_type": "code",
        "outputId": "03803002-75c1-4f76-f5fe-ccae10d2a28b",
        "colab": {
          "base_uri": "https://localhost:8080/",
          "height": 1000
        }
      },
      "source": [
        "import pandas as pd\n",
        "import io\n",
        "import requests\n",
        "import numpy as np\n",
        "from sklearn import metrics\n",
        "from tensorflow.keras.models import Sequential\n",
        "from tensorflow.keras.layers import Dense, Activation\n",
        "from tensorflow.keras.callbacks import EarlyStopping\n",
        "\n",
        "df = pd.read_csv(\n",
        "    \"https://data.heatonresearch.com/data/t81-558/iris.csv\", \n",
        "    na_values=['NA', '?'])\n",
        "\n",
        "# Convert to numpy - Classification\n",
        "x = df[['sepal_l', 'sepal_w', 'petal_l', 'petal_w']].values\n",
        "dummies = pd.get_dummies(df['species']) # Classification\n",
        "species = dummies.columns\n",
        "y = dummies.values\n",
        "\n",
        "\n",
        "# Build neural network\n",
        "model = Sequential()\n",
        "model.add(Dense(50, input_dim=x.shape[1], activation='relu')) # Hidden 1\n",
        "model.add(Dense(25, activation='relu')) # Hidden 2\n",
        "model.add(Dense(y.shape[1],activation='softmax')) # Output\n",
        "\n",
        "model.compile(loss='categorical_crossentropy', optimizer='adam')\n",
        "model.fit(x,y,verbose=2,epochs=100)"
      ],
      "execution_count": 36,
      "outputs": [
        {
          "output_type": "stream",
          "text": [
            "Train on 150 samples\n",
            "Epoch 1/100\n",
            "150/150 - 0s - loss: 0.9747\n",
            "Epoch 2/100\n",
            "150/150 - 0s - loss: 0.8705\n",
            "Epoch 3/100\n",
            "150/150 - 0s - loss: 0.8089\n",
            "Epoch 4/100\n",
            "150/150 - 0s - loss: 0.7580\n",
            "Epoch 5/100\n",
            "150/150 - 0s - loss: 0.7113\n",
            "Epoch 6/100\n",
            "150/150 - 0s - loss: 0.6692\n",
            "Epoch 7/100\n",
            "150/150 - 0s - loss: 0.6333\n",
            "Epoch 8/100\n",
            "150/150 - 0s - loss: 0.6011\n",
            "Epoch 9/100\n",
            "150/150 - 0s - loss: 0.5729\n",
            "Epoch 10/100\n",
            "150/150 - 0s - loss: 0.5485\n",
            "Epoch 11/100\n",
            "150/150 - 0s - loss: 0.5239\n",
            "Epoch 12/100\n",
            "150/150 - 0s - loss: 0.5035\n",
            "Epoch 13/100\n",
            "150/150 - 0s - loss: 0.4845\n",
            "Epoch 14/100\n",
            "150/150 - 0s - loss: 0.4669\n",
            "Epoch 15/100\n",
            "150/150 - 0s - loss: 0.4523\n",
            "Epoch 16/100\n",
            "150/150 - 0s - loss: 0.4369\n",
            "Epoch 17/100\n",
            "150/150 - 0s - loss: 0.4257\n",
            "Epoch 18/100\n",
            "150/150 - 0s - loss: 0.4116\n",
            "Epoch 19/100\n",
            "150/150 - 0s - loss: 0.4010\n",
            "Epoch 20/100\n",
            "150/150 - 0s - loss: 0.3875\n",
            "Epoch 21/100\n",
            "150/150 - 0s - loss: 0.3786\n",
            "Epoch 22/100\n",
            "150/150 - 0s - loss: 0.3669\n",
            "Epoch 23/100\n",
            "150/150 - 0s - loss: 0.3590\n",
            "Epoch 24/100\n",
            "150/150 - 0s - loss: 0.3479\n",
            "Epoch 25/100\n",
            "150/150 - 0s - loss: 0.3394\n",
            "Epoch 26/100\n",
            "150/150 - 0s - loss: 0.3301\n",
            "Epoch 27/100\n",
            "150/150 - 0s - loss: 0.3216\n",
            "Epoch 28/100\n",
            "150/150 - 0s - loss: 0.3147\n",
            "Epoch 29/100\n",
            "150/150 - 0s - loss: 0.3037\n",
            "Epoch 30/100\n",
            "150/150 - 0s - loss: 0.2971\n",
            "Epoch 31/100\n",
            "150/150 - 0s - loss: 0.2907\n",
            "Epoch 32/100\n",
            "150/150 - 0s - loss: 0.2838\n",
            "Epoch 33/100\n",
            "150/150 - 0s - loss: 0.2755\n",
            "Epoch 34/100\n",
            "150/150 - 0s - loss: 0.2687\n",
            "Epoch 35/100\n",
            "150/150 - 0s - loss: 0.2644\n",
            "Epoch 36/100\n",
            "150/150 - 0s - loss: 0.2552\n",
            "Epoch 37/100\n",
            "150/150 - 0s - loss: 0.2475\n",
            "Epoch 38/100\n",
            "150/150 - 0s - loss: 0.2440\n",
            "Epoch 39/100\n",
            "150/150 - 0s - loss: 0.2350\n",
            "Epoch 40/100\n",
            "150/150 - 0s - loss: 0.2334\n",
            "Epoch 41/100\n",
            "150/150 - 0s - loss: 0.2298\n",
            "Epoch 42/100\n",
            "150/150 - 0s - loss: 0.2212\n",
            "Epoch 43/100\n",
            "150/150 - 0s - loss: 0.2157\n",
            "Epoch 44/100\n",
            "150/150 - 0s - loss: 0.2097\n",
            "Epoch 45/100\n",
            "150/150 - 0s - loss: 0.2047\n",
            "Epoch 46/100\n",
            "150/150 - 0s - loss: 0.1992\n",
            "Epoch 47/100\n",
            "150/150 - 0s - loss: 0.1943\n",
            "Epoch 48/100\n",
            "150/150 - 0s - loss: 0.1899\n",
            "Epoch 49/100\n",
            "150/150 - 0s - loss: 0.1853\n",
            "Epoch 50/100\n",
            "150/150 - 0s - loss: 0.1811\n",
            "Epoch 51/100\n",
            "150/150 - 0s - loss: 0.1766\n",
            "Epoch 52/100\n",
            "150/150 - 0s - loss: 0.1733\n",
            "Epoch 53/100\n",
            "150/150 - 0s - loss: 0.1693\n",
            "Epoch 54/100\n",
            "150/150 - 0s - loss: 0.1666\n",
            "Epoch 55/100\n",
            "150/150 - 0s - loss: 0.1659\n",
            "Epoch 56/100\n",
            "150/150 - 0s - loss: 0.1617\n",
            "Epoch 57/100\n",
            "150/150 - 0s - loss: 0.1566\n",
            "Epoch 58/100\n",
            "150/150 - 0s - loss: 0.1531\n",
            "Epoch 59/100\n",
            "150/150 - 0s - loss: 0.1507\n",
            "Epoch 60/100\n",
            "150/150 - 0s - loss: 0.1468\n",
            "Epoch 61/100\n",
            "150/150 - 0s - loss: 0.1459\n",
            "Epoch 62/100\n",
            "150/150 - 0s - loss: 0.1451\n",
            "Epoch 63/100\n",
            "150/150 - 0s - loss: 0.1412\n",
            "Epoch 64/100\n",
            "150/150 - 0s - loss: 0.1360\n",
            "Epoch 65/100\n",
            "150/150 - 0s - loss: 0.1342\n",
            "Epoch 66/100\n",
            "150/150 - 0s - loss: 0.1317\n",
            "Epoch 67/100\n",
            "150/150 - 0s - loss: 0.1294\n",
            "Epoch 68/100\n",
            "150/150 - 0s - loss: 0.1266\n",
            "Epoch 69/100\n",
            "150/150 - 0s - loss: 0.1278\n",
            "Epoch 70/100\n",
            "150/150 - 0s - loss: 0.1215\n",
            "Epoch 71/100\n",
            "150/150 - 0s - loss: 0.1246\n",
            "Epoch 72/100\n",
            "150/150 - 0s - loss: 0.1196\n",
            "Epoch 73/100\n",
            "150/150 - 0s - loss: 0.1191\n",
            "Epoch 74/100\n",
            "150/150 - 0s - loss: 0.1154\n",
            "Epoch 75/100\n",
            "150/150 - 0s - loss: 0.1149\n",
            "Epoch 76/100\n",
            "150/150 - 0s - loss: 0.1141\n",
            "Epoch 77/100\n",
            "150/150 - 0s - loss: 0.1103\n",
            "Epoch 78/100\n",
            "150/150 - 0s - loss: 0.1123\n",
            "Epoch 79/100\n",
            "150/150 - 0s - loss: 0.1088\n",
            "Epoch 80/100\n",
            "150/150 - 0s - loss: 0.1085\n",
            "Epoch 81/100\n",
            "150/150 - 0s - loss: 0.1063\n",
            "Epoch 82/100\n",
            "150/150 - 0s - loss: 0.1047\n",
            "Epoch 83/100\n",
            "150/150 - 0s - loss: 0.1025\n",
            "Epoch 84/100\n",
            "150/150 - 0s - loss: 0.1025\n",
            "Epoch 85/100\n",
            "150/150 - 0s - loss: 0.1010\n",
            "Epoch 86/100\n",
            "150/150 - 0s - loss: 0.1026\n",
            "Epoch 87/100\n",
            "150/150 - 0s - loss: 0.0993\n",
            "Epoch 88/100\n",
            "150/150 - 0s - loss: 0.0986\n",
            "Epoch 89/100\n",
            "150/150 - 0s - loss: 0.0977\n",
            "Epoch 90/100\n",
            "150/150 - 0s - loss: 0.0952\n",
            "Epoch 91/100\n",
            "150/150 - 0s - loss: 0.0951\n",
            "Epoch 92/100\n",
            "150/150 - 0s - loss: 0.0960\n",
            "Epoch 93/100\n",
            "150/150 - 0s - loss: 0.0939\n",
            "Epoch 94/100\n",
            "150/150 - 0s - loss: 0.0923\n",
            "Epoch 95/100\n",
            "150/150 - 0s - loss: 0.0913\n",
            "Epoch 96/100\n",
            "150/150 - 0s - loss: 0.0904\n",
            "Epoch 97/100\n",
            "150/150 - 0s - loss: 0.0912\n",
            "Epoch 98/100\n",
            "150/150 - 0s - loss: 0.0936\n",
            "Epoch 99/100\n",
            "150/150 - 0s - loss: 0.0927\n",
            "Epoch 100/100\n",
            "150/150 - 0s - loss: 0.0882\n"
          ],
          "name": "stdout"
        },
        {
          "output_type": "execute_result",
          "data": {
            "text/plain": [
              "<tensorflow.python.keras.callbacks.History at 0x7f2e8d5dde10>"
            ]
          },
          "metadata": {
            "tags": []
          },
          "execution_count": 36
        }
      ]
    },
    {
      "cell_type": "code",
      "metadata": {
        "id": "7ODt0s8ZrP0Y",
        "colab_type": "code",
        "outputId": "170d17d0-9adf-4bcb-9339-7292739266c9",
        "colab": {
          "base_uri": "https://localhost:8080/",
          "height": 34
        }
      },
      "source": [
        "# Print out number of species found:\n",
        "\n",
        "print(species)"
      ],
      "execution_count": 6,
      "outputs": [
        {
          "output_type": "stream",
          "text": [
            "Index(['Iris-setosa', 'Iris-versicolor', 'Iris-virginica'], dtype='object')\n"
          ],
          "name": "stdout"
        }
      ]
    },
    {
      "cell_type": "markdown",
      "metadata": {
        "id": "VpbF9wbgrP0b",
        "colab_type": "text"
      },
      "source": [
        "Now that you have a neural network trained, we would like to be able to use it. The following code makes use of our neural network. Exactly like before, we will generate predictions.  Notice that 3 values come back for each of the 150 iris flowers.  There were 3 types of iris (Iris-setosa, Iris-versicolor, and Iris-virginica).  "
      ]
    },
    {
      "cell_type": "code",
      "metadata": {
        "id": "Q4Hn7bg4rP0b",
        "colab_type": "code",
        "outputId": "b0ed7aaf-1806-4314-920f-8f609deeee18",
        "colab": {
          "base_uri": "https://localhost:8080/",
          "height": 1000
        }
      },
      "source": [
        "pred = model.predict(x)\n",
        "print(\"Shape: {pred.shape}\")\n",
        "print(pred)"
      ],
      "execution_count": 41,
      "outputs": [
        {
          "output_type": "stream",
          "text": [
            "Shape: {pred.shape}\n",
            "[[0.9989221  0.0010779  0.        ]\n",
            " [0.996148   0.00385196 0.        ]\n",
            " [0.99810743 0.00189256 0.        ]\n",
            " [0.9959506  0.00404946 0.00000001]\n",
            " [0.9991304  0.00086961 0.        ]\n",
            " [0.9989052  0.00109483 0.        ]\n",
            " [0.9982487  0.00175133 0.        ]\n",
            " [0.9982311  0.00176894 0.        ]\n",
            " [0.9946613  0.00533876 0.00000001]\n",
            " [0.99683666 0.00316328 0.        ]\n",
            " [0.9992055  0.00079449 0.        ]\n",
            " [0.99756527 0.00243471 0.        ]\n",
            " [0.99676895 0.00323104 0.        ]\n",
            " [0.9980799  0.00192016 0.        ]\n",
            " [0.99979955 0.00020042 0.        ]\n",
            " [0.9998141  0.00018587 0.        ]\n",
            " [0.99960345 0.00039654 0.        ]\n",
            " [0.9987845  0.00121548 0.        ]\n",
            " [0.9988663  0.00113365 0.        ]\n",
            " [0.99922967 0.00077028 0.        ]\n",
            " [0.9971614  0.00283863 0.        ]\n",
            " [0.9989071  0.00109287 0.        ]\n",
            " [0.9995222  0.00047785 0.        ]\n",
            " [0.99286133 0.00713862 0.00000001]\n",
            " [0.993682   0.00631794 0.00000001]\n",
            " [0.9934471  0.0065529  0.00000001]\n",
            " [0.99670345 0.00329657 0.        ]\n",
            " [0.9986645  0.00133553 0.        ]\n",
            " [0.99864656 0.00135344 0.        ]\n",
            " [0.99584407 0.0041559  0.00000001]\n",
            " [0.99480915 0.00519086 0.00000001]\n",
            " [0.9975733  0.00242663 0.        ]\n",
            " [0.99968827 0.00031172 0.        ]\n",
            " [0.99979514 0.00020487 0.        ]\n",
            " [0.996128   0.00387202 0.        ]\n",
            " [0.99857414 0.00142582 0.        ]\n",
            " [0.99920136 0.00079871 0.        ]\n",
            " [0.9992042  0.00079583 0.        ]\n",
            " [0.9967734  0.00322657 0.00000001]\n",
            " [0.99826044 0.00173957 0.        ]\n",
            " [0.9990159  0.00098408 0.        ]\n",
            " [0.9745486  0.02545131 0.00000015]\n",
            " [0.99797696 0.00202301 0.        ]\n",
            " [0.9962373  0.00376265 0.00000001]\n",
            " [0.99704427 0.00295574 0.        ]\n",
            " [0.9952473  0.00475274 0.00000001]\n",
            " [0.99910635 0.00089368 0.        ]\n",
            " [0.99755895 0.00244106 0.        ]\n",
            " [0.9991893  0.00081074 0.        ]\n",
            " [0.9982161  0.0017839  0.        ]\n",
            " [0.00126875 0.99269956 0.00603174]\n",
            " [0.00189928 0.97480154 0.02329914]\n",
            " [0.00075046 0.9607177  0.03853183]\n",
            " [0.00202217 0.865729   0.1322489 ]\n",
            " [0.00091168 0.9269596  0.07212879]\n",
            " [0.00157964 0.8351581  0.1632623 ]\n",
            " [0.00139295 0.9131218  0.08548524]\n",
            " [0.01502564 0.97649515 0.0084792 ]\n",
            " [0.00130545 0.98157513 0.01711943]\n",
            " [0.00394146 0.8768695  0.11918908]\n",
            " [0.00553333 0.9535014  0.04096525]\n",
            " [0.00274259 0.9518395  0.04541793]\n",
            " [0.00252173 0.98362815 0.01385012]\n",
            " [0.00104163 0.84655875 0.15239958]\n",
            " [0.01319968 0.98129225 0.00550806]\n",
            " [0.00197221 0.9928288  0.00519898]\n",
            " [0.00145048 0.7090126  0.28953683]\n",
            " [0.00409141 0.98722225 0.00868643]\n",
            " [0.00039734 0.63384485 0.36575782]\n",
            " [0.00406669 0.9791267  0.01680662]\n",
            " [0.00042662 0.3902128  0.60936064]\n",
            " [0.00343662 0.9893484  0.00721498]\n",
            " [0.00022194 0.4782184  0.5215596 ]\n",
            " [0.00124197 0.91382575 0.08493229]\n",
            " [0.00221127 0.9894163  0.00837234]\n",
            " [0.00180169 0.9892157  0.00898277]\n",
            " [0.00069809 0.95230013 0.04700185]\n",
            " [0.00037795 0.7270383  0.27258372]\n",
            " [0.00133426 0.85612637 0.14253938]\n",
            " [0.01639978 0.98207885 0.00152134]\n",
            " [0.00432746 0.9766758  0.01899679]\n",
            " [0.00574643 0.986108   0.00814551]\n",
            " [0.0043644  0.98667866 0.00895685]\n",
            " [0.00006445 0.14551105 0.8544245 ]\n",
            " [0.00127284 0.57773715 0.42099005]\n",
            " [0.0024268  0.9294351  0.06813814]\n",
            " [0.00110338 0.96931106 0.02958554]\n",
            " [0.00090687 0.9131903  0.08590274]\n",
            " [0.00445787 0.9682529  0.02728932]\n",
            " [0.00273606 0.9143789  0.08288506]\n",
            " [0.00165567 0.807408   0.19093631]\n",
            " [0.00148325 0.91559815 0.08291866]\n",
            " [0.00328924 0.97904384 0.01766694]\n",
            " [0.01176996 0.9804248  0.00780524]\n",
            " [0.00248804 0.9114563  0.08605559]\n",
            " [0.00412867 0.97643876 0.01943254]\n",
            " [0.00322363 0.9566534  0.04012294]\n",
            " [0.00236544 0.98279494 0.0148396 ]\n",
            " [0.04542157 0.9521059  0.00247247]\n",
            " [0.00333318 0.9624457  0.03422116]\n",
            " [0.0000006  0.00417311 0.9958263 ]\n",
            " [0.00000769 0.02190074 0.97809154]\n",
            " [0.00000196 0.02573926 0.9742588 ]\n",
            " [0.0000058  0.02991111 0.97008306]\n",
            " [0.00000099 0.00818478 0.9918142 ]\n",
            " [0.00000021 0.00786642 0.9921334 ]\n",
            " [0.00003926 0.03310575 0.966855  ]\n",
            " [0.00000138 0.02851737 0.9714812 ]\n",
            " [0.00000171 0.01904433 0.98095393]\n",
            " [0.00000077 0.01026478 0.9897344 ]\n",
            " [0.00012564 0.27768725 0.72218716]\n",
            " [0.00001062 0.05128226 0.94870716]\n",
            " [0.00000894 0.057434   0.94255704]\n",
            " [0.00000555 0.01570917 0.9842853 ]\n",
            " [0.00000291 0.00908623 0.9909108 ]\n",
            " [0.0000071  0.02789334 0.9720996 ]\n",
            " [0.00002337 0.09858447 0.90139216]\n",
            " [0.00000106 0.02407728 0.9759217 ]\n",
            " [0.00000006 0.00333285 0.9966671 ]\n",
            " [0.00003389 0.1033327  0.8966334 ]\n",
            " [0.00000251 0.02171624 0.97828126]\n",
            " [0.00001208 0.02307173 0.97691613]\n",
            " [0.00000018 0.00798827 0.9920115 ]\n",
            " [0.00011575 0.265307   0.7345772 ]\n",
            " [0.00000707 0.04082263 0.9591703 ]\n",
            " [0.00001567 0.14248239 0.8575019 ]\n",
            " [0.00020834 0.3495027  0.65028894]\n",
            " [0.00020904 0.3068399  0.692951  ]\n",
            " [0.00000152 0.01094361 0.9890549 ]\n",
            " [0.00005347 0.3685894  0.63135713]\n",
            " [0.0000022  0.04281254 0.95718527]\n",
            " [0.00002331 0.29405922 0.7059175 ]\n",
            " [0.00000128 0.00925238 0.9907464 ]\n",
            " [0.00022922 0.46095192 0.5388188 ]\n",
            " [0.0000115  0.04871704 0.95127153]\n",
            " [0.00000102 0.025645   0.97435397]\n",
            " [0.00000195 0.00906105 0.99093705]\n",
            " [0.00002675 0.09607258 0.9039007 ]\n",
            " [0.00027682 0.33659652 0.66312665]\n",
            " [0.00002751 0.13926503 0.86070746]\n",
            " [0.00000116 0.00994054 0.99005836]\n",
            " [0.00004569 0.1806145  0.8193399 ]\n",
            " [0.00000769 0.02190074 0.97809154]\n",
            " [0.00000078 0.00838262 0.99161655]\n",
            " [0.000001   0.00821393 0.99178505]\n",
            " [0.00001211 0.05850971 0.94147813]\n",
            " [0.00002227 0.08175116 0.91822654]\n",
            " [0.00003937 0.12967582 0.8702848 ]\n",
            " [0.00000532 0.01751783 0.98247683]\n",
            " [0.00005189 0.09569894 0.90424913]]\n"
          ],
          "name": "stdout"
        }
      ]
    },
    {
      "cell_type": "code",
      "metadata": {
        "id": "7iwnyNuNrP0e",
        "colab_type": "code",
        "colab": {}
      },
      "source": [
        "# If you would like to turn of scientific notation, the following line can be used:\n",
        "np.set_printoptions(suppress=True)"
      ],
      "execution_count": 0,
      "outputs": []
    },
    {
      "cell_type": "code",
      "metadata": {
        "id": "lV-gv1_1rP0g",
        "colab_type": "code",
        "outputId": "b5b149bd-e087-4a6c-d53c-1a860437c586",
        "colab": {
          "base_uri": "https://localhost:8080/",
          "height": 185
        }
      },
      "source": [
        "# The to_xy function represented the input in the same way.  Each row has only 1.0 value because each row is only one type\n",
        "# of iris.  This is the training data, we KNOW what type of iris it is.  This is called one-hot encoding.  Only one value\n",
        "# is 1.0 (hot)\n",
        "print(y[0:10])"
      ],
      "execution_count": 42,
      "outputs": [
        {
          "output_type": "stream",
          "text": [
            "[[1 0 0]\n",
            " [1 0 0]\n",
            " [1 0 0]\n",
            " [1 0 0]\n",
            " [1 0 0]\n",
            " [1 0 0]\n",
            " [1 0 0]\n",
            " [1 0 0]\n",
            " [1 0 0]\n",
            " [1 0 0]]\n"
          ],
          "name": "stdout"
        }
      ]
    },
    {
      "cell_type": "code",
      "metadata": {
        "id": "x_7Twp_XrP0i",
        "colab_type": "code",
        "outputId": "56cf10e7-9753-4ce3-9a7a-690a543c3a6c",
        "colab": {
          "base_uri": "https://localhost:8080/",
          "height": 185
        }
      },
      "source": [
        "# Usually the column (pred) with the highest prediction is considered to be the prediction of the neural network.  It is easy\n",
        "# to convert the predictions to the expected iris species.  The argmax function finds the index of the maximum prediction\n",
        "# for each row.\n",
        "predict_classes = np.argmax(pred,axis=1)\n",
        "expected_classes = np.argmax(y,axis=1)\n",
        "print(f\"Predictions: {predict_classes}\")\n",
        "print(f\"Expected: {expected_classes}\")"
      ],
      "execution_count": 43,
      "outputs": [
        {
          "output_type": "stream",
          "text": [
            "Predictions: [0 0 0 0 0 0 0 0 0 0 0 0 0 0 0 0 0 0 0 0 0 0 0 0 0 0 0 0 0 0 0 0 0 0 0 0 0\n",
            " 0 0 0 0 0 0 0 0 0 0 0 0 0 1 1 1 1 1 1 1 1 1 1 1 1 1 1 1 1 1 1 1 1 2 1 2 1\n",
            " 1 1 1 1 1 1 1 1 1 2 1 1 1 1 1 1 1 1 1 1 1 1 1 1 1 1 2 2 2 2 2 2 2 2 2 2 2\n",
            " 2 2 2 2 2 2 2 2 2 2 2 2 2 2 2 2 2 2 2 2 2 2 2 2 2 2 2 2 2 2 2 2 2 2 2 2 2\n",
            " 2 2]\n",
            "Expected: [0 0 0 0 0 0 0 0 0 0 0 0 0 0 0 0 0 0 0 0 0 0 0 0 0 0 0 0 0 0 0 0 0 0 0 0 0\n",
            " 0 0 0 0 0 0 0 0 0 0 0 0 0 1 1 1 1 1 1 1 1 1 1 1 1 1 1 1 1 1 1 1 1 1 1 1 1\n",
            " 1 1 1 1 1 1 1 1 1 1 1 1 1 1 1 1 1 1 1 1 1 1 1 1 1 1 2 2 2 2 2 2 2 2 2 2 2\n",
            " 2 2 2 2 2 2 2 2 2 2 2 2 2 2 2 2 2 2 2 2 2 2 2 2 2 2 2 2 2 2 2 2 2 2 2 2 2\n",
            " 2 2]\n"
          ],
          "name": "stdout"
        }
      ]
    },
    {
      "cell_type": "code",
      "metadata": {
        "id": "xz8vISOOrP0l",
        "colab_type": "code",
        "outputId": "d8529c67-3334-417e-9fd4-b73b73f05f3b",
        "colab": {
          "base_uri": "https://localhost:8080/",
          "height": 84
        }
      },
      "source": [
        "# Of course it is very easy to turn these indexes back into iris species.  We just use the species list that we created earlier.\n",
        "print(species[predict_classes[1:10]])"
      ],
      "execution_count": 44,
      "outputs": [
        {
          "output_type": "stream",
          "text": [
            "Index(['Iris-setosa', 'Iris-setosa', 'Iris-setosa', 'Iris-setosa',\n",
            "       'Iris-setosa', 'Iris-setosa', 'Iris-setosa', 'Iris-setosa',\n",
            "       'Iris-setosa'],\n",
            "      dtype='object')\n"
          ],
          "name": "stdout"
        }
      ]
    },
    {
      "cell_type": "code",
      "metadata": {
        "id": "YE9d7ZfvrP0n",
        "colab_type": "code",
        "outputId": "deba5f7c-b923-42eb-e9cc-0907ccbd97bd",
        "colab": {
          "base_uri": "https://localhost:8080/",
          "height": 34
        }
      },
      "source": [
        "from sklearn.metrics import accuracy_score\n",
        "# Accuracy might be a more easily understood error metric.  It is essentially a test score.  For all of the iris predictions,\n",
        "# what percent were correct?  The downside is it does not consider how confident the neural network was in each prediction.\n",
        "correct = accuracy_score(expected_classes,predict_classes)\n",
        "print(f\"Accuracy: {correct}\")"
      ],
      "execution_count": 45,
      "outputs": [
        {
          "output_type": "stream",
          "text": [
            "Accuracy: 0.98\n"
          ],
          "name": "stdout"
        }
      ]
    },
    {
      "cell_type": "markdown",
      "metadata": {
        "id": "BrWpXZy5rP0p",
        "colab_type": "text"
      },
      "source": [
        "The code below performs two ad hoc predictions.  The first prediction is simply a single iris flower.  The second predicts two iris flowers.  Notice that the argmax in the second prediction requires **axis=1**?  Since we have a 2D array now, we must specify which axis to take the argmax over.  The value **axis=1** specifies we want the max column index for each row."
      ]
    },
    {
      "cell_type": "code",
      "metadata": {
        "id": "Gb7NogZyrP0q",
        "colab_type": "code",
        "outputId": "8163a56b-426e-49e5-d305-60d7523f08e5",
        "colab": {
          "base_uri": "https://localhost:8080/",
          "height": 50
        }
      },
      "source": [
        "# ad hoc prediction\n",
        "sample_flower = np.array( [[5.0,3.0,4.0,2.0]], dtype=float)\n",
        "pred = model.predict(sample_flower)\n",
        "print(pred)\n",
        "pred = np.argmax(pred)\n",
        "print(f\"Predict that {sample_flower} is: {species[pred]}\")\n",
        "\n"
      ],
      "execution_count": 46,
      "outputs": [
        {
          "output_type": "stream",
          "text": [
            "[[0.00079051 0.24327157 0.7559379 ]]\n",
            "Predict that [[5. 3. 4. 2.]] is: Iris-virginica\n"
          ],
          "name": "stdout"
        }
      ]
    },
    {
      "cell_type": "code",
      "metadata": {
        "id": "Qk-2V8w8rP0t",
        "colab_type": "code",
        "outputId": "a650ef53-4fb8-4281-f94f-2940d09a2aac",
        "colab": {
          "base_uri": "https://localhost:8080/",
          "height": 84
        }
      },
      "source": [
        "# predict two sample flowers\n",
        "sample_flower = np.array( [[5.0,3.0,4.0,2.0],[5.2,3.5,1.5,0.8]], dtype=float)\n",
        "pred = model.predict(sample_flower)\n",
        "print(pred)\n",
        "pred = np.argmax(pred,axis=1)\n",
        "print(f\"Predict that these two flowers {sample_flower} are: {species[pred]}\")"
      ],
      "execution_count": 48,
      "outputs": [
        {
          "output_type": "stream",
          "text": [
            "[[0.00079051 0.24327157 0.7559379 ]\n",
            " [0.99597615 0.00402392 0.00000001]]\n",
            "Predict that these two flowers [[5.  3.  4.  2. ]\n",
            " [5.2 3.5 1.5 0.8]] are: Index(['Iris-virginica', 'Iris-setosa'], dtype='object')\n"
          ],
          "name": "stdout"
        }
      ]
    },
    {
      "cell_type": "code",
      "metadata": {
        "id": "l-sYkzAbrP0v",
        "colab_type": "code",
        "colab": {}
      },
      "source": [
        ""
      ],
      "execution_count": 0,
      "outputs": []
    }
  ]
}