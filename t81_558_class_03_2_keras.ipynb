{
  "nbformat": 4,
  "nbformat_minor": 0,
  "metadata": {
    "anaconda-cloud": {},
    "kernelspec": {
      "display_name": "Python 3.6 (tensorflow)",
      "language": "python",
      "name": "rga"
    },
    "language_info": {
      "codemirror_mode": {
        "name": "ipython",
        "version": 3
      },
      "file_extension": ".py",
      "mimetype": "text/x-python",
      "name": "python",
      "nbconvert_exporter": "python",
      "pygments_lexer": "ipython3",
      "version": "3.6.9"
    },
    "colab": {
      "name": "t81_558_class_03_2_keras.ipynb",
      "provenance": [],
      "include_colab_link": true
    }
  },
  "cells": [
    {
      "cell_type": "markdown",
      "metadata": {
        "id": "view-in-github",
        "colab_type": "text"
      },
      "source": [
        "<a href=\"https://colab.research.google.com/github/fflory/t81_558_deep_learning/blob/felix/t81_558_class_03_2_keras.ipynb\" target=\"_parent\"><img src=\"https://colab.research.google.com/assets/colab-badge.svg\" alt=\"Open In Colab\"/></a>"
      ]
    },
    {
      "cell_type": "markdown",
      "metadata": {
        "id": "prJiX9rIrPzx",
        "colab_type": "text"
      },
      "source": [
        "# T81-558: Applications of Deep Neural Networks\n",
        "**Module 3: Introduction to TensorFlow**\n",
        "* Instructor: [Jeff Heaton](https://sites.wustl.edu/jeffheaton/), McKelvey School of Engineering, [Washington University in St. Louis](https://engineering.wustl.edu/Programs/Pages/default.aspx)\n",
        "* For more information visit the [class website](https://sites.wustl.edu/jeffheaton/t81-558/)."
      ]
    },
    {
      "cell_type": "markdown",
      "metadata": {
        "id": "ZaekXbHJrPzy",
        "colab_type": "text"
      },
      "source": [
        "# Module 3 Material\n",
        "\n",
        "* Part 3.1: Deep Learning and Neural Network Introduction [[Video]](https://www.youtube.com/watch?v=zYnI4iWRmpc&list=PLjy4p-07OYzulelvJ5KVaT2pDlxivl_BN) [[Notebook]](t81_558_class_03_1_neural_net.ipynb)\n",
        "* **Part 3.2: Introduction to Tensorflow and Keras** [[Video]](https://www.youtube.com/watch?v=PsE73jk55cE&list=PLjy4p-07OYzulelvJ5KVaT2pDlxivl_BN) [[Notebook]](t81_558_class_03_2_keras.ipynb)\n",
        "* Part 3.3: Saving and Loading a Keras Neural Network [[Video]](https://www.youtube.com/watch?v=-9QfbGM1qGw&list=PLjy4p-07OYzulelvJ5KVaT2pDlxivl_BN) [[Notebook]](t81_558_class_03_3_save_load.ipynb)\n",
        "* Part 3.4: Early Stopping in Keras to Prevent Overfitting [[Video]](https://www.youtube.com/watch?v=m1LNunuI2fk&list=PLjy4p-07OYzulelvJ5KVaT2pDlxivl_BN) [[Notebook]](t81_558_class_03_4_early_stop.ipynb)\n",
        "* Part 3.5: Extracting Weights and Manual Calculation [[Video]](https://www.youtube.com/watch?v=7PWgx16kH8s&list=PLjy4p-07OYzulelvJ5KVaT2pDlxivl_BN) [[Notebook]](t81_558_class_03_5_weights.ipynb)"
      ]
    },
    {
      "cell_type": "markdown",
      "metadata": {
        "id": "P5PTKH8_rPzz",
        "colab_type": "text"
      },
      "source": [
        "# Part 3.2: Introduction to Tensorflow and Keras\n",
        "\n",
        "![TensorFlow](https://raw.githubusercontent.com/jeffheaton/t81_558_deep_learning/master/images/class_2_tensorflow.png \"TensorFlow\")\n",
        "\n",
        "TensorFlow is an open source software library for machine learning in various kinds of perceptual and language understanding tasks. It is currently used for both research and production by different teams in many commercial Google products, such as speech recognition, Gmail, Google Photos, and search, many of which had previously used its predecessor DistBelief. TensorFlow was originally developed by the Google Brain team for Google's research and production purposes and later released under the Apache 2.0 open source license on November 9, 2015.\n",
        "\n",
        "* [TensorFlow Homepage](https://www.tensorflow.org/)\n",
        "* [TensorFlow GitHib](https://github.com/tensorflow/tensorflow)\n",
        "* [TensorFlow Google Groups Support](https://groups.google.com/forum/#!forum/tensorflow)\n",
        "* [TensorFlow Google Groups Developer Discussion](https://groups.google.com/a/tensorflow.org/forum/#!forum/discuss)\n",
        "* [TensorFlow FAQ](https://www.tensorflow.org/resources/faq)\n"
      ]
    },
    {
      "cell_type": "markdown",
      "metadata": {
        "id": "7boYbeKTrPz0",
        "colab_type": "text"
      },
      "source": [
        "### What version of TensorFlow do you have?\n",
        "\n",
        "TensorFlow is very new and changing rapidly.  It is very important that you run the same version of it that I am using.  For this semester we will use a specific version of TensorFlow (mentioned in the last class notes)."
      ]
    },
    {
      "cell_type": "markdown",
      "metadata": {
        "id": "bmOxAJPQrPz1",
        "colab_type": "text"
      },
      "source": [
        "![Self Driving Car](http://imgc-cn.artprintimages.com/images/P-473-488-90/94/9475/CFB6500Z/posters/paul-noth-does-your-car-have-any-idea-why-my-car-pulled-it-over-new-yorker-cartoon.jpg)\n",
        "\n",
        "[Wrong version of TensorFlow?](https://twitter.com/reza_zadeh/status/849160032608440320)"
      ]
    },
    {
      "cell_type": "code",
      "metadata": {
        "id": "Y9zKbJ_XrPz2",
        "colab_type": "code",
        "outputId": "22853135-95d8-4d64-b406-f48fcebdee22",
        "colab": {
          "base_uri": "https://localhost:8080/",
          "height": 34
        }
      },
      "source": [
        "import tensorflow as tf\n",
        "print(\"Tensor Flow Version: {}\".format(tf.__version__))"
      ],
      "execution_count": 0,
      "outputs": [
        {
          "output_type": "stream",
          "text": [
            "Tensor Flow Version: 1.15.0\n"
          ],
          "name": "stdout"
        }
      ]
    },
    {
      "cell_type": "markdown",
      "metadata": {
        "id": "FrOoU2mXrPz4",
        "colab_type": "text"
      },
      "source": [
        "### Installing TensorFlow\n",
        "\n",
        "* [Google CoLab](https://colab.research.google.com/) - All platforms, use your browser (includes a GPU).\n",
        "* Windows - Supported platform.\n",
        "* Mac - Supported platform.\n",
        "* Linux - Supported platform."
      ]
    },
    {
      "cell_type": "markdown",
      "metadata": {
        "id": "P6NsiZmSrPz5",
        "colab_type": "text"
      },
      "source": [
        "### Why TensorFlow\n",
        "\n",
        "* Supported by Google\n",
        "* Works well on Linux/Mac\n",
        "* Excellent GPU support\n",
        "* Python is an easy to learn programming language\n",
        "* Python is [extremely popular](http://www.kdnuggets.com/2014/08/four-main-languages-analytics-data-mining-data-science.html) in the data science community\n",
        "\n",
        "### Other Deep Learning Tools\n",
        "TensorFlow is not the only only game in town.  These are some of the best supported alternatives.  Most of these are written in C++. In order of my own preference (ordered in my own estimation of approximate importance):\n",
        "\n",
        "* [TensorFlow](https://www.tensorflow.org/) Google's deep learning API.  The focus of this class, along with Keras.\n",
        "* [MXNet](https://mxnet.incubator.apache.org/) Apache foundation's deep learning API. Can be used through Keras.\n",
        "* [Theano](http://deeplearning.net/software/theano/) - Python, from the academics that created deep learning.\n",
        "* [Keras](https://keras.io/) - Also by Google, higher level framework that allows the use of TensorFlow, MXNet and Theano interchangeably.\n",
        "[Torch](http://torch.ch/) is used by Google DeepMind, the Facebook AI Research Group, IBM, Yandex and the Idiap Research Institute.  It has been used for some of the most advanced deep learning projects in the world.  However, it requires the [LUA](https://en.wikipedia.org/wiki/Lua_(programming_language)) programming language.  It is very advanced, but it is not mainstream.  I have not worked with Torch (yet!).\n",
        "* [PaddlePaddle](https://github.com/baidu/Paddle) - [Baidu](http://www.baidu.com/)'s deep learning API.\n",
        "* [Deeplearning4J](http://deeplearning4j.org/) - Java based. Supports all major platforms. GPU support in Java!\n",
        "* [Computational Network Toolkit (CNTK)](https://github.com/Microsoft/CNTK) - Microsoft.  Support for Windows/Linux, command line only.  Bindings for predictions for C#/Python. GPU support.\n",
        "* [H2O](http://www.h2o.ai/) - Java based.  Supports all major platforms.  Limited support for computer vision. No GPU support.\n",
        "\n"
      ]
    },
    {
      "cell_type": "markdown",
      "metadata": {
        "id": "XxM-LhMzrPz6",
        "colab_type": "text"
      },
      "source": [
        "### Using TensorFlow\n",
        "\n",
        "TensorFlow is a low-level mathematics API, similar to [Numpy](http://www.numpy.org/).  However, unlike Numpy, TensorFlow is built for deep learning.  TensorFlow works by allowing you to define compute graphs with Python.  In this regard, it is similar to [Spark](http://spark.apache.org/).  TensorFlow compiles these compute graphs into highly efficient C++/[CUDA](https://en.wikipedia.org/wiki/CUDA) code.\n",
        "\n",
        "The [TensorBoard](https://www.tensorflow.org/versions/r0.10/how_tos/summaries_and_tensorboard/index.html) command line utility can be used to view these graphs.  The iris neural network's graph used in this class is shown here:\n",
        "\n",
        "![Iris Graph](https://raw.githubusercontent.com/jeffheaton/t81_558_deep_learning/master/images/class_2_graph_tf.png \"Iris Graph\")\n",
        "\n",
        "Expanding the DNN gives:\n",
        "\n",
        "\n",
        "![Iris DNN Graph](https://raw.githubusercontent.com/jeffheaton/t81_558_deep_learning/master/images/class_2_graph_dnn.png \"Iris DNN Graph\")\n"
      ]
    },
    {
      "cell_type": "markdown",
      "metadata": {
        "id": "qIb_0huerPz7",
        "colab_type": "text"
      },
      "source": [
        "### Using TensorFlow Directly\n",
        "\n",
        "Most of the time in the course we will communicate with TensorFlow using Keras, which allows you to specify the number of hidden layers and simply create the neural network.  "
      ]
    },
    {
      "cell_type": "code",
      "metadata": {
        "id": "hQkPMjHXrPz8",
        "colab_type": "code",
        "outputId": "81390956-5883-48a2-8235-be922d524872",
        "colab": {
          "base_uri": "https://localhost:8080/",
          "height": 195
        }
      },
      "source": [
        "# Import libraries for simulation\n",
        "import tensorflow as tf\n",
        "import numpy as np\n",
        "\n",
        "# Imports for visualization\n",
        "import PIL.Image\n",
        "from io import BytesIO\n",
        "from IPython.display import Image, display\n",
        "\n",
        "def DisplayFractal(a, fmt='jpeg'):\n",
        "  \"\"\"Display an array of iteration counts as a\n",
        "     colorful picture of a fractal.\"\"\"\n",
        "  a_cyclic = (6.28*a/20.0).reshape(list(a.shape)+[1])\n",
        "  img = np.concatenate([10+20*np.cos(a_cyclic),\n",
        "                        30+50*np.sin(a_cyclic),\n",
        "                        155-80*np.cos(a_cyclic)], 2)\n",
        "  img[a==a.max()] = 0\n",
        "  a = img\n",
        "  a = np.uint8(np.clip(a, 0, 255))\n",
        "  f = BytesIO()\n",
        "  PIL.Image.fromarray(a).save(f, fmt)\n",
        "  display(Image(data=f.getvalue()))\n",
        "\n",
        "# Use NumPy to create a 2D array of complex numbers\n",
        "\n",
        "Y, X = np.mgrid[-1.3:1.3:0.005, -2:1:0.005]\n",
        "Z = X+1j*Y\n",
        "\n",
        "xs = tf.constant(Z.astype(np.complex64))\n",
        "zs = tf.Variable(xs)\n",
        "ns = tf.Variable(tf.zeros_like(xs, tf.float32))\n",
        "\n",
        "\n",
        "\n",
        "# Operation to update the zs and the iteration count.\n",
        "#\n",
        "# Note: We keep computing zs after they diverge! This\n",
        "#       is very wasteful! There are better, if a little\n",
        "#       less simple, ways to do this.\n",
        "#\n",
        "for i in range(200):\n",
        "    # Compute the new values of z: z^2 + x\n",
        "    zs_ = zs*zs + xs\n",
        "\n",
        "    # Have we diverged with this new value?\n",
        "    not_diverged = tf.abs(zs_) < 4\n",
        "\n",
        "    zs.assign(zs_),\n",
        "    ns.assign_add(tf.cast(not_diverged, tf.float32))\n",
        "    \n",
        "DisplayFractal(ns.numpy())"
      ],
      "execution_count": 0,
      "outputs": [
        {
          "output_type": "error",
          "ename": "AttributeError",
          "evalue": "ignored",
          "traceback": [
            "\u001b[0;31m---------------------------------------------------------------------------\u001b[0m",
            "\u001b[0;31mAttributeError\u001b[0m                            Traceback (most recent call last)",
            "\u001b[0;32m<ipython-input-2-aaf2fcf53904>\u001b[0m in \u001b[0;36m<module>\u001b[0;34m()\u001b[0m\n\u001b[1;32m     48\u001b[0m     \u001b[0mns\u001b[0m\u001b[0;34m.\u001b[0m\u001b[0massign_add\u001b[0m\u001b[0;34m(\u001b[0m\u001b[0mtf\u001b[0m\u001b[0;34m.\u001b[0m\u001b[0mcast\u001b[0m\u001b[0;34m(\u001b[0m\u001b[0mnot_diverged\u001b[0m\u001b[0;34m,\u001b[0m \u001b[0mtf\u001b[0m\u001b[0;34m.\u001b[0m\u001b[0mfloat32\u001b[0m\u001b[0;34m)\u001b[0m\u001b[0;34m)\u001b[0m\u001b[0;34m\u001b[0m\u001b[0;34m\u001b[0m\u001b[0m\n\u001b[1;32m     49\u001b[0m \u001b[0;34m\u001b[0m\u001b[0m\n\u001b[0;32m---> 50\u001b[0;31m \u001b[0mDisplayFractal\u001b[0m\u001b[0;34m(\u001b[0m\u001b[0mns\u001b[0m\u001b[0;34m.\u001b[0m\u001b[0mnumpy\u001b[0m\u001b[0;34m(\u001b[0m\u001b[0;34m)\u001b[0m\u001b[0;34m)\u001b[0m\u001b[0;34m\u001b[0m\u001b[0;34m\u001b[0m\u001b[0m\n\u001b[0m",
            "\u001b[0;31mAttributeError\u001b[0m: 'RefVariable' object has no attribute 'numpy'"
          ]
        }
      ]
    },
    {
      "cell_type": "code",
      "metadata": {
        "id": "2QmqbbzCrPz_",
        "colab_type": "code",
        "outputId": "840d5c9d-012f-4f3b-f084-b88eb7b8c928",
        "colab": {
          "base_uri": "https://localhost:8080/",
          "height": 212
        }
      },
      "source": [
        "import tensorflow as tf\n",
        "\n",
        "# Create a Constant op that produces a 1x2 matrix.  The op is\n",
        "# added as a node to the default graph.\n",
        "#\n",
        "# The value returned by the constructor represents the output\n",
        "# of the Constant op.\n",
        "matrix1 = tf.constant([[3., 3.]])\n",
        "\n",
        "# Create another Constant that produces a 2x1 matrix.\n",
        "matrix2 = tf.constant([[2.],[2.]])\n",
        "\n",
        "# Create a Matmul op that takes 'matrix1' and 'matrix2' as inputs.\n",
        "# The returned value, 'product', represents the result of the matrix\n",
        "# multiplication.\n",
        "product = tf.matmul(matrix1, matrix2)\n",
        "\n",
        "print(product)\n",
        "print(float(product))"
      ],
      "execution_count": 0,
      "outputs": [
        {
          "output_type": "stream",
          "text": [
            "Tensor(\"MatMul:0\", shape=(1, 1), dtype=float32)\n"
          ],
          "name": "stdout"
        },
        {
          "output_type": "error",
          "ename": "TypeError",
          "evalue": "ignored",
          "traceback": [
            "\u001b[0;31m---------------------------------------------------------------------------\u001b[0m",
            "\u001b[0;31mTypeError\u001b[0m                                 Traceback (most recent call last)",
            "\u001b[0;32m<ipython-input-3-c8f0a53e3bd7>\u001b[0m in \u001b[0;36m<module>\u001b[0;34m()\u001b[0m\n\u001b[1;32m     17\u001b[0m \u001b[0;34m\u001b[0m\u001b[0m\n\u001b[1;32m     18\u001b[0m \u001b[0mprint\u001b[0m\u001b[0;34m(\u001b[0m\u001b[0mproduct\u001b[0m\u001b[0;34m)\u001b[0m\u001b[0;34m\u001b[0m\u001b[0;34m\u001b[0m\u001b[0m\n\u001b[0;32m---> 19\u001b[0;31m \u001b[0mprint\u001b[0m\u001b[0;34m(\u001b[0m\u001b[0mfloat\u001b[0m\u001b[0;34m(\u001b[0m\u001b[0mproduct\u001b[0m\u001b[0;34m)\u001b[0m\u001b[0;34m)\u001b[0m\u001b[0;34m\u001b[0m\u001b[0;34m\u001b[0m\u001b[0m\n\u001b[0m",
            "\u001b[0;31mTypeError\u001b[0m: float() argument must be a string or a number, not 'Tensor'"
          ]
        }
      ]
    },
    {
      "cell_type": "code",
      "metadata": {
        "id": "AKAdw50yrP0B",
        "colab_type": "code",
        "outputId": "ab89c934-668c-4da0-c28b-1d646dae23cb",
        "colab": {
          "base_uri": "https://localhost:8080/",
          "height": 229
        }
      },
      "source": [
        "# Enter an interactive TensorFlow Session.\n",
        "import tensorflow as tf\n",
        "\n",
        "x = tf.Variable([1.0, 2.0])\n",
        "a = tf.constant([3.0, 3.0])\n",
        "\n",
        "# Add an op to subtract 'a' from 'x'.  Run it and print the result\n",
        "sub = tf.subtract(x, a)\n",
        "print(sub)\n",
        "print(sub.numpy())\n",
        "# ==> [-2. -1.]"
      ],
      "execution_count": 0,
      "outputs": [
        {
          "output_type": "stream",
          "text": [
            "Tensor(\"Sub:0\", shape=(2,), dtype=float32)\n"
          ],
          "name": "stdout"
        },
        {
          "output_type": "error",
          "ename": "AttributeError",
          "evalue": "ignored",
          "traceback": [
            "\u001b[0;31m---------------------------------------------------------------------------\u001b[0m",
            "\u001b[0;31mAttributeError\u001b[0m                            Traceback (most recent call last)",
            "\u001b[0;32m<ipython-input-4-f5fd4008d996>\u001b[0m in \u001b[0;36m<module>\u001b[0;34m()\u001b[0m\n\u001b[1;32m      7\u001b[0m \u001b[0msub\u001b[0m \u001b[0;34m=\u001b[0m \u001b[0mtf\u001b[0m\u001b[0;34m.\u001b[0m\u001b[0msubtract\u001b[0m\u001b[0;34m(\u001b[0m\u001b[0mx\u001b[0m\u001b[0;34m,\u001b[0m \u001b[0ma\u001b[0m\u001b[0;34m)\u001b[0m\u001b[0;34m\u001b[0m\u001b[0;34m\u001b[0m\u001b[0m\n\u001b[1;32m      8\u001b[0m \u001b[0mprint\u001b[0m\u001b[0;34m(\u001b[0m\u001b[0msub\u001b[0m\u001b[0;34m)\u001b[0m\u001b[0;34m\u001b[0m\u001b[0;34m\u001b[0m\u001b[0m\n\u001b[0;32m----> 9\u001b[0;31m \u001b[0mprint\u001b[0m\u001b[0;34m(\u001b[0m\u001b[0msub\u001b[0m\u001b[0;34m.\u001b[0m\u001b[0mnumpy\u001b[0m\u001b[0;34m(\u001b[0m\u001b[0;34m)\u001b[0m\u001b[0;34m)\u001b[0m\u001b[0;34m\u001b[0m\u001b[0;34m\u001b[0m\u001b[0m\n\u001b[0m\u001b[1;32m     10\u001b[0m \u001b[0;31m# ==> [-2. -1.]\u001b[0m\u001b[0;34m\u001b[0m\u001b[0;34m\u001b[0m\u001b[0;34m\u001b[0m\u001b[0m\n",
            "\u001b[0;31mAttributeError\u001b[0m: 'Tensor' object has no attribute 'numpy'"
          ]
        }
      ]
    },
    {
      "cell_type": "code",
      "metadata": {
        "id": "MzCaYcnOrP0D",
        "colab_type": "code",
        "outputId": "34252335-09fa-4162-f816-0746c387808f",
        "colab": {
          "base_uri": "https://localhost:8080/",
          "height": 34
        }
      },
      "source": [
        "x.assign([4.0, 6.0])"
      ],
      "execution_count": 0,
      "outputs": [
        {
          "output_type": "execute_result",
          "data": {
            "text/plain": [
              "<tf.Tensor 'Assign_200:0' shape=(2,) dtype=float32_ref>"
            ]
          },
          "metadata": {
            "tags": []
          },
          "execution_count": 5
        }
      ]
    },
    {
      "cell_type": "code",
      "metadata": {
        "id": "DkWUd9UErP0F",
        "colab_type": "code",
        "outputId": "5c195bec-82c9-423d-bde4-050cabf266bb",
        "colab": {
          "base_uri": "https://localhost:8080/",
          "height": 212
        }
      },
      "source": [
        "sub = tf.subtract(x, a)\n",
        "print(sub)\n",
        "print(sub.numpy())"
      ],
      "execution_count": 0,
      "outputs": [
        {
          "output_type": "stream",
          "text": [
            "Tensor(\"Sub_1:0\", shape=(2,), dtype=float32)\n"
          ],
          "name": "stdout"
        },
        {
          "output_type": "error",
          "ename": "AttributeError",
          "evalue": "ignored",
          "traceback": [
            "\u001b[0;31m---------------------------------------------------------------------------\u001b[0m",
            "\u001b[0;31mAttributeError\u001b[0m                            Traceback (most recent call last)",
            "\u001b[0;32m<ipython-input-6-6072692fec10>\u001b[0m in \u001b[0;36m<module>\u001b[0;34m()\u001b[0m\n\u001b[1;32m      1\u001b[0m \u001b[0msub\u001b[0m \u001b[0;34m=\u001b[0m \u001b[0mtf\u001b[0m\u001b[0;34m.\u001b[0m\u001b[0msubtract\u001b[0m\u001b[0;34m(\u001b[0m\u001b[0mx\u001b[0m\u001b[0;34m,\u001b[0m \u001b[0ma\u001b[0m\u001b[0;34m)\u001b[0m\u001b[0;34m\u001b[0m\u001b[0;34m\u001b[0m\u001b[0m\n\u001b[1;32m      2\u001b[0m \u001b[0mprint\u001b[0m\u001b[0;34m(\u001b[0m\u001b[0msub\u001b[0m\u001b[0;34m)\u001b[0m\u001b[0;34m\u001b[0m\u001b[0;34m\u001b[0m\u001b[0m\n\u001b[0;32m----> 3\u001b[0;31m \u001b[0mprint\u001b[0m\u001b[0;34m(\u001b[0m\u001b[0msub\u001b[0m\u001b[0;34m.\u001b[0m\u001b[0mnumpy\u001b[0m\u001b[0;34m(\u001b[0m\u001b[0;34m)\u001b[0m\u001b[0;34m)\u001b[0m\u001b[0;34m\u001b[0m\u001b[0;34m\u001b[0m\u001b[0m\n\u001b[0m",
            "\u001b[0;31mAttributeError\u001b[0m: 'Tensor' object has no attribute 'numpy'"
          ]
        }
      ]
    },
    {
      "cell_type": "markdown",
      "metadata": {
        "id": "LOERDUDGrP0H",
        "colab_type": "text"
      },
      "source": [
        "### Introduction to Keras\n",
        "\n",
        "[Keras](https://keras.io/) is a layer on top of Tensorflow that makes it much easier to create neural networks.  Rather than define the graphs, like you see above, you define the individual layers of the network with a much more high level API.  Unless you are performing research into entirely new structures of deep neural networks it is unlikely that you need to program TensorFlow directly.  \n",
        "\n",
        "**For this class, we will use usually use TensorFlow through Keras, rather than direct TensorFlow**\n",
        "\n",
        "Keras is a separate install from TensorFlow.  To install Keras, use **pip install keras** after **pip install tensorflow**."
      ]
    },
    {
      "cell_type": "markdown",
      "metadata": {
        "id": "x2cA_biCrP0I",
        "colab_type": "text"
      },
      "source": [
        "### Simple TensorFlow Regression: MPG\n",
        "\n",
        "This example shows how to encode the MPG dataset for regression.  This is slightly more complex than Iris, because:\n",
        "\n",
        "* Input has both numeric and categorical\n",
        "* Input has missing values\n",
        "\n",
        "This example uses functions defined above in this notepad, the \"helpful functions\". These functions allow you to build the feature vector for a neural network. Consider the following:\n",
        "\n",
        "* Predictors/Inputs \n",
        "    * Fill any missing inputs with the median for that column.  Use **missing_median**.\n",
        "    * Encode textual/categorical values with **encode_text_dummy**.\n",
        "    * Encode numeric values with **encode_numeric_zscore**.\n",
        "* Output\n",
        "    * Discard rows with missing outputs.\n",
        "    * Encode textual/categorical values with **encode_text_index**.\n",
        "    * Do not encode output numeric values.\n",
        "* Produce final feature vectors (x) and expected output (y) with **to_xy**.\n",
        "\n",
        "To encode categorical values that are part of the feature vector, use the functions from above.  If the categorical value is the target (as was the case with Iris, use the same technique as Iris). The iris technique allows you to decode back to Iris text strings from the predictions."
      ]
    },
    {
      "cell_type": "code",
      "metadata": {
        "id": "PXUbqjYwrP0I",
        "colab_type": "code",
        "outputId": "941f62c0-ce9c-4e1c-bcfa-9f278a8e6f2c",
        "colab": {
          "base_uri": "https://localhost:8080/",
          "height": 104
        }
      },
      "source": [
        "from tensorflow.keras.models import Sequential\n",
        "from tensorflow.keras.layers import Dense, Activation\n",
        "import pandas as pd\n",
        "import io\n",
        "import os\n",
        "import requests\n",
        "import numpy as np\n",
        "from sklearn import metrics\n",
        "\n",
        "df = pd.read_csv(\n",
        "    \"https://data.heatonresearch.com/data/t81-558/auto-mpg.csv\", \n",
        "    na_values=['NA', '?'])\n",
        "\n",
        "cars = df['name']\n",
        "\n",
        "# Handle missing value\n",
        "df['horsepower'] = df['horsepower'].fillna(df['horsepower'].median())\n",
        "\n",
        "# Pandas to Numpy\n",
        "x = df[['cylinders', 'displacement', 'horsepower', 'weight',\n",
        "       'acceleration', 'year', 'origin']].values\n",
        "y = df['mpg'].values # regression\n",
        "\n",
        "# Build the neural network\n",
        "model = Sequential()\n",
        "model.add(Dense(25, input_dim=x.shape[1], activation='relu')) # Hidden 1\n",
        "model.add(Dense(10, activation='relu')) # Hidden 2\n",
        "model.add(Dense(1)) # Output\n",
        "model.compile(loss='mean_squared_error', optimizer='adam')\n",
        "model.fit(x,y,verbose=0,epochs=100)"
      ],
      "execution_count": 1,
      "outputs": [
        {
          "output_type": "stream",
          "text": [
            "WARNING:tensorflow:From /usr/local/lib/python3.6/dist-packages/tensorflow_core/python/ops/resource_variable_ops.py:1630: calling BaseResourceVariable.__init__ (from tensorflow.python.ops.resource_variable_ops) with constraint is deprecated and will be removed in a future version.\n",
            "Instructions for updating:\n",
            "If using Keras pass *_constraint arguments to layers.\n"
          ],
          "name": "stdout"
        },
        {
          "output_type": "execute_result",
          "data": {
            "text/plain": [
              "<tensorflow.python.keras.callbacks.History at 0x7f1ab62c1978>"
            ]
          },
          "metadata": {
            "tags": []
          },
          "execution_count": 1
        }
      ]
    },
    {
      "cell_type": "code",
      "metadata": {
        "id": "PIB0jlO3ha-o",
        "colab_type": "code",
        "colab": {
          "base_uri": "https://localhost:8080/",
          "height": 34
        },
        "outputId": "08fb88fd-ac2b-4571-f4d3-d4e2343afd89"
      },
      "source": [
        "x.shape"
      ],
      "execution_count": 5,
      "outputs": [
        {
          "output_type": "execute_result",
          "data": {
            "text/plain": [
              "(398, 7)"
            ]
          },
          "metadata": {
            "tags": []
          },
          "execution_count": 5
        }
      ]
    },
    {
      "cell_type": "code",
      "metadata": {
        "id": "MI0VqQpPdgA_",
        "colab_type": "code",
        "outputId": "4252a823-56e1-4050-e2dd-566e8603a05e",
        "colab": {
          "base_uri": "https://localhost:8080/",
          "height": 252
        }
      },
      "source": [
        "model.summary()"
      ],
      "execution_count": 3,
      "outputs": [
        {
          "output_type": "stream",
          "text": [
            "Model: \"sequential\"\n",
            "_________________________________________________________________\n",
            "Layer (type)                 Output Shape              Param #   \n",
            "=================================================================\n",
            "dense (Dense)                (None, 25)                200       \n",
            "_________________________________________________________________\n",
            "dense_1 (Dense)              (None, 10)                260       \n",
            "_________________________________________________________________\n",
            "dense_2 (Dense)              (None, 1)                 11        \n",
            "=================================================================\n",
            "Total params: 471\n",
            "Trainable params: 471\n",
            "Non-trainable params: 0\n",
            "_________________________________________________________________\n"
          ],
          "name": "stdout"
        }
      ]
    },
    {
      "cell_type": "code",
      "metadata": {
        "id": "fIpNft2jh4Bo",
        "colab_type": "code",
        "colab": {
          "base_uri": "https://localhost:8080/",
          "height": 34
        },
        "outputId": "6c8bc989-a11f-4407-836b-4768536c8a04"
      },
      "source": [
        "[ [w.shape for w in l.get_weights()] for l in model.layers]"
      ],
      "execution_count": 7,
      "outputs": [
        {
          "output_type": "execute_result",
          "data": {
            "text/plain": [
              "[[(7, 25), (25,)], [(25, 10), (10,)], [(10, 1), (1,)]]"
            ]
          },
          "metadata": {
            "tags": []
          },
          "execution_count": 7
        }
      ]
    },
    {
      "cell_type": "markdown",
      "metadata": {
        "id": "7Ot0pnA2rP0L",
        "colab_type": "text"
      },
      "source": [
        "### Introduction to Neural Network Hyperparameters\n",
        "\n",
        "If you look at the above code you will see that the neural network is made up of 4 layers.  The first layer is the input layer.  This is specified by **input_dim** and it is set to be the number of inputs that the dataset has.  One input neuron is needed for ever input (including dummy variables).  However, there are also several hidden layers, with 25 and 10 neurons each. You might be wondering how these numbers were chosen?  This is one of the most common questions about neural networks.  Unfortunately, there is not a good answer.  These are hyperparameters.  They are settings that can affect neural network performance, yet there is not a clearly defined means of setting them.\n",
        "\n",
        "In general, more hidden neurons mean more capability to fit to complex problems.  However, too many neurons can lead to overfitting and lengthy training times.  Too few can lead to underfitting the problem and will sacrifice accuracy.  Also, how many layers you have is another hyperparameter.  In general, more layers allow the neural network to be able to perform more of its own feature engineering and data preprocessing.  But this also comes at the expense of training times and risk of overfitting.  In general, you will see that neuron counts start out larger near the input layer and tend to shrink towards the output layer in a sort of triangular fashion. \n",
        "\n",
        "There are techniques that use machine learning to optimize these values.  These will be discussed in [Module 8.3](t81_558_class_08_3_keras_hyperparameters.ipynb).\n",
        "\n",
        "### Controlling the Amount of Output\n",
        "\n",
        "One line is produced for each training epoch.  You can eliminate this output by setting the verbose setting of the fit command:\n",
        "\n",
        "* **verbose=0** - No progress output (use with Juputer if you do not want output)\n",
        "* **verbose=1** - Display progress bar, does not work well with Jupyter\n",
        "* **verbose=2** - Summary progress output (use with Jupyter if you want to know the loss at each epoch)\n",
        "\n",
        "### Regression Prediction"
      ]
    },
    {
      "cell_type": "markdown",
      "metadata": {
        "id": "gknpbZn3rP0M",
        "colab_type": "text"
      },
      "source": [
        "Next, we will perform actual predictions.  These predictions are assigned to the **pred** variable. These are all MPG predictions from the neural network.  Notice that this is a 2D array?  You can always see the dimensions of what is returned by printing out **pred.shape**.  Neural networks can return multiple values, so the result is always an array.  Here the neural network only returns 1 value per prediction (there are 398 cars, so 398 predictions).  However, a 2D array is needed because the neural network has the potential of returning more than one value.   "
      ]
    },
    {
      "cell_type": "code",
      "metadata": {
        "id": "2hgiWp6wrP0N",
        "colab_type": "code",
        "outputId": "9fdeb4b5-3ace-4d1b-a71d-b4cf4d1b0531",
        "colab": {
          "base_uri": "https://localhost:8080/",
          "height": 67
        }
      },
      "source": [
        "pred = model.predict(x)\n",
        "print(\"Shape: {}\".format(pred.shape))\n",
        "#print(pred)\n",
        "pred[0:2]"
      ],
      "execution_count": 18,
      "outputs": [
        {
          "output_type": "stream",
          "text": [
            "Shape: (398, 1)\n"
          ],
          "name": "stdout"
        },
        {
          "output_type": "execute_result",
          "data": {
            "text/plain": [
              "array([[10.437843],\n",
              "       [ 8.124422]], dtype=float32)"
            ]
          },
          "metadata": {
            "tags": []
          },
          "execution_count": 18
        }
      ]
    },
    {
      "cell_type": "code",
      "metadata": {
        "id": "Mpo2MBK2ifRi",
        "colab_type": "code",
        "colab": {
          "base_uri": "https://localhost:8080/",
          "height": 50
        },
        "outputId": "3aff0fa6-2734-44ae-e396-222516e0335c"
      },
      "source": [
        "l0_pred = np.add(np.dot(x, model.layers[0].get_weights()[0]),\n",
        "                 model.layers[0].get_weights()[1])\n",
        "l0_pred[l0_pred < 0] = 0\n",
        "l1_pred = np.add(np.dot(l0_pred, model.layers[1].get_weights()[0]),\n",
        "                 model.layers[1].get_weights()[1])\n",
        "l1_pred[l1_pred < 0] = 0\n",
        "l2_pred = np.add(np.dot(l1_pred, model.layers[2].get_weights()[0]),\n",
        "                 model.layers[2].get_weights()[1])\n",
        "l2_pred[0:2]"
      ],
      "execution_count": 17,
      "outputs": [
        {
          "output_type": "execute_result",
          "data": {
            "text/plain": [
              "array([[10.43782833],\n",
              "       [ 8.12439735]])"
            ]
          },
          "metadata": {
            "tags": []
          },
          "execution_count": 17
        }
      ]
    },
    {
      "cell_type": "markdown",
      "metadata": {
        "id": "dP4IgoyGrP0O",
        "colab_type": "text"
      },
      "source": [
        "We would like to see how good these predictions are.  We know what the correct MPG is for each car, so we can measure how close the neural network was."
      ]
    },
    {
      "cell_type": "code",
      "metadata": {
        "id": "9_btF_MsrP0P",
        "colab_type": "code",
        "outputId": "354e969e-acac-4d36-ddbc-ca73f33547f1",
        "colab": {
          "base_uri": "https://localhost:8080/",
          "height": 34
        }
      },
      "source": [
        "# Measure RMSE error.  RMSE is common for regression.\n",
        "score = np.sqrt(metrics.mean_squared_error(pred,y))\n",
        "print(f\"Final score (RMSE): {score}\")"
      ],
      "execution_count": 19,
      "outputs": [
        {
          "output_type": "stream",
          "text": [
            "Final score (RMSE): 7.634018780961004\n"
          ],
          "name": "stdout"
        }
      ]
    },
    {
      "cell_type": "markdown",
      "metadata": {
        "id": "ctrXOaAarP0R",
        "colab_type": "text"
      },
      "source": [
        "This means that, on average the predictions were within +/- 5.89 values of the correct value.  This is not very good, but we will soon see how to improve it.\n",
        "\n",
        "We can also print out the first 10 cars, with predictions and actual MPG."
      ]
    },
    {
      "cell_type": "code",
      "metadata": {
        "id": "bXtNzeG1rP0R",
        "colab_type": "code",
        "outputId": "e1983918-432b-4090-f708-8a0708d2177f",
        "colab": {
          "base_uri": "https://localhost:8080/",
          "height": 185
        }
      },
      "source": [
        "# Sample predictions\n",
        "for i in range(10):\n",
        "    print(f\"{i+1}. Car name: {cars[i]}, MPG: {y[i]}, predicted MPG: {pred[i][0]}\")"
      ],
      "execution_count": 20,
      "outputs": [
        {
          "output_type": "stream",
          "text": [
            "1. Car name: chevrolet chevelle malibu, MPG: 18.0, predicted MPG: 10.437843322753906\n",
            "2. Car name: buick skylark 320, MPG: 15.0, predicted MPG: 8.124422073364258\n",
            "3. Car name: plymouth satellite, MPG: 18.0, predicted MPG: 8.8204345703125\n",
            "4. Car name: amc rebel sst, MPG: 16.0, predicted MPG: 11.030278205871582\n",
            "5. Car name: ford torino, MPG: 17.0, predicted MPG: 10.68757152557373\n",
            "6. Car name: ford galaxie 500, MPG: 15.0, predicted MPG: 5.780906677246094\n",
            "7. Car name: chevrolet impala, MPG: 14.0, predicted MPG: 3.2046427726745605\n",
            "8. Car name: plymouth fury iii, MPG: 14.0, predicted MPG: 4.373351573944092\n",
            "9. Car name: pontiac catalina, MPG: 14.0, predicted MPG: 4.377720355987549\n",
            "10. Car name: amc ambassador dpl, MPG: 15.0, predicted MPG: 4.823424816131592\n"
          ],
          "name": "stdout"
        }
      ]
    },
    {
      "cell_type": "markdown",
      "metadata": {
        "id": "PB5i1QiJrP0W",
        "colab_type": "text"
      },
      "source": [
        "### Simple TensorFlow Classification: Iris\n",
        "\n",
        "This is a very simple example of how to perform the Iris classification using TensorFlow.  The iris.csv file is used, rather than using the built-in files that many of the Google examples require.  \n",
        "\n",
        "**Make sure that you always run previous code blocks.  If you run the code block below, without the codeblock above, you will get errors**"
      ]
    },
    {
      "cell_type": "code",
      "metadata": {
        "id": "AgZwJ2LdrP0X",
        "colab_type": "code",
        "colab": {}
      },
      "source": [
        "import pandas as pd\n",
        "import io\n",
        "import requests\n",
        "import numpy as np\n",
        "from sklearn import metrics\n",
        "from tensorflow.keras.models import Sequential\n",
        "from tensorflow.keras.layers import Dense, Activation\n",
        "from tensorflow.keras.callbacks import EarlyStopping\n",
        "\n",
        "df = pd.read_csv(\n",
        "    \"https://data.heatonresearch.com/data/t81-558/iris.csv\", \n",
        "    na_values=['NA', '?'])\n",
        "\n",
        "# Convert to numpy - Classification\n",
        "x = df[['sepal_l', 'sepal_w', 'petal_l', 'petal_w']].values\n",
        "dummies = pd.get_dummies(df['species']) # Classification\n",
        "species = dummies.columns\n",
        "y = dummies.values\n",
        "\n",
        "\n",
        "# Build neural network\n",
        "model = Sequential()\n",
        "model.add(Dense(50, input_dim=x.shape[1], activation='relu')) # Hidden 1\n",
        "model.add(Dense(25, activation='relu')) # Hidden 2\n",
        "model.add(Dense(y.shape[1],activation='softmax')) # Output\n",
        "\n",
        "model.compile(loss='categorical_crossentropy', optimizer='adam')"
      ],
      "execution_count": 0,
      "outputs": []
    },
    {
      "cell_type": "code",
      "metadata": {
        "id": "4VAzxNblnBvk",
        "colab_type": "code",
        "colab": {
          "base_uri": "https://localhost:8080/",
          "height": 252
        },
        "outputId": "106d2fed-bf3d-43bf-e536-4c10706dd987"
      },
      "source": [
        "model.summary()"
      ],
      "execution_count": 34,
      "outputs": [
        {
          "output_type": "stream",
          "text": [
            "Model: \"sequential_2\"\n",
            "_________________________________________________________________\n",
            "Layer (type)                 Output Shape              Param #   \n",
            "=================================================================\n",
            "dense_6 (Dense)              (None, 50)                250       \n",
            "_________________________________________________________________\n",
            "dense_7 (Dense)              (None, 25)                1275      \n",
            "_________________________________________________________________\n",
            "dense_8 (Dense)              (None, 3)                 78        \n",
            "=================================================================\n",
            "Total params: 1,603\n",
            "Trainable params: 1,603\n",
            "Non-trainable params: 0\n",
            "_________________________________________________________________\n"
          ],
          "name": "stdout"
        }
      ]
    },
    {
      "cell_type": "code",
      "metadata": {
        "id": "lyfZPV2LoJn1",
        "colab_type": "code",
        "colab": {
          "base_uri": "https://localhost:8080/",
          "height": 34
        },
        "outputId": "dd59f44c-3f76-4396-be2c-3fc971bc8625"
      },
      "source": [
        "x.shape"
      ],
      "execution_count": 35,
      "outputs": [
        {
          "output_type": "execute_result",
          "data": {
            "text/plain": [
              "(150, 4)"
            ]
          },
          "metadata": {
            "tags": []
          },
          "execution_count": 35
        }
      ]
    },
    {
      "cell_type": "code",
      "metadata": {
        "id": "RBVXSQcDoNi1",
        "colab_type": "code",
        "colab": {
          "base_uri": "https://localhost:8080/",
          "height": 34
        },
        "outputId": "748dc541-50cc-4836-ac79-8baec17b5776"
      },
      "source": [
        "(4 + 1) * 50 + (50 + 1) * 25 + (25 + 1) * 3"
      ],
      "execution_count": 41,
      "outputs": [
        {
          "output_type": "execute_result",
          "data": {
            "text/plain": [
              "1603"
            ]
          },
          "metadata": {
            "tags": []
          },
          "execution_count": 41
        }
      ]
    },
    {
      "cell_type": "code",
      "metadata": {
        "id": "X1YCvwtUm7DM",
        "colab_type": "code",
        "colab": {
          "base_uri": "https://localhost:8080/",
          "height": 34
        },
        "outputId": "02466929-570d-4de7-a1bf-e61ff976383d"
      },
      "source": [
        "model.fit(x,y,verbose=0,epochs=100)"
      ],
      "execution_count": 33,
      "outputs": [
        {
          "output_type": "execute_result",
          "data": {
            "text/plain": [
              "<tensorflow.python.keras.callbacks.History at 0x7f1aa9ac6cc0>"
            ]
          },
          "metadata": {
            "tags": []
          },
          "execution_count": 33
        }
      ]
    },
    {
      "cell_type": "code",
      "metadata": {
        "id": "7ODt0s8ZrP0Y",
        "colab_type": "code",
        "outputId": "e708b6e0-02a6-49f5-b502-108618495246",
        "colab": {
          "base_uri": "https://localhost:8080/",
          "height": 34
        }
      },
      "source": [
        "# Print out number of species found:\n",
        "\n",
        "print(species)"
      ],
      "execution_count": 22,
      "outputs": [
        {
          "output_type": "stream",
          "text": [
            "Index(['Iris-setosa', 'Iris-versicolor', 'Iris-virginica'], dtype='object')\n"
          ],
          "name": "stdout"
        }
      ]
    },
    {
      "cell_type": "markdown",
      "metadata": {
        "id": "VpbF9wbgrP0b",
        "colab_type": "text"
      },
      "source": [
        "Now that you have a neural network trained, we would like to be able to use it. The following code makes use of our neural network. Exactly like before, we will generate predictions.  Notice that 3 values come back for each of the 150 iris flowers.  There were 3 types of iris (Iris-setosa, Iris-versicolor, and Iris-virginica).  "
      ]
    },
    {
      "cell_type": "code",
      "metadata": {
        "id": "Q4Hn7bg4rP0b",
        "colab_type": "code",
        "outputId": "7e0cfd3d-3dcd-4cb2-9eb9-de5f88777adc",
        "colab": {
          "base_uri": "https://localhost:8080/",
          "height": 118
        }
      },
      "source": [
        "pred = model.predict(x)\n",
        "print(\"Shape: {pred.shape}\")\n",
        "print(pred[0:5])"
      ],
      "execution_count": 57,
      "outputs": [
        {
          "output_type": "stream",
          "text": [
            "Shape: {pred.shape}\n",
            "[[0.99956065 0.00043937 0.        ]\n",
            " [0.99829715 0.00170284 0.        ]\n",
            " [0.99919575 0.00080425 0.        ]\n",
            " [0.9984003  0.00159971 0.        ]\n",
            " [0.99962366 0.00037633 0.        ]]\n"
          ],
          "name": "stdout"
        }
      ]
    },
    {
      "cell_type": "code",
      "metadata": {
        "id": "pQyxOH3fptaF",
        "colab_type": "code",
        "colab": {}
      },
      "source": [
        "l0_pred = np.add(np.dot(x, model.layers[0].get_weights()[0]),\n",
        "                 model.layers[0].get_weights()[1])\n",
        "l0_pred[l0_pred < 0] = 0\n",
        "l1_pred = np.add(np.dot(l0_pred, model.layers[1].get_weights()[0]),\n",
        "                 model.layers[1].get_weights()[1])\n",
        "l1_pred[l1_pred < 0] = 0\n",
        "l2_pred = np.add(np.dot(l1_pred, model.layers[2].get_weights()[0]),\n",
        "                 model.layers[2].get_weights()[1])"
      ],
      "execution_count": 0,
      "outputs": []
    },
    {
      "cell_type": "code",
      "metadata": {
        "id": "xFbUEgdIqJSH",
        "colab_type": "code",
        "colab": {
          "base_uri": "https://localhost:8080/",
          "height": 101
        },
        "outputId": "45da40d7-3489-4edf-b0e1-93e9c0313034"
      },
      "source": [
        "from scipy.special import softmax\n",
        "softmax(l2_pred[0:5], axis=1)"
      ],
      "execution_count": 56,
      "outputs": [
        {
          "output_type": "execute_result",
          "data": {
            "text/plain": [
              "array([[0.99956062, 0.00043938, 0.        ],\n",
              "       [0.99829715, 0.00170285, 0.        ],\n",
              "       [0.99919575, 0.00080425, 0.        ],\n",
              "       [0.99840029, 0.00159971, 0.        ],\n",
              "       [0.99962367, 0.00037633, 0.        ]])"
            ]
          },
          "metadata": {
            "tags": []
          },
          "execution_count": 56
        }
      ]
    },
    {
      "cell_type": "code",
      "metadata": {
        "id": "7iwnyNuNrP0e",
        "colab_type": "code",
        "colab": {}
      },
      "source": [
        "# If you would like to turn of scientific notation, the following line can be used:\n",
        "np.set_printoptions(suppress=True)"
      ],
      "execution_count": 0,
      "outputs": []
    },
    {
      "cell_type": "code",
      "metadata": {
        "id": "lV-gv1_1rP0g",
        "colab_type": "code",
        "outputId": "3f6deb31-6202-485d-a077-15edfddf8f7e",
        "colab": {
          "base_uri": "https://localhost:8080/",
          "height": 185
        }
      },
      "source": [
        "# The to_xy function represented the input in the same way.  Each row has only 1.0 value because each row is only one type\n",
        "# of iris.  This is the training data, we KNOW what type of iris it is.  This is called one-hot encoding.  Only one value\n",
        "# is 1.0 (hot)\n",
        "print(y[0:10])"
      ],
      "execution_count": 25,
      "outputs": [
        {
          "output_type": "stream",
          "text": [
            "[[1 0 0]\n",
            " [1 0 0]\n",
            " [1 0 0]\n",
            " [1 0 0]\n",
            " [1 0 0]\n",
            " [1 0 0]\n",
            " [1 0 0]\n",
            " [1 0 0]\n",
            " [1 0 0]\n",
            " [1 0 0]]\n"
          ],
          "name": "stdout"
        }
      ]
    },
    {
      "cell_type": "code",
      "metadata": {
        "id": "x_7Twp_XrP0i",
        "colab_type": "code",
        "outputId": "4d502965-36dc-4ac3-c076-c824169f9549",
        "colab": {
          "base_uri": "https://localhost:8080/",
          "height": 185
        }
      },
      "source": [
        "# Usually the column (pred) with the highest prediction is considered to be the prediction of the neural network.  It is easy\n",
        "# to convert the predictions to the expected iris species.  The argmax function finds the index of the maximum prediction\n",
        "# for each row.\n",
        "predict_classes = np.argmax(pred,axis=1)\n",
        "expected_classes = np.argmax(y,axis=1)\n",
        "print(f\"Predictions: {predict_classes}\")\n",
        "print(f\"Expected: {expected_classes}\")"
      ],
      "execution_count": 26,
      "outputs": [
        {
          "output_type": "stream",
          "text": [
            "Predictions: [0 0 0 0 0 0 0 0 0 0 0 0 0 0 0 0 0 0 0 0 0 0 0 0 0 0 0 0 0 0 0 0 0 0 0 0 0\n",
            " 0 0 0 0 0 0 0 0 0 0 0 0 0 1 1 1 1 1 1 1 1 1 1 1 1 1 1 1 1 1 1 1 1 2 1 2 1\n",
            " 1 1 1 1 1 1 1 1 1 2 1 1 1 1 1 1 1 1 1 1 1 1 1 1 1 1 2 2 2 2 2 2 2 2 2 2 2\n",
            " 2 2 2 2 2 2 2 2 2 2 2 2 2 2 2 2 2 2 2 2 2 2 2 2 2 2 2 2 2 2 2 2 2 2 2 2 2\n",
            " 2 2]\n",
            "Expected: [0 0 0 0 0 0 0 0 0 0 0 0 0 0 0 0 0 0 0 0 0 0 0 0 0 0 0 0 0 0 0 0 0 0 0 0 0\n",
            " 0 0 0 0 0 0 0 0 0 0 0 0 0 1 1 1 1 1 1 1 1 1 1 1 1 1 1 1 1 1 1 1 1 1 1 1 1\n",
            " 1 1 1 1 1 1 1 1 1 1 1 1 1 1 1 1 1 1 1 1 1 1 1 1 1 1 2 2 2 2 2 2 2 2 2 2 2\n",
            " 2 2 2 2 2 2 2 2 2 2 2 2 2 2 2 2 2 2 2 2 2 2 2 2 2 2 2 2 2 2 2 2 2 2 2 2 2\n",
            " 2 2]\n"
          ],
          "name": "stdout"
        }
      ]
    },
    {
      "cell_type": "code",
      "metadata": {
        "id": "xz8vISOOrP0l",
        "colab_type": "code",
        "outputId": "32ad94e2-0e30-4200-923d-e465e498741a",
        "colab": {
          "base_uri": "https://localhost:8080/",
          "height": 84
        }
      },
      "source": [
        "# Of course it is very easy to turn these indexes back into iris species.  We just use the species list that we created earlier.\n",
        "print(species[predict_classes[1:10]])"
      ],
      "execution_count": 27,
      "outputs": [
        {
          "output_type": "stream",
          "text": [
            "Index(['Iris-setosa', 'Iris-setosa', 'Iris-setosa', 'Iris-setosa',\n",
            "       'Iris-setosa', 'Iris-setosa', 'Iris-setosa', 'Iris-setosa',\n",
            "       'Iris-setosa'],\n",
            "      dtype='object')\n"
          ],
          "name": "stdout"
        }
      ]
    },
    {
      "cell_type": "code",
      "metadata": {
        "id": "YE9d7ZfvrP0n",
        "colab_type": "code",
        "outputId": "51841e50-dfbe-4942-9d0d-2555b876161b",
        "colab": {
          "base_uri": "https://localhost:8080/",
          "height": 34
        }
      },
      "source": [
        "from sklearn.metrics import accuracy_score\n",
        "# Accuracy might be a more easily understood error metric.  It is essentially a test score.  For all of the iris predictions,\n",
        "# what percent were correct?  The downside is it does not consider how confident the neural network was in each prediction.\n",
        "correct = accuracy_score(expected_classes,predict_classes)\n",
        "print(f\"Accuracy: {correct}\")"
      ],
      "execution_count": 28,
      "outputs": [
        {
          "output_type": "stream",
          "text": [
            "Accuracy: 0.98\n"
          ],
          "name": "stdout"
        }
      ]
    },
    {
      "cell_type": "markdown",
      "metadata": {
        "id": "BrWpXZy5rP0p",
        "colab_type": "text"
      },
      "source": [
        "The code below performs two ad hoc predictions.  The first prediction is simply a single iris flower.  The second predicts two iris flowers.  Notice that the argmax in the second prediction requires **axis=1**?  Since we have a 2D array now, we must specify which axis to take the argmax over.  The value **axis=1** specifies we want the max column index for each row."
      ]
    },
    {
      "cell_type": "code",
      "metadata": {
        "id": "Gb7NogZyrP0q",
        "colab_type": "code",
        "outputId": "d18dc50a-ecd0-4507-9232-aeb1a3024ecc",
        "colab": {
          "base_uri": "https://localhost:8080/",
          "height": 50
        }
      },
      "source": [
        "# ad hoc prediction\n",
        "sample_flower = np.array( [[5.0,3.0,4.0,2.0]], dtype=float)\n",
        "pred = model.predict(sample_flower)\n",
        "print(pred)\n",
        "pred = np.argmax(pred)\n",
        "print(f\"Predict that {sample_flower} is: {species[pred]}\")\n",
        "\n"
      ],
      "execution_count": 29,
      "outputs": [
        {
          "output_type": "stream",
          "text": [
            "[[0.00121234 0.3433014  0.6554863 ]]\n",
            "Predict that [[5. 3. 4. 2.]] is: Iris-virginica\n"
          ],
          "name": "stdout"
        }
      ]
    },
    {
      "cell_type": "code",
      "metadata": {
        "id": "Qk-2V8w8rP0t",
        "colab_type": "code",
        "outputId": "04c7f9f3-b18c-48ea-a67d-7e9154f59652",
        "colab": {
          "base_uri": "https://localhost:8080/",
          "height": 84
        }
      },
      "source": [
        "# predict two sample flowers\n",
        "sample_flower = np.array( [[5.0,3.0,4.0,2.0],[5.2,3.5,1.5,0.8]], dtype=float)\n",
        "pred = model.predict(sample_flower)\n",
        "print(pred)\n",
        "pred = np.argmax(pred,axis=1)\n",
        "print(f\"Predict that these two flowers {sample_flower} are: {species[pred]}\")"
      ],
      "execution_count": 30,
      "outputs": [
        {
          "output_type": "stream",
          "text": [
            "[[0.00121234 0.34330133 0.65548635]\n",
            " [0.98994863 0.01005133 0.00000003]]\n",
            "Predict that these two flowers [[5.  3.  4.  2. ]\n",
            " [5.2 3.5 1.5 0.8]] are: Index(['Iris-virginica', 'Iris-setosa'], dtype='object')\n"
          ],
          "name": "stdout"
        }
      ]
    }
  ]
}